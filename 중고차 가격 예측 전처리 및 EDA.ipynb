{
 "cells": [
  {
   "cell_type": "markdown",
   "metadata": {},
   "source": [
    "## 전처리 순서\n",
    "1. 데이터 피처 확인\n",
    "2. 결측치 처리\n",
    "3. 라벨링으로 문자열 데이터 처리\n",
    "4. 이상치 데이터 처리\n",
    "5. 숫자열 데이터 시각화\n",
    "6. StandardScaler와 로그변환 활용하여 데이터 표준정규화\n",
    "7. EDA 분석(히트맵, 파이차트)\n",
    "8. 남은 문자열 데이터 원핫 인코딩"
   ]
  },
  {
   "cell_type": "code",
   "execution_count": 34,
   "metadata": {},
   "outputs": [
    {
     "name": "stdout",
     "output_type": "stream",
     "text": [
      "Package                            Version\n",
      "Note: you may need to restart the kernel to use updated packages.---------------------------------- -------------------\n",
      "-5py                               2.10.0\n",
      "-cikit-learn                       0.24.1\n",
      "-umpy                              1.20.1\n",
      "\n",
      "absl-py                            0.13.0\n",
      "alabaster                          0.7.12\n",
      "anaconda-client                    1.7.2\n",
      "anaconda-navigator                 2.0.3\n",
      "anaconda-project                   0.9.1\n",
      "anyio                              2.2.0\n",
      "appdirs                            1.4.4\n",
      "argh                               0.26.2\n",
      "argon2-cffi                        20.1.0\n",
      "asgiref                            3.4.1\n",
      "asn1crypto                         1.4.0\n",
      "astroid                            2.5\n",
      "astropy                            4.2.1\n",
      "astunparse                         1.6.3\n",
      "async-generator                    1.10\n",
      "atomicwrites                       1.4.0\n",
      "attrs                              20.3.0\n",
      "autopep8                           1.5.6\n",
      "Babel                              2.9.0\n",
      "backcall                           0.2.0\n",
      "backports.functools-lru-cache      1.6.4\n",
      "backports.shutil-get-terminal-size 1.0.0\n",
      "backports.tempfile                 1.0\n",
      "backports.weakref                  1.0.post1\n",
      "bcrypt                             3.2.0\n",
      "beautifulsoup4                     4.9.3\n",
      "bitarray                           1.9.2\n",
      "bkcharts                           0.2\n",
      "black                              19.10b0\n",
      "bleach                             3.3.0\n",
      "bokeh                              2.3.2\n",
      "boto                               2.49.0\n",
      "Bottleneck                         1.3.2\n",
      "branca                             0.4.2\n",
      "brotlipy                           0.7.0\n",
      "cachetools                         4.2.2\n",
      "certifi                            2020.12.5\n",
      "cffi                               1.14.5\n",
      "chardet                            4.0.0\n",
      "clang                              5.0\n",
      "click                              7.1.2\n",
      "cloudpickle                        1.6.0\n",
      "clyent                             1.2.2\n",
      "colorama                           0.4.4\n",
      "comtypes                           1.1.9\n",
      "conda                              4.10.3\n",
      "conda-build                        3.21.4\n",
      "conda-content-trust                0+unknown\n",
      "conda-package-handling             1.7.3\n",
      "conda-repo-cli                     1.0.4\n",
      "conda-token                        0.3.0\n",
      "conda-verify                       3.4.2\n",
      "contextlib2                        0.6.0.post1\n",
      "cryptography                       3.4.7\n",
      "cycler                             0.10.0\n",
      "Cython                             0.29.23\n",
      "cytoolz                            0.11.0\n",
      "dask                               2021.4.0\n",
      "decorator                          5.0.6\n",
      "defusedxml                         0.7.1\n",
      "diff-match-patch                   20200713\n",
      "distributed                        2021.4.0\n",
      "Django                             3.2.6\n",
      "docutils                           0.17\n",
      "entrypoints                        0.3\n",
      "et-xmlfile                         1.0.1\n",
      "fastcache                          1.1.0\n",
      "filelock                           3.0.12\n",
      "flake8                             3.9.0\n",
      "Flask                              1.1.2\n",
      "flatbuffers                        1.12\n",
      "folium                             0.12.1\n",
      "fsspec                             0.9.0\n",
      "future                             0.18.2\n",
      "gast                               0.4.0\n",
      "gevent                             21.1.2\n",
      "glob2                              0.7\n",
      "google-auth                        1.35.0\n",
      "google-auth-oauthlib               0.4.6\n",
      "google-pasta                       0.2.0\n",
      "googlemaps                         4.5.3\n",
      "graphviz                           0.17\n",
      "greenlet                           1.0.0\n",
      "grpcio                             1.40.0\n",
      "h5py                               3.1.0\n",
      "HeapDict                           1.0.1\n",
      "html5lib                           1.1\n",
      "idna                               2.10\n",
      "imagecodecs                        2021.3.31\n",
      "imageio                            2.9.0\n",
      "imagesize                          1.2.0\n",
      "imbalanced-learn                   0.8.0\n",
      "importlib-metadata                 3.10.0\n",
      "iniconfig                          1.1.1\n",
      "intervaltree                       3.1.0\n",
      "ipykernel                          5.3.4\n",
      "ipython                            7.22.0\n",
      "ipython-genutils                   0.2.0\n",
      "ipywidgets                         7.6.3\n",
      "isort                              5.8.0\n",
      "itsdangerous                       1.1.0\n",
      "jdcal                              1.4.1\n",
      "jedi                               0.17.2\n",
      "Jinja2                             2.11.3\n",
      "joblib                             1.0.1\n",
      "json5                              0.9.5\n",
      "jsonschema                         3.2.0\n",
      "jupyter                            1.0.0\n",
      "jupyter-client                     6.1.12\n",
      "jupyter-console                    6.4.0\n",
      "jupyter-core                       4.7.1\n",
      "jupyter-packaging                  0.7.12\n",
      "jupyter-server                     1.4.1\n",
      "jupyterlab                         3.0.14\n",
      "jupyterlab-pygments                0.1.2\n",
      "jupyterlab-server                  2.4.0\n",
      "jupyterlab-widgets                 1.0.0\n",
      "keras                              2.6.0\n",
      "Keras-Preprocessing                1.1.2\n",
      "keyring                            22.3.0\n",
      "kiwisolver                         1.3.1\n",
      "lazy-object-proxy                  1.6.0\n",
      "libarchive-c                       2.9\n",
      "lightgbm                           3.2.1\n",
      "llvmlite                           0.36.0\n",
      "locket                             0.2.1\n",
      "lxml                               4.6.3\n",
      "Markdown                           3.3.4\n",
      "MarkupSafe                         1.1.1\n",
      "matplotlib                         3.3.4\n",
      "mccabe                             0.6.1\n",
      "menuinst                           1.4.16\n",
      "mistune                            0.8.4\n",
      "mkl-fft                            1.3.0\n",
      "mkl-random                         1.2.1\n",
      "mkl-service                        2.3.0\n",
      "mock                               4.0.3\n",
      "more-itertools                     8.7.0\n",
      "mpmath                             1.2.1\n",
      "msgpack                            1.0.2\n",
      "multipledispatch                   0.6.0\n",
      "mypy-extensions                    0.4.3\n",
      "navigator-updater                  0.2.1\n",
      "nbclassic                          0.2.6\n",
      "nbclient                           0.5.3\n",
      "nbconvert                          6.0.7\n",
      "nbformat                           5.1.3\n",
      "nest-asyncio                       1.5.1\n",
      "networkx                           2.5\n",
      "nltk                               3.6.1\n",
      "nose                               1.3.7\n",
      "notebook                           6.3.0\n",
      "numba                              0.53.1\n",
      "numexpr                            2.7.3\n",
      "numpy                              1.19.5\n",
      "numpydoc                           1.1.0\n",
      "oauthlib                           3.1.1\n",
      "olefile                            0.46\n",
      "openpyxl                           3.0.7\n",
      "opt-einsum                         3.3.0\n",
      "packaging                          20.9\n",
      "pandas                             1.2.4\n",
      "pandocfilters                      1.4.3\n",
      "paramiko                           2.7.2\n",
      "parso                              0.7.0\n",
      "partd                              1.2.0\n",
      "path                               15.1.2\n",
      "pathlib2                           2.3.5\n",
      "pathspec                           0.7.0\n",
      "patsy                              0.5.1\n",
      "pep8                               1.7.1\n",
      "pexpect                            4.8.0\n",
      "pickleshare                        0.7.5\n",
      "Pillow                             8.2.0\n",
      "pip                                21.0.1\n",
      "pkginfo                            1.7.0\n",
      "plotly                             5.3.1\n",
      "pluggy                             0.13.1\n",
      "ply                                3.11\n",
      "prometheus-client                  0.10.1\n",
      "prompt-toolkit                     3.0.17\n",
      "protobuf                           3.17.3\n",
      "psutil                             5.8.0\n",
      "ptyprocess                         0.7.0\n",
      "py                                 1.10.0\n",
      "pyasn1                             0.4.8\n",
      "pyasn1-modules                     0.2.8\n",
      "pycodestyle                        2.6.0\n",
      "pycosat                            0.6.3\n",
      "pycparser                          2.20\n",
      "pycurl                             7.43.0.6\n",
      "pydocstyle                         6.0.0\n",
      "pyerfa                             1.7.3\n",
      "pyflakes                           2.2.0\n",
      "Pygments                           2.8.1\n",
      "pylint                             2.7.4\n",
      "pyls-black                         0.4.6\n",
      "pyls-spyder                        0.3.2\n",
      "PyMySQL                            1.0.2\n",
      "PyNaCl                             1.4.0\n",
      "pyodbc                             4.0.0-unsupported\n",
      "pyOpenSSL                          20.0.1\n",
      "pyparsing                          2.4.7\n",
      "pyreadline                         2.1\n",
      "pyrsistent                         0.17.3\n",
      "PySocks                            1.7.1\n",
      "pytest                             6.2.3\n",
      "python-dateutil                    2.8.1\n",
      "python-jsonrpc-server              0.4.0\n",
      "python-language-server             0.36.2\n",
      "pytz                               2021.1\n",
      "PyWavelets                         1.1.1\n",
      "pywin32                            227\n",
      "pywin32-ctypes                     0.2.0\n",
      "pywinpty                           0.5.7\n",
      "PyYAML                             5.4.1\n",
      "pyzmq                              20.0.0\n",
      "QDarkStyle                         2.8.1\n",
      "QtAwesome                          1.0.2\n",
      "qtconsole                          5.0.3\n",
      "QtPy                               1.9.0\n",
      "regex                              2021.4.4\n",
      "requests                           2.25.1\n",
      "requests-oauthlib                  1.3.0\n",
      "rope                               0.18.0\n",
      "rsa                                4.7.2\n",
      "Rtree                              0.9.7\n",
      "ruamel-yaml-conda                  0.15.100\n",
      "scikit-image                       0.18.1\n",
      "scikit-learn                       1.0.1\n",
      "scipy                              1.6.2\n",
      "seaborn                            0.11.1\n",
      "selenium                           3.141.0\n",
      "Send2Trash                         1.5.0\n",
      "setuptools                         52.0.0.post20210125\n",
      "simplegeneric                      0.8.1\n",
      "singledispatch                     0.0.0\n",
      "sip                                4.19.13\n",
      "six                                1.15.0\n",
      "sniffio                            1.2.0\n",
      "snowballstemmer                    2.1.0\n",
      "sortedcollections                  2.1.0\n",
      "sortedcontainers                   2.3.0\n",
      "soupsieve                          2.2.1\n",
      "Sphinx                             4.0.1\n",
      "sphinxcontrib-applehelp            1.0.2\n",
      "sphinxcontrib-devhelp              1.0.2\n",
      "sphinxcontrib-htmlhelp             1.0.3\n",
      "sphinxcontrib-jsmath               1.0.1\n",
      "sphinxcontrib-qthelp               1.0.3\n",
      "sphinxcontrib-serializinghtml      1.1.4\n",
      "sphinxcontrib-websupport           1.2.4\n",
      "spyder                             4.2.5\n",
      "spyder-kernels                     1.10.2\n",
      "SQLAlchemy                         1.4.7\n",
      "sqlparse                           0.4.1\n",
      "statsmodels                        0.12.2\n",
      "sympy                              1.8\n",
      "tables                             3.6.1\n",
      "tblib                              1.7.0\n",
      "tenacity                           8.0.1\n",
      "tensorboard                        2.6.0\n",
      "tensorboard-data-server            0.6.1\n",
      "tensorboard-plugin-wit             1.8.0\n",
      "tensorflow                         2.6.0\n",
      "tensorflow-estimator               2.6.0\n",
      "termcolor                          1.1.0\n",
      "terminado                          0.9.4\n",
      "testpath                           0.4.4\n",
      "textdistance                       4.2.1\n",
      "threadpoolctl                      2.1.0\n",
      "three-merge                        0.1.1\n",
      "tifffile                           2021.4.8\n",
      "toml                               0.10.2\n",
      "toolz                              0.11.1\n",
      "tornado                            6.1\n",
      "tqdm                               4.59.0\n",
      "traitlets                          5.0.5\n",
      "typed-ast                          1.4.2\n",
      "typing-extensions                  3.7.4.3\n",
      "ujson                              4.0.2\n",
      "unicodecsv                         0.14.1\n",
      "urllib3                            1.26.4\n",
      "watchdog                           1.0.2\n",
      "wcwidth                            0.2.5\n",
      "webencodings                       0.5.1\n",
      "Werkzeug                           1.0.1\n",
      "wheel                              0.36.2\n",
      "widgetsnbextension                 3.5.1\n",
      "win-inet-pton                      1.1.0\n",
      "win-unicode-console                0.5\n",
      "wincertstore                       0.2\n",
      "wrapt                              1.12.1\n",
      "xlrd                               2.0.1\n",
      "XlsxWriter                         1.3.8\n",
      "xlwings                            0.23.0\n",
      "xlwt                               1.3.0\n",
      "xmltodict                          0.12.0\n",
      "yapf                               0.31.0\n",
      "zict                               2.0.0\n",
      "zipp                               3.4.1\n",
      "zope.event                         4.5.0\n",
      "zope.interface                     5.3.0\n"
     ]
    }
   ],
   "source": [
    "pip list"
   ]
  },
  {
   "cell_type": "code",
   "execution_count": 32,
   "metadata": {},
   "outputs": [
    {
     "name": "stdout",
     "output_type": "stream",
     "text": [
      "Requirement already satisfied: scikit-learn in c:\\programdata\\anaconda3\\lib\\site-packages (0.24.1)Note: you may need to restart the kernel to use updated packages.\n",
      "\n",
      "Collecting scikit-learn\n",
      "  Downloading scikit_learn-1.0.1-cp38-cp38-win_amd64.whl (7.2 MB)\n",
      "Requirement already satisfied: numpy>=1.14.6 in c:\\programdata\\anaconda3\\lib\\site-packages (from scikit-learn) (1.19.5)\n",
      "Requirement already satisfied: scipy>=1.1.0 in c:\\programdata\\anaconda3\\lib\\site-packages (from scikit-learn) (1.6.2)\n",
      "Requirement already satisfied: joblib>=0.11 in c:\\programdata\\anaconda3\\lib\\site-packages (from scikit-learn) (1.0.1)\n",
      "Requirement already satisfied: threadpoolctl>=2.0.0 in c:\\programdata\\anaconda3\\lib\\site-packages (from scikit-learn) (2.1.0)\n",
      "Installing collected packages: scikit-learn\n",
      "  Attempting uninstall: scikit-learn\n",
      "    Found existing installation: scikit-learn 0.24.1\n",
      "    Uninstalling scikit-learn-0.24.1:\n"
     ]
    },
    {
     "name": "stderr",
     "output_type": "stream",
     "text": [
      "ERROR: Could not install packages due to an OSError: [WinError 5] 액세스가 거부되었습니다: 'c:\\\\programdata\\\\anaconda3\\\\lib\\\\site-packages\\\\scikit_learn-0.24.1.dist-info\\\\COPYING'\n",
      "Consider using the `--user` option or check the permissions.\n",
      "\n"
     ]
    }
   ],
   "source": [
    "pip install -U scikit-learn"
   ]
  },
  {
   "cell_type": "code",
   "execution_count": 1,
   "metadata": {},
   "outputs": [],
   "source": [
    "import warnings\n",
    "warnings.filterwarnings('ignore')\n",
    "import pandas as pd\n",
    "import numpy as np\n",
    "import seaborn as sns\n",
    "import matplotlib.pyplot as plt\n",
    "import plotly.express as px\n",
    "%matplotlib inline\n",
    "from matplotlib import font_manager, rc\n",
    "\n",
    "path = \"c:/Windows/Fonts/malgun.ttf\"\n",
    "font_name = font_manager.FontProperties(fname=path).get_name()\n",
    "rc('font', family=font_name)\n",
    "\n",
    "# Target 값 : price"
   ]
  },
  {
   "cell_type": "code",
   "execution_count": 2,
   "metadata": {},
   "outputs": [
    {
     "data": {
      "text/html": [
       "<div>\n",
       "<style scoped>\n",
       "    .dataframe tbody tr th:only-of-type {\n",
       "        vertical-align: middle;\n",
       "    }\n",
       "\n",
       "    .dataframe tbody tr th {\n",
       "        vertical-align: top;\n",
       "    }\n",
       "\n",
       "    .dataframe thead th {\n",
       "        text-align: right;\n",
       "    }\n",
       "</style>\n",
       "<table border=\"1\" class=\"dataframe\">\n",
       "  <thead>\n",
       "    <tr style=\"text-align: right;\">\n",
       "      <th></th>\n",
       "      <th>Unnamed: 0</th>\n",
       "      <th>brand</th>\n",
       "      <th>name</th>\n",
       "      <th>type</th>\n",
       "      <th>km</th>\n",
       "      <th>year</th>\n",
       "      <th>accident</th>\n",
       "      <th>color</th>\n",
       "      <th>location</th>\n",
       "      <th>price</th>\n",
       "      <th>wd</th>\n",
       "      <th>trim</th>\n",
       "    </tr>\n",
       "  </thead>\n",
       "  <tbody>\n",
       "    <tr>\n",
       "      <th>0</th>\n",
       "      <td>0</td>\n",
       "      <td>기아</td>\n",
       "      <td>K5</td>\n",
       "      <td>가솔린</td>\n",
       "      <td>110575</td>\n",
       "      <td>2011</td>\n",
       "      <td>무사고</td>\n",
       "      <td>검정색</td>\n",
       "      <td>인천</td>\n",
       "      <td>650</td>\n",
       "      <td>2WD</td>\n",
       "      <td>1</td>\n",
       "    </tr>\n",
       "    <tr>\n",
       "      <th>1</th>\n",
       "      <td>1</td>\n",
       "      <td>기아</td>\n",
       "      <td>K5</td>\n",
       "      <td>가솔린</td>\n",
       "      <td>106819</td>\n",
       "      <td>2014</td>\n",
       "      <td>무사고</td>\n",
       "      <td>검정색</td>\n",
       "      <td>인천</td>\n",
       "      <td>940</td>\n",
       "      <td>2WD</td>\n",
       "      <td>1</td>\n",
       "    </tr>\n",
       "    <tr>\n",
       "      <th>2</th>\n",
       "      <td>2</td>\n",
       "      <td>기아</td>\n",
       "      <td>K5</td>\n",
       "      <td>가솔린</td>\n",
       "      <td>29151</td>\n",
       "      <td>2019</td>\n",
       "      <td>무사고</td>\n",
       "      <td>검정색</td>\n",
       "      <td>충북</td>\n",
       "      <td>1890</td>\n",
       "      <td>2WD</td>\n",
       "      <td>1</td>\n",
       "    </tr>\n",
       "    <tr>\n",
       "      <th>3</th>\n",
       "      <td>3</td>\n",
       "      <td>기아</td>\n",
       "      <td>K5</td>\n",
       "      <td>가솔린</td>\n",
       "      <td>8766</td>\n",
       "      <td>2021</td>\n",
       "      <td>무사고</td>\n",
       "      <td>검정색</td>\n",
       "      <td>경기</td>\n",
       "      <td>3190</td>\n",
       "      <td>2WD</td>\n",
       "      <td>1</td>\n",
       "    </tr>\n",
       "    <tr>\n",
       "      <th>4</th>\n",
       "      <td>4</td>\n",
       "      <td>기아</td>\n",
       "      <td>K5</td>\n",
       "      <td>가솔린</td>\n",
       "      <td>101196</td>\n",
       "      <td>2012</td>\n",
       "      <td>무사고</td>\n",
       "      <td>검정색</td>\n",
       "      <td>대구</td>\n",
       "      <td>820</td>\n",
       "      <td>2WD</td>\n",
       "      <td>2</td>\n",
       "    </tr>\n",
       "  </tbody>\n",
       "</table>\n",
       "</div>"
      ],
      "text/plain": [
       "   Unnamed: 0 brand name type      km  year accident color location  price  \\\n",
       "0           0    기아   K5  가솔린  110575  2011      무사고   검정색       인천    650   \n",
       "1           1    기아   K5  가솔린  106819  2014      무사고   검정색       인천    940   \n",
       "2           2    기아   K5  가솔린   29151  2019      무사고   검정색       충북   1890   \n",
       "3           3    기아   K5  가솔린    8766  2021      무사고   검정색       경기   3190   \n",
       "4           4    기아   K5  가솔린  101196  2012      무사고   검정색       대구    820   \n",
       "\n",
       "    wd  trim  \n",
       "0  2WD     1  \n",
       "1  2WD     1  \n",
       "2  2WD     1  \n",
       "3  2WD     1  \n",
       "4  2WD     2  "
      ]
     },
     "execution_count": 2,
     "metadata": {},
     "output_type": "execute_result"
    }
   ],
   "source": [
    "car_df_org = pd.read_csv('./data/완성_수정.csv')\n",
    "car_df = car_df_org.copy()\n",
    "car_df.head()"
   ]
  },
  {
   "cell_type": "markdown",
   "metadata": {},
   "source": [
    "### 1. 데이터 피처 확인\n",
    "\n",
    "- brand : 제조사\n",
    "- name : 차종\n",
    "- type : 연료형태\n",
    "- km : 달린 km 수\n",
    "- year : 제조년도\n",
    "- accident : 사고 여부\n",
    "- color : 색상 (검정색, 회색, 흰색, 기타)\n",
    "- location : 판매 장소\n",
    "- price : 판매 가격\n",
    "- wd : 차 구동방식\n",
    "- trim : 차 트림\n",
    "    - 1 = 기본\n",
    "    - 2 = 조금 좋은 옵션\n",
    "    - 3 = 많이 좋은 옵션\n",
    "    - 4 = 가장 좋은 옵션"
   ]
  },
  {
   "cell_type": "code",
   "execution_count": 3,
   "metadata": {},
   "outputs": [],
   "source": [
    "car_df.drop('Unnamed: 0',axis=1, inplace=True)"
   ]
  },
  {
   "cell_type": "code",
   "execution_count": 4,
   "metadata": {},
   "outputs": [
    {
     "data": {
      "text/html": [
       "<div>\n",
       "<style scoped>\n",
       "    .dataframe tbody tr th:only-of-type {\n",
       "        vertical-align: middle;\n",
       "    }\n",
       "\n",
       "    .dataframe tbody tr th {\n",
       "        vertical-align: top;\n",
       "    }\n",
       "\n",
       "    .dataframe thead th {\n",
       "        text-align: right;\n",
       "    }\n",
       "</style>\n",
       "<table border=\"1\" class=\"dataframe\">\n",
       "  <thead>\n",
       "    <tr style=\"text-align: right;\">\n",
       "      <th></th>\n",
       "      <th>brand</th>\n",
       "      <th>name</th>\n",
       "      <th>type</th>\n",
       "      <th>km</th>\n",
       "      <th>year</th>\n",
       "      <th>accident</th>\n",
       "      <th>color</th>\n",
       "      <th>location</th>\n",
       "      <th>price</th>\n",
       "      <th>wd</th>\n",
       "      <th>trim</th>\n",
       "    </tr>\n",
       "  </thead>\n",
       "  <tbody>\n",
       "    <tr>\n",
       "      <th>0</th>\n",
       "      <td>기아</td>\n",
       "      <td>K5</td>\n",
       "      <td>가솔린</td>\n",
       "      <td>110575</td>\n",
       "      <td>2011</td>\n",
       "      <td>무사고</td>\n",
       "      <td>검정색</td>\n",
       "      <td>인천</td>\n",
       "      <td>650</td>\n",
       "      <td>2WD</td>\n",
       "      <td>1</td>\n",
       "    </tr>\n",
       "    <tr>\n",
       "      <th>1</th>\n",
       "      <td>기아</td>\n",
       "      <td>K5</td>\n",
       "      <td>가솔린</td>\n",
       "      <td>106819</td>\n",
       "      <td>2014</td>\n",
       "      <td>무사고</td>\n",
       "      <td>검정색</td>\n",
       "      <td>인천</td>\n",
       "      <td>940</td>\n",
       "      <td>2WD</td>\n",
       "      <td>1</td>\n",
       "    </tr>\n",
       "    <tr>\n",
       "      <th>2</th>\n",
       "      <td>기아</td>\n",
       "      <td>K5</td>\n",
       "      <td>가솔린</td>\n",
       "      <td>29151</td>\n",
       "      <td>2019</td>\n",
       "      <td>무사고</td>\n",
       "      <td>검정색</td>\n",
       "      <td>충북</td>\n",
       "      <td>1890</td>\n",
       "      <td>2WD</td>\n",
       "      <td>1</td>\n",
       "    </tr>\n",
       "    <tr>\n",
       "      <th>3</th>\n",
       "      <td>기아</td>\n",
       "      <td>K5</td>\n",
       "      <td>가솔린</td>\n",
       "      <td>8766</td>\n",
       "      <td>2021</td>\n",
       "      <td>무사고</td>\n",
       "      <td>검정색</td>\n",
       "      <td>경기</td>\n",
       "      <td>3190</td>\n",
       "      <td>2WD</td>\n",
       "      <td>1</td>\n",
       "    </tr>\n",
       "    <tr>\n",
       "      <th>4</th>\n",
       "      <td>기아</td>\n",
       "      <td>K5</td>\n",
       "      <td>가솔린</td>\n",
       "      <td>101196</td>\n",
       "      <td>2012</td>\n",
       "      <td>무사고</td>\n",
       "      <td>검정색</td>\n",
       "      <td>대구</td>\n",
       "      <td>820</td>\n",
       "      <td>2WD</td>\n",
       "      <td>2</td>\n",
       "    </tr>\n",
       "  </tbody>\n",
       "</table>\n",
       "</div>"
      ],
      "text/plain": [
       "  brand name type      km  year accident color location  price   wd  trim\n",
       "0    기아   K5  가솔린  110575  2011      무사고   검정색       인천    650  2WD     1\n",
       "1    기아   K5  가솔린  106819  2014      무사고   검정색       인천    940  2WD     1\n",
       "2    기아   K5  가솔린   29151  2019      무사고   검정색       충북   1890  2WD     1\n",
       "3    기아   K5  가솔린    8766  2021      무사고   검정색       경기   3190  2WD     1\n",
       "4    기아   K5  가솔린  101196  2012      무사고   검정색       대구    820  2WD     2"
      ]
     },
     "execution_count": 4,
     "metadata": {},
     "output_type": "execute_result"
    }
   ],
   "source": [
    "car_df.head()"
   ]
  },
  {
   "cell_type": "code",
   "execution_count": 5,
   "metadata": {},
   "outputs": [
    {
     "name": "stdout",
     "output_type": "stream",
     "text": [
      "<class 'pandas.core.frame.DataFrame'>\n",
      "RangeIndex: 64805 entries, 0 to 64804\n",
      "Data columns (total 11 columns):\n",
      " #   Column    Non-Null Count  Dtype \n",
      "---  ------    --------------  ----- \n",
      " 0   brand     64805 non-null  object\n",
      " 1   name      64805 non-null  object\n",
      " 2   type      64805 non-null  object\n",
      " 3   km        64805 non-null  int64 \n",
      " 4   year      64805 non-null  int64 \n",
      " 5   accident  64805 non-null  object\n",
      " 6   color     64805 non-null  object\n",
      " 7   location  64805 non-null  object\n",
      " 8   price     64805 non-null  int64 \n",
      " 9   wd        64805 non-null  object\n",
      " 10  trim      64805 non-null  int64 \n",
      "dtypes: int64(4), object(7)\n",
      "memory usage: 5.4+ MB\n"
     ]
    }
   ],
   "source": [
    "car_df.info()"
   ]
  },
  {
   "cell_type": "markdown",
   "metadata": {},
   "source": [
    "### 2. 결측치 처리"
   ]
  },
  {
   "cell_type": "code",
   "execution_count": 6,
   "metadata": {},
   "outputs": [
    {
     "name": "stdout",
     "output_type": "stream",
     "text": [
      "데이터 세트의 Shape: (64805, 11)\n",
      "\n",
      "전체 feature 들의 type \n",
      " object    7\n",
      "int64     4\n",
      "dtype: int64\n",
      "\n",
      "Null 컬럼과 그 건수:\n",
      "  Series([], dtype: int64)\n"
     ]
    }
   ],
   "source": [
    "print('데이터 세트의 Shape:', car_df.shape)\n",
    "print('\\n전체 feature 들의 type \\n',car_df.dtypes.value_counts())\n",
    "\n",
    "# Null 컬럼 확인 : Null이 있는 컬럼과 그 건수를 내림차순으로 출력\n",
    "isnull_series = car_df.isnull().sum()\n",
    "print('\\nNull 컬럼과 그 건수:\\n ', isnull_series[isnull_series > 0].sort_values(ascending=False))"
   ]
  },
  {
   "cell_type": "code",
   "execution_count": 7,
   "metadata": {},
   "outputs": [],
   "source": [
    "#불필요한 컬럼 삭제\n",
    "car_df.drop(['location'],axis=1,inplace=True)"
   ]
  },
  {
   "cell_type": "code",
   "execution_count": 8,
   "metadata": {},
   "outputs": [],
   "source": [
    "car_df['type'] = car_df.apply(lambda x: x['type'].replace('가솔린+LPG','바이퓨얼'), axis = 1)"
   ]
  },
  {
   "cell_type": "markdown",
   "metadata": {},
   "source": [
    "#### 문자열 데이터 처리 방식\n",
    "- 라벨링 : accident, wd\n",
    "- 원핫인코딩 : brand, name, type, color"
   ]
  },
  {
   "cell_type": "markdown",
   "metadata": {},
   "source": [
    "### 3. 라벨링으로 문자열 데이터 처리"
   ]
  },
  {
   "cell_type": "code",
   "execution_count": 9,
   "metadata": {},
   "outputs": [],
   "source": [
    "car_df['accident_e']=0\n",
    "for i in range(0,len(car_df)):\n",
    "        if car_df['accident'][i]=='사고':\n",
    "            car_df['accident_e'][i]=0\n",
    "        elif car_df['accident'][i]=='단순사고(접촉)':\n",
    "            car_df['accident_e'][i]=1\n",
    "        elif car_df['accident'][i]=='단순교환':\n",
    "            car_df['accident_e'][i]=2\n",
    "        else: car_df['accident_e'][i]=3\n",
    "            \n",
    "car_df['wd_e']=0\n",
    "for i in range(0,len(car_df)):\n",
    "        if car_df['wd'][i]=='2WD':\n",
    "            car_df['wd_e'][i]=0\n",
    "        else: car_df['wd_e'][i]=1\n",
    "            \n",
    "car_df['accident'] = car_df['accident_e']\n",
    "car_df['wd'] = car_df['wd_e']\n",
    "car_df['year'] = 2022 - car_df['year']\n",
    "del car_df['accident_e']\n",
    "del car_df['wd_e']"
   ]
  },
  {
   "cell_type": "markdown",
   "metadata": {},
   "source": [
    "### 4. 이상치 데이터 처리"
   ]
  },
  {
   "cell_type": "code",
   "execution_count": 10,
   "metadata": {},
   "outputs": [],
   "source": [
    "car_df.drop(car_df.loc[car_df['price']<=100].index, inplace=True)\n",
    "car_df.drop(car_df.loc[car_df['km']>=400000].index, inplace=True)\n",
    "car_df.drop(car_df.loc[car_df['price']>=50000].index, inplace=True)"
   ]
  },
  {
   "cell_type": "code",
   "execution_count": null,
   "metadata": {},
   "outputs": [],
   "source": []
  },
  {
   "cell_type": "markdown",
   "metadata": {},
   "source": [
    "##### 왜곡된 정도 추출 \n",
    "- 모든 변수를 그래프로 확인 할 수 없으므로 \n",
    "    - skew() 함수 사용\n",
    "    - 주의. 숫자형 피처에서 원-핫 인코딩된 카테고리 숫자형 피처 제외\n"
   ]
  },
  {
   "cell_type": "code",
   "execution_count": 11,
   "metadata": {},
   "outputs": [
    {
     "name": "stdout",
     "output_type": "stream",
     "text": [
      "price       2.621241\n",
      "wd          1.618280\n",
      "km          0.909977\n",
      "year        0.857548\n",
      "trim        0.815599\n",
      "accident   -6.186867\n",
      "dtype: float64\n"
     ]
    }
   ],
   "source": [
    "from scipy.stats import skew\n",
    "\n",
    "# 숫자형 피처에서 원-핫 인코딩된 카테고리 숫자형 피처 제외\n",
    "feautres_index = car_df.dtypes[car_df.dtypes != 'object'].index\n",
    "\n",
    "feautres_index\n",
    "\n",
    "# 왜도 확인\n",
    "skew_features = car_df[feautres_index].apply(lambda x : skew(x))\n",
    "print(skew_features.sort_values(ascending=False))"
   ]
  },
  {
   "cell_type": "markdown",
   "metadata": {},
   "source": [
    "### 5. 숫자열 데이터 시각화"
   ]
  },
  {
   "cell_type": "markdown",
   "metadata": {},
   "source": [
    "#### km, year, price 변환 전 시각화"
   ]
  },
  {
   "cell_type": "code",
   "execution_count": 12,
   "metadata": {},
   "outputs": [
    {
     "data": {
      "text/plain": [
       "<AxesSubplot:title={'center':'km Histogram'}, xlabel='km', ylabel='Density'>"
      ]
     },
     "execution_count": 12,
     "metadata": {},
     "output_type": "execute_result"
    },
    {
     "data": {
      "image/png": "[encoded data removed]",
      "text/plain": [
       "<Figure size 432x288 with 1 Axes>"
      ]
     },
     "metadata": {
      "needs_background": "light"
     },
     "output_type": "display_data"
    }
   ],
   "source": [
    "plt.title('km Histogram')\n",
    "sns.distplot(car_df['km'])\n",
    "#plt.savefig('km Histogram.png')"
   ]
  },
  {
   "cell_type": "code",
   "execution_count": 13,
   "metadata": {},
   "outputs": [
    {
     "data": {
      "text/plain": [
       "<AxesSubplot:title={'center':'year Histogram'}, xlabel='year', ylabel='Density'>"
      ]
     },
     "execution_count": 13,
     "metadata": {},
     "output_type": "execute_result"
    },
    {
     "data": {
      "image/png": "[encoded data removed]",
      "text/plain": [
       "<Figure size 432x288 with 1 Axes>"
      ]
     },
     "metadata": {
      "needs_background": "light"
     },
     "output_type": "display_data"
    }
   ],
   "source": [
    "plt.title('year Histogram')\n",
    "sns.distplot(car_df['year'])\n",
    "#plt.savefig('year Histogram.png')"
   ]
  },
  {
   "cell_type": "code",
   "execution_count": 14,
   "metadata": {},
   "outputs": [
    {
     "data": {
      "text/plain": [
       "<AxesSubplot:title={'center':'Sale Price Histogram'}, xlabel='price', ylabel='Density'>"
      ]
     },
     "execution_count": 14,
     "metadata": {},
     "output_type": "execute_result"
    },
    {
     "data": {
      "image/png": "[encoded data removed]",
      "text/plain": [
       "<Figure size 432x288 with 1 Axes>"
      ]
     },
     "metadata": {
      "needs_background": "light"
     },
     "output_type": "display_data"
    }
   ],
   "source": [
    "plt.title('Sale Price Histogram')\n",
    "sns.distplot(car_df['price'])\n",
    "#plt.savefig('log price Histogram.png')"
   ]
  },
  {
   "cell_type": "markdown",
   "metadata": {},
   "source": [
    "- 데이터의 분포가 중심에서 왼쪽으로 치우친 형태\n",
    "- 정규 분포에서 벗어나 있음"
   ]
  },
  {
   "cell_type": "markdown",
   "metadata": {},
   "source": [
    "### 6. StandardScaler와 로그변환 활용하여 데이터 표준정규화"
   ]
  },
  {
   "cell_type": "markdown",
   "metadata": {},
   "source": [
    "#### km와 year를 StandardScaler 이용하여 표준화 후 시각화"
   ]
  },
  {
   "cell_type": "code",
   "execution_count": 15,
   "metadata": {},
   "outputs": [],
   "source": [
    "# # StandardScaler 이용 표준화해서 변환\n",
    "\n",
    "# from sklearn.preprocessing import StandardScaler\n",
    "\n",
    "# car_km_df = car_df[['km','year']]\n",
    "\n",
    "# # StandardScaler 객체 생성\n",
    "# scaler = StandardScaler()\n",
    "\n",
    "# # fit() : 데이터 변환을 위한 기준 정보 설정\n",
    "# scaler.fit(car_km_df)\n",
    "\n",
    "# # fit() : 설정된 정보를 이용해 데이터 변환\n",
    "# car_scaled = scaler.transform(car_km_df)\n",
    "\n",
    "# # numpy ndarry를 DataFrame으로 변환\n",
    "# car_df_scaled = pd.DataFrame(data=car_scaled, columns=['km','year'])\n",
    "\n",
    "# print('feature 들의 평균 값')\n",
    "# print(car_df_scaled.mean())\n",
    "# print('\\nfeature 들의 분산 값')\n",
    "# print(car_df_scaled.var())\n",
    "\n",
    "# # 모든 컬럼 값의 평균이 0에 가깝고 분산이 1에 가까운 값으로 변환"
   ]
  },
  {
   "cell_type": "code",
   "execution_count": 16,
   "metadata": {},
   "outputs": [],
   "source": [
    "# plt.title('km Histogram')\n",
    "# sns.distplot(car_df['km'])"
   ]
  },
  {
   "cell_type": "code",
   "execution_count": 17,
   "metadata": {},
   "outputs": [],
   "source": [
    "# # 변환 데이터 삽입\n",
    "# car_df[['km','year']] = car_df_scaled[['km','year']]\n",
    "# car_df.dropna(inplace=True)"
   ]
  },
  {
   "cell_type": "markdown",
   "metadata": {},
   "source": [
    "**타겟값인 Price를 로그변환 후 시각화**"
   ]
  },
  {
   "cell_type": "code",
   "execution_count": 18,
   "metadata": {},
   "outputs": [
    {
     "data": {
      "text/plain": [
       "<AxesSubplot:title={'center':'Log Transformed price Histogram'}, xlabel='price', ylabel='Density'>"
      ]
     },
     "execution_count": 18,
     "metadata": {},
     "output_type": "execute_result"
    },
    {
     "data": {
      "image/png": "[encoded data removed]",
      "text/plain": [
       "<Figure size 432x288 with 1 Axes>"
      ]
     },
     "metadata": {
      "needs_background": "light"
     },
     "output_type": "display_data"
    }
   ],
   "source": [
    "# 결과값을 로그 변환하고 다시 분포도 확인\n",
    "plt.title('Log Transformed price Histogram')\n",
    "price = np.log1p(car_df['price'])\n",
    "sns.distplot(price)"
   ]
  },
  {
   "cell_type": "code",
   "execution_count": 19,
   "metadata": {},
   "outputs": [],
   "source": [
    "car_df['price'] = np.log1p(car_df['price']) #로그변환 값으로 타겟값을 대체"
   ]
  },
  {
   "cell_type": "code",
   "execution_count": 20,
   "metadata": {},
   "outputs": [
    {
     "data": {
      "text/html": [
       "<div>\n",
       "<style scoped>\n",
       "    .dataframe tbody tr th:only-of-type {\n",
       "        vertical-align: middle;\n",
       "    }\n",
       "\n",
       "    .dataframe tbody tr th {\n",
       "        vertical-align: top;\n",
       "    }\n",
       "\n",
       "    .dataframe thead th {\n",
       "        text-align: right;\n",
       "    }\n",
       "</style>\n",
       "<table border=\"1\" class=\"dataframe\">\n",
       "  <thead>\n",
       "    <tr style=\"text-align: right;\">\n",
       "      <th></th>\n",
       "      <th>brand</th>\n",
       "      <th>name</th>\n",
       "      <th>type</th>\n",
       "      <th>km</th>\n",
       "      <th>year</th>\n",
       "      <th>accident</th>\n",
       "      <th>color</th>\n",
       "      <th>price</th>\n",
       "      <th>wd</th>\n",
       "      <th>trim</th>\n",
       "    </tr>\n",
       "  </thead>\n",
       "  <tbody>\n",
       "    <tr>\n",
       "      <th>0</th>\n",
       "      <td>기아</td>\n",
       "      <td>K5</td>\n",
       "      <td>가솔린</td>\n",
       "      <td>110575</td>\n",
       "      <td>11</td>\n",
       "      <td>3</td>\n",
       "      <td>검정색</td>\n",
       "      <td>6.478510</td>\n",
       "      <td>0</td>\n",
       "      <td>1</td>\n",
       "    </tr>\n",
       "    <tr>\n",
       "      <th>1</th>\n",
       "      <td>기아</td>\n",
       "      <td>K5</td>\n",
       "      <td>가솔린</td>\n",
       "      <td>106819</td>\n",
       "      <td>8</td>\n",
       "      <td>3</td>\n",
       "      <td>검정색</td>\n",
       "      <td>6.846943</td>\n",
       "      <td>0</td>\n",
       "      <td>1</td>\n",
       "    </tr>\n",
       "    <tr>\n",
       "      <th>2</th>\n",
       "      <td>기아</td>\n",
       "      <td>K5</td>\n",
       "      <td>가솔린</td>\n",
       "      <td>29151</td>\n",
       "      <td>3</td>\n",
       "      <td>3</td>\n",
       "      <td>검정색</td>\n",
       "      <td>7.544861</td>\n",
       "      <td>0</td>\n",
       "      <td>1</td>\n",
       "    </tr>\n",
       "    <tr>\n",
       "      <th>3</th>\n",
       "      <td>기아</td>\n",
       "      <td>K5</td>\n",
       "      <td>가솔린</td>\n",
       "      <td>8766</td>\n",
       "      <td>1</td>\n",
       "      <td>3</td>\n",
       "      <td>검정색</td>\n",
       "      <td>8.068090</td>\n",
       "      <td>0</td>\n",
       "      <td>1</td>\n",
       "    </tr>\n",
       "    <tr>\n",
       "      <th>4</th>\n",
       "      <td>기아</td>\n",
       "      <td>K5</td>\n",
       "      <td>가솔린</td>\n",
       "      <td>101196</td>\n",
       "      <td>10</td>\n",
       "      <td>3</td>\n",
       "      <td>검정색</td>\n",
       "      <td>6.710523</td>\n",
       "      <td>0</td>\n",
       "      <td>2</td>\n",
       "    </tr>\n",
       "  </tbody>\n",
       "</table>\n",
       "</div>"
      ],
      "text/plain": [
       "  brand name type      km  year  accident color     price  wd  trim\n",
       "0    기아   K5  가솔린  110575    11         3   검정색  6.478510   0     1\n",
       "1    기아   K5  가솔린  106819     8         3   검정색  6.846943   0     1\n",
       "2    기아   K5  가솔린   29151     3         3   검정색  7.544861   0     1\n",
       "3    기아   K5  가솔린    8766     1         3   검정색  8.068090   0     1\n",
       "4    기아   K5  가솔린  101196    10         3   검정색  6.710523   0     2"
      ]
     },
     "execution_count": 20,
     "metadata": {},
     "output_type": "execute_result"
    }
   ],
   "source": [
    "car_df.head()"
   ]
  },
  {
   "cell_type": "markdown",
   "metadata": {},
   "source": [
    "### 7. EDA 분석(히트맵, 파이차트)"
   ]
  },
  {
   "cell_type": "code",
   "execution_count": 21,
   "metadata": {},
   "outputs": [
    {
     "data": {
      "text/plain": [
       "<AxesSubplot:>"
      ]
     },
     "execution_count": 21,
     "metadata": {},
     "output_type": "execute_result"
    },
    {
     "data": {
      "image/png": "[encoded data removed]",
      "text/plain": [
       "<Figure size 1440x1296 with 2 Axes>"
      ]
     },
     "metadata": {
      "needs_background": "light"
     },
     "output_type": "display_data"
    }
   ],
   "source": [
    "plt.figure(figsize=(20,18))\n",
    "\n",
    "corr = car_df.corr()\n",
    "sns.heatmap(corr, annot=True, fmt='.1g')"
   ]
  },
  {
   "cell_type": "markdown",
   "metadata": {},
   "source": [
    "### 파이차트"
   ]
  },
  {
   "cell_type": "code",
   "execution_count": 22,
   "metadata": {
    "scrolled": true
   },
   "outputs": [
    {
     "data": {
      "image/png": "[encoded data removed]",
      "text/plain": [
       "<Figure size 720x720 with 1 Axes>"
      ]
     },
     "metadata": {},
     "output_type": "display_data"
    }
   ],
   "source": [
    "#brand_per = pd.Series(brand_per['brand'], index=brand_per.index)\n",
    "#brand = ['현대','폭스바겐','제네시스','쌍용','르노삼성','랜드로버','미니포드','쉐보레','BMW','벤츠']\n",
    "\n",
    "brand = car_df_org.groupby('brand')\n",
    "brand_sr = brand.size()\n",
    "brand_sr.plot(kind='pie', figsize=(10,10), autopct= '%1.1f%%', textprops={'size':20})\n",
    "plt.title('brand 분포', size=20)\n",
    "plt.legend(brand_sr.index, loc='best')\n",
    "plt.show()\n",
    "#plt.savefig('brand pi chart.png')"
   ]
  },
  {
   "cell_type": "code",
   "execution_count": 23,
   "metadata": {
    "scrolled": true
   },
   "outputs": [
    {
     "data": {
      "image/png": "[encoded data removed]",
      "text/plain": [
       "<Figure size 720x720 with 1 Axes>"
      ]
     },
     "metadata": {},
     "output_type": "display_data"
    }
   ],
   "source": [
    "wd = car_df_org.groupby('wd')\n",
    "wd_sr = wd.size()\n",
    "wd_sr.plot(kind='pie', figsize=(10,10), autopct= '%1.1f%%', textprops={'size':20})\n",
    "plt.title('wd 분포', size=20)\n",
    "plt.legend(wd_sr.index, loc='best')\n",
    "plt.show()\n",
    "#plt.savefig('wd pi chart.png')"
   ]
  },
  {
   "cell_type": "code",
   "execution_count": 24,
   "metadata": {
    "scrolled": true
   },
   "outputs": [
    {
     "data": {
      "image/png": "[encoded data removed]",
      "text/plain": [
       "<Figure size 720x720 with 1 Axes>"
      ]
     },
     "metadata": {},
     "output_type": "display_data"
    }
   ],
   "source": [
    "type1 = car_df.groupby('type')\n",
    "type_sr = type1.size()\n",
    "type_sr.plot(kind='pie', figsize=(10,10), autopct= '%1.1f%%', textprops={'size':20})\n",
    "plt.title('type 분포', size=20)\n",
    "plt.legend(type_sr.index, loc='best')\n",
    "plt.show()\n",
    "#plt.savefig('type pi chart.png')"
   ]
  },
  {
   "cell_type": "markdown",
   "metadata": {},
   "source": [
    "#### 전처리 끝난 후 왜도 재확인"
   ]
  },
  {
   "cell_type": "code",
   "execution_count": 25,
   "metadata": {},
   "outputs": [
    {
     "name": "stdout",
     "output_type": "stream",
     "text": [
      "wd          1.618280\n",
      "km          0.909977\n",
      "year        0.857548\n",
      "trim        0.815599\n",
      "price      -0.246160\n",
      "accident   -6.186867\n",
      "dtype: float64\n"
     ]
    }
   ],
   "source": [
    "feautres_index = car_df.dtypes[car_df.dtypes != 'object'].index\n",
    "\n",
    "feautres_index\n",
    "\n",
    "# 왜도 확인\n",
    "skew_features = car_df[feautres_index].apply(lambda x : skew(x))\n",
    "print(skew_features.sort_values(ascending=False))"
   ]
  },
  {
   "cell_type": "markdown",
   "metadata": {},
   "source": [
    "### 8. 원핫 인코딩으로 처리"
   ]
  },
  {
   "cell_type": "code",
   "execution_count": 26,
   "metadata": {
    "scrolled": true
   },
   "outputs": [
    {
     "name": "stdout",
     "output_type": "stream",
     "text": [
      "get_dummies() 수행 전 데이터 Shape: (64801, 10)\n",
      "get_dummies() 수행 후 데이터 Shape: (64801, 252)\n"
     ]
    },
    {
     "data": {
      "text/html": [
       "<div>\n",
       "<style scoped>\n",
       "    .dataframe tbody tr th:only-of-type {\n",
       "        vertical-align: middle;\n",
       "    }\n",
       "\n",
       "    .dataframe tbody tr th {\n",
       "        vertical-align: top;\n",
       "    }\n",
       "\n",
       "    .dataframe thead th {\n",
       "        text-align: right;\n",
       "    }\n",
       "</style>\n",
       "<table border=\"1\" class=\"dataframe\">\n",
       "  <thead>\n",
       "    <tr style=\"text-align: right;\">\n",
       "      <th></th>\n",
       "      <th>km</th>\n",
       "      <th>year</th>\n",
       "      <th>accident</th>\n",
       "      <th>price</th>\n",
       "      <th>wd</th>\n",
       "      <th>trim</th>\n",
       "      <th>brand_BMW</th>\n",
       "      <th>brand_기아</th>\n",
       "      <th>brand_랜드로버</th>\n",
       "      <th>brand_르노삼성</th>\n",
       "      <th>...</th>\n",
       "      <th>type_LPG</th>\n",
       "      <th>type_가솔린</th>\n",
       "      <th>type_디젤</th>\n",
       "      <th>type_바이퓨얼</th>\n",
       "      <th>type_전기</th>\n",
       "      <th>type_하이브리드</th>\n",
       "      <th>color_검정색</th>\n",
       "      <th>color_기타</th>\n",
       "      <th>color_회색</th>\n",
       "      <th>color_흰색</th>\n",
       "    </tr>\n",
       "  </thead>\n",
       "  <tbody>\n",
       "    <tr>\n",
       "      <th>0</th>\n",
       "      <td>110575</td>\n",
       "      <td>11</td>\n",
       "      <td>3</td>\n",
       "      <td>6.478510</td>\n",
       "      <td>0</td>\n",
       "      <td>1</td>\n",
       "      <td>0</td>\n",
       "      <td>1</td>\n",
       "      <td>0</td>\n",
       "      <td>0</td>\n",
       "      <td>...</td>\n",
       "      <td>0</td>\n",
       "      <td>1</td>\n",
       "      <td>0</td>\n",
       "      <td>0</td>\n",
       "      <td>0</td>\n",
       "      <td>0</td>\n",
       "      <td>1</td>\n",
       "      <td>0</td>\n",
       "      <td>0</td>\n",
       "      <td>0</td>\n",
       "    </tr>\n",
       "    <tr>\n",
       "      <th>1</th>\n",
       "      <td>106819</td>\n",
       "      <td>8</td>\n",
       "      <td>3</td>\n",
       "      <td>6.846943</td>\n",
       "      <td>0</td>\n",
       "      <td>1</td>\n",
       "      <td>0</td>\n",
       "      <td>1</td>\n",
       "      <td>0</td>\n",
       "      <td>0</td>\n",
       "      <td>...</td>\n",
       "      <td>0</td>\n",
       "      <td>1</td>\n",
       "      <td>0</td>\n",
       "      <td>0</td>\n",
       "      <td>0</td>\n",
       "      <td>0</td>\n",
       "      <td>1</td>\n",
       "      <td>0</td>\n",
       "      <td>0</td>\n",
       "      <td>0</td>\n",
       "    </tr>\n",
       "    <tr>\n",
       "      <th>2</th>\n",
       "      <td>29151</td>\n",
       "      <td>3</td>\n",
       "      <td>3</td>\n",
       "      <td>7.544861</td>\n",
       "      <td>0</td>\n",
       "      <td>1</td>\n",
       "      <td>0</td>\n",
       "      <td>1</td>\n",
       "      <td>0</td>\n",
       "      <td>0</td>\n",
       "      <td>...</td>\n",
       "      <td>0</td>\n",
       "      <td>1</td>\n",
       "      <td>0</td>\n",
       "      <td>0</td>\n",
       "      <td>0</td>\n",
       "      <td>0</td>\n",
       "      <td>1</td>\n",
       "      <td>0</td>\n",
       "      <td>0</td>\n",
       "      <td>0</td>\n",
       "    </tr>\n",
       "    <tr>\n",
       "      <th>3</th>\n",
       "      <td>8766</td>\n",
       "      <td>1</td>\n",
       "      <td>3</td>\n",
       "      <td>8.068090</td>\n",
       "      <td>0</td>\n",
       "      <td>1</td>\n",
       "      <td>0</td>\n",
       "      <td>1</td>\n",
       "      <td>0</td>\n",
       "      <td>0</td>\n",
       "      <td>...</td>\n",
       "      <td>0</td>\n",
       "      <td>1</td>\n",
       "      <td>0</td>\n",
       "      <td>0</td>\n",
       "      <td>0</td>\n",
       "      <td>0</td>\n",
       "      <td>1</td>\n",
       "      <td>0</td>\n",
       "      <td>0</td>\n",
       "      <td>0</td>\n",
       "    </tr>\n",
       "    <tr>\n",
       "      <th>4</th>\n",
       "      <td>101196</td>\n",
       "      <td>10</td>\n",
       "      <td>3</td>\n",
       "      <td>6.710523</td>\n",
       "      <td>0</td>\n",
       "      <td>2</td>\n",
       "      <td>0</td>\n",
       "      <td>1</td>\n",
       "      <td>0</td>\n",
       "      <td>0</td>\n",
       "      <td>...</td>\n",
       "      <td>0</td>\n",
       "      <td>1</td>\n",
       "      <td>0</td>\n",
       "      <td>0</td>\n",
       "      <td>0</td>\n",
       "      <td>0</td>\n",
       "      <td>1</td>\n",
       "      <td>0</td>\n",
       "      <td>0</td>\n",
       "      <td>0</td>\n",
       "    </tr>\n",
       "  </tbody>\n",
       "</table>\n",
       "<p>5 rows × 252 columns</p>\n",
       "</div>"
      ],
      "text/plain": [
       "       km  year  accident     price  wd  trim  brand_BMW  brand_기아  \\\n",
       "0  110575    11         3  6.478510   0     1          0         1   \n",
       "1  106819     8         3  6.846943   0     1          0         1   \n",
       "2   29151     3         3  7.544861   0     1          0         1   \n",
       "3    8766     1         3  8.068090   0     1          0         1   \n",
       "4  101196    10         3  6.710523   0     2          0         1   \n",
       "\n",
       "   brand_랜드로버  brand_르노삼성  ...  type_LPG  type_가솔린  type_디젤  type_바이퓨얼  \\\n",
       "0           0           0  ...         0         1        0          0   \n",
       "1           0           0  ...         0         1        0          0   \n",
       "2           0           0  ...         0         1        0          0   \n",
       "3           0           0  ...         0         1        0          0   \n",
       "4           0           0  ...         0         1        0          0   \n",
       "\n",
       "   type_전기  type_하이브리드  color_검정색  color_기타  color_회색  color_흰색  \n",
       "0        0           0          1         0         0         0  \n",
       "1        0           0          1         0         0         0  \n",
       "2        0           0          1         0         0         0  \n",
       "3        0           0          1         0         0         0  \n",
       "4        0           0          1         0         0         0  \n",
       "\n",
       "[5 rows x 252 columns]"
      ]
     },
     "execution_count": 26,
     "metadata": {},
     "output_type": "execute_result"
    }
   ],
   "source": [
    "print('get_dummies() 수행 전 데이터 Shape:', car_df.shape)\n",
    "car_df_ohe = pd.get_dummies(car_df)\n",
    "print('get_dummies() 수행 후 데이터 Shape:', car_df_ohe.shape)\n",
    "car_df_ohe.head()"
   ]
  },
  {
   "cell_type": "code",
   "execution_count": null,
   "metadata": {},
   "outputs": [],
   "source": []
  },
  {
   "cell_type": "code",
   "execution_count": 27,
   "metadata": {},
   "outputs": [],
   "source": [
    "car_list = car_df_ohe.columns.tolist()"
   ]
  },
  {
   "cell_type": "code",
   "execution_count": 28,
   "metadata": {},
   "outputs": [
    {
     "data": {
      "text/plain": [
       "['km',\n",
       " 'year',\n",
       " 'accident',\n",
       " 'price',\n",
       " 'wd',\n",
       " 'trim',\n",
       " 'brand_BMW',\n",
       " 'brand_기아',\n",
       " 'brand_랜드로버',\n",
       " 'brand_르노삼성',\n",
       " 'brand_미니',\n",
       " 'brand_벤츠',\n",
       " 'brand_쉐보레',\n",
       " 'brand_쌍용',\n",
       " 'brand_아우디',\n",
       " 'brand_제네시스',\n",
       " 'brand_포드',\n",
       " 'brand_폭스바겐',\n",
       " 'brand_현대',\n",
       " 'name_118',\n",
       " 'name_200',\n",
       " 'name_320',\n",
       " 'name_330',\n",
       " 'name_420   쿠페',\n",
       " 'name_420  그란쿠페',\n",
       " 'name_428   컨버터블',\n",
       " 'name_428   쿠페',\n",
       " 'name_520',\n",
       " 'name_528',\n",
       " 'name_530',\n",
       " 'name_640    그란쿠페',\n",
       " 'name_730',\n",
       " 'name_730Ld',\n",
       " 'name_740',\n",
       " 'name_740Li',\n",
       " 'name_750Ld',\n",
       " 'name_750Li',\n",
       " 'name_A200',\n",
       " 'name_A220',\n",
       " 'name_A3',\n",
       " 'name_A4',\n",
       " 'name_A45',\n",
       " 'name_A5',\n",
       " 'name_A6',\n",
       " 'name_A7',\n",
       " 'name_A8',\n",
       " 'name_B200',\n",
       " 'name_C200',\n",
       " 'name_C220',\n",
       " 'name_C220 블루텍',\n",
       " 'name_C63',\n",
       " 'name_CC',\n",
       " 'name_CC 블루모션',\n",
       " 'name_CLA220',\n",
       " 'name_CLA250',\n",
       " 'name_CLA45',\n",
       " 'name_CLS250',\n",
       " 'name_CLS350',\n",
       " 'name_CLS4.0',\n",
       " 'name_CLS450',\n",
       " 'name_CLS63',\n",
       " 'name_E200',\n",
       " 'name_E220',\n",
       " 'name_E220 블루텍',\n",
       " 'name_E250',\n",
       " 'name_E250 블루텍',\n",
       " 'name_E300',\n",
       " 'name_E350',\n",
       " 'name_E400',\n",
       " 'name_EQ900',\n",
       " 'name_F150',\n",
       " 'name_G63',\n",
       " 'name_G70',\n",
       " 'name_G80',\n",
       " 'name_G90',\n",
       " 'name_GLA220',\n",
       " 'name_GLA45',\n",
       " 'name_GLC220',\n",
       " 'name_GLC250',\n",
       " 'name_GLC300',\n",
       " 'name_GLC350e',\n",
       " 'name_GLC43',\n",
       " 'name_GLE350',\n",
       " 'name_GLK220',\n",
       " 'name_GT',\n",
       " 'name_GV70',\n",
       " 'name_GV80',\n",
       " 'name_K3',\n",
       " 'name_K5',\n",
       " 'name_K7',\n",
       " 'name_K8',\n",
       " 'name_K9',\n",
       " 'name_ML350 블루텍',\n",
       " 'name_Q3',\n",
       " 'name_Q5',\n",
       " 'name_Q7',\n",
       " 'name_Q8',\n",
       " 'name_QM5',\n",
       " 'name_QM6',\n",
       " 'name_R8',\n",
       " 'name_S3',\n",
       " 'name_S350',\n",
       " 'name_S350 블루텍',\n",
       " 'name_S350L',\n",
       " 'name_S350L 블루텍',\n",
       " 'name_S4',\n",
       " 'name_S4.0',\n",
       " 'name_S5',\n",
       " 'name_S500',\n",
       " 'name_S500L',\n",
       " 'name_S550',\n",
       " 'name_S560',\n",
       " 'name_S6',\n",
       " 'name_S600',\n",
       " 'name_S63',\n",
       " 'name_S7',\n",
       " 'name_S8',\n",
       " 'name_SM3',\n",
       " 'name_SM5',\n",
       " 'name_SM6',\n",
       " 'name_SM7',\n",
       " 'name_TT',\n",
       " 'name_X1  20',\n",
       " 'name_X4 20',\n",
       " 'name_X5  30',\n",
       " 'name_X6 30',\n",
       " 'name_X6 40',\n",
       " 'name_e-트론',\n",
       " 'name_i3',\n",
       " 'name_i30',\n",
       " 'name_i40',\n",
       " 'name_골프',\n",
       " 'name_골프 블루모션',\n",
       " 'name_그랜드스타렉스',\n",
       " 'name_그랜저',\n",
       " 'name_뉴 CC',\n",
       " 'name_뉴 CC 블루모션',\n",
       " 'name_니로',\n",
       " 'name_다마스',\n",
       " 'name_디스커버리 SE',\n",
       " 'name_라세티',\n",
       " 'name_레이',\n",
       " 'name_레인지로버',\n",
       " 'name_레인지로버 AB',\n",
       " 'name_레인지로버 SE',\n",
       " 'name_레인지로버 Vogue',\n",
       " 'name_렉스턴',\n",
       " 'name_렉스턴 RX4',\n",
       " 'name_렉스턴 RX6',\n",
       " 'name_렉스턴 RX7',\n",
       " 'name_로드스터',\n",
       " 'name_로디우스',\n",
       " 'name_로체',\n",
       " 'name_마티즈',\n",
       " 'name_말리부',\n",
       " 'name_맥스크루즈',\n",
       " 'name_머스탱 컨버터블',\n",
       " 'name_머스탱 쿠페',\n",
       " 'name_모닝',\n",
       " 'name_모하비',\n",
       " 'name_몬데오 2.0 트렌드',\n",
       " 'name_몬데오 2.0 티타늄',\n",
       " 'name_베뉴',\n",
       " 'name_벨로스터',\n",
       " 'name_볼트',\n",
       " 'name_봉고3',\n",
       " 'name_비틀',\n",
       " 'name_셀토스',\n",
       " 'name_스타렉스',\n",
       " 'name_스타리아',\n",
       " 'name_스토닉',\n",
       " 'name_스팅어',\n",
       " 'name_스파크',\n",
       " 'name_스포티지',\n",
       " 'name_시로코',\n",
       " 'name_싼타페',\n",
       " 'name_쎄라토',\n",
       " 'name_쏘나타',\n",
       " 'name_쏘렌토',\n",
       " 'name_쏘울',\n",
       " 'name_쏠라티',\n",
       " 'name_아반떼',\n",
       " 'name_아베오',\n",
       " 'name_아슬란',\n",
       " 'name_아테온',\n",
       " 'name_알페온',\n",
       " 'name_액티언',\n",
       " 'name_에쿠스',\n",
       " 'name_엑센트',\n",
       " 'name_엑센트(신형)',\n",
       " 'name_오피러스',\n",
       " 'name_올란도',\n",
       " 'name_옵티마',\n",
       " 'name_윈스톰',\n",
       " 'name_익스프레스밴',\n",
       " 'name_익스플로러',\n",
       " 'name_임팔라',\n",
       " 'name_제네시스',\n",
       " 'name_제타',\n",
       " 'name_제타 블루모션',\n",
       " 'name_조에',\n",
       " 'name_체어맨',\n",
       " 'name_카니발',\n",
       " 'name_카렌스',\n",
       " 'name_카마로',\n",
       " 'name_카이런',\n",
       " 'name_캡처',\n",
       " 'name_캡티바',\n",
       " 'name_코나',\n",
       " 'name_코란도',\n",
       " 'name_코란도 어드벤처 60th 에디션',\n",
       " 'name_코란도 익스트림',\n",
       " 'name_콜로라도',\n",
       " 'name_쿠퍼',\n",
       " 'name_쿠퍼 5도어',\n",
       " 'name_쿠퍼 JCW',\n",
       " 'name_쿠퍼 SE',\n",
       " 'name_쿠퍼 컨트리맨',\n",
       " 'name_쿠퍼 컨트리맨 파크래인',\n",
       " 'name_크루즈',\n",
       " 'name_클리오',\n",
       " 'name_토러스',\n",
       " 'name_토러스 2.0 에코부스트',\n",
       " 'name_투싼',\n",
       " 'name_투아렉',\n",
       " 'name_투아렉 블루모션',\n",
       " 'name_트래버스',\n",
       " 'name_트랙스',\n",
       " 'name_트레일블레이저',\n",
       " 'name_트위지',\n",
       " 'name_티구안',\n",
       " 'name_티록',\n",
       " 'name_티볼리',\n",
       " 'name_파사트',\n",
       " 'name_팰리세이드',\n",
       " 'name_페이톤',\n",
       " 'name_펠리세이드',\n",
       " 'name_포르테',\n",
       " 'name_포터2',\n",
       " 'name_폴로',\n",
       " 'name_프라이드',\n",
       " 'name_프리랜더 SE',\n",
       " 'type_LPG',\n",
       " 'type_가솔린',\n",
       " 'type_디젤',\n",
       " 'type_바이퓨얼',\n",
       " 'type_전기',\n",
       " 'type_하이브리드',\n",
       " 'color_검정색',\n",
       " 'color_기타',\n",
       " 'color_회색',\n",
       " 'color_흰색']"
      ]
     },
     "execution_count": 28,
     "metadata": {},
     "output_type": "execute_result"
    }
   ],
   "source": [
    "car_list"
   ]
  },
  {
   "cell_type": "code",
   "execution_count": 29,
   "metadata": {},
   "outputs": [],
   "source": [
    "car_df_ohe.to_csv(\"./data/최종 전처리2.csv\", index = False)"
   ]
  },
  {
   "cell_type": "code",
   "execution_count": null,
   "metadata": {},
   "outputs": [],
   "source": []
  }
 ],
 "metadata": {
  "kernelspec": {
   "display_name": "Python 3",
   "language": "python",
   "name": "python3"
  },
  "language_info": {
   "codemirror_mode": {
    "name": "ipython",
    "version": 3
   },
   "file_extension": ".py",
   "mimetype": "text/x-python",
   "name": "python",
   "nbconvert_exporter": "python",
   "pygments_lexer": "ipython3",
   "version": "3.8.8"
  }
 },
 "nbformat": 4,
 "nbformat_minor": 4
}
