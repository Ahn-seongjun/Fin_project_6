{
 "cells": [
  {
   "cell_type": "code",
   "execution_count": 50,
   "id": "0d7aefa8",
   "metadata": {},
   "outputs": [],
   "source": [
    "import pandas as pd # 데이터 핸들링 \n",
    "import numpy as np \n",
    "import matplotlib.pyplot as plt # 데이터 시각화 \n",
    "%matplotlib inline\n",
    "import seaborn as sns # 데이터 시각화(고급분석)\n",
    "import warnings\n",
    "warnings.filterwarnings(\"ignore\")"
   ]
  },
  {
   "cell_type": "code",
   "execution_count": 51,
   "id": "ba8ba460",
   "metadata": {},
   "outputs": [],
   "source": [
    "from IPython.core.interactiveshell import InteractiveShell\n",
    "InteractiveShell.ast_node_interactivity=\"all\" "
   ]
  },
  {
   "cell_type": "code",
   "execution_count": 71,
   "id": "bc59da5a",
   "metadata": {
    "scrolled": false
   },
   "outputs": [
    {
     "data": {
      "text/html": [
       "<div>\n",
       "<style scoped>\n",
       "    .dataframe tbody tr th:only-of-type {\n",
       "        vertical-align: middle;\n",
       "    }\n",
       "\n",
       "    .dataframe tbody tr th {\n",
       "        vertical-align: top;\n",
       "    }\n",
       "\n",
       "    .dataframe thead th {\n",
       "        text-align: right;\n",
       "    }\n",
       "</style>\n",
       "<table border=\"1\" class=\"dataframe\">\n",
       "  <thead>\n",
       "    <tr style=\"text-align: right;\">\n",
       "      <th></th>\n",
       "      <th>brand</th>\n",
       "      <th>name</th>\n",
       "      <th>type</th>\n",
       "      <th>km</th>\n",
       "      <th>year</th>\n",
       "      <th>accident</th>\n",
       "      <th>color</th>\n",
       "      <th>location</th>\n",
       "      <th>price</th>\n",
       "      <th>wd</th>\n",
       "      <th>trim</th>\n",
       "    </tr>\n",
       "  </thead>\n",
       "  <tbody>\n",
       "    <tr>\n",
       "      <th>0</th>\n",
       "      <td>기아</td>\n",
       "      <td>K5</td>\n",
       "      <td>가솔린</td>\n",
       "      <td>110575</td>\n",
       "      <td>2011</td>\n",
       "      <td>무사고</td>\n",
       "      <td>검정색</td>\n",
       "      <td>인천</td>\n",
       "      <td>650</td>\n",
       "      <td>2WD</td>\n",
       "      <td>1</td>\n",
       "    </tr>\n",
       "    <tr>\n",
       "      <th>1</th>\n",
       "      <td>기아</td>\n",
       "      <td>K5</td>\n",
       "      <td>가솔린</td>\n",
       "      <td>106819</td>\n",
       "      <td>2014</td>\n",
       "      <td>무사고</td>\n",
       "      <td>검정색</td>\n",
       "      <td>인천</td>\n",
       "      <td>940</td>\n",
       "      <td>2WD</td>\n",
       "      <td>1</td>\n",
       "    </tr>\n",
       "    <tr>\n",
       "      <th>2</th>\n",
       "      <td>기아</td>\n",
       "      <td>K5</td>\n",
       "      <td>가솔린</td>\n",
       "      <td>29151</td>\n",
       "      <td>2019</td>\n",
       "      <td>무사고</td>\n",
       "      <td>검정색</td>\n",
       "      <td>충북</td>\n",
       "      <td>1890</td>\n",
       "      <td>2WD</td>\n",
       "      <td>1</td>\n",
       "    </tr>\n",
       "    <tr>\n",
       "      <th>3</th>\n",
       "      <td>기아</td>\n",
       "      <td>K5</td>\n",
       "      <td>가솔린</td>\n",
       "      <td>8766</td>\n",
       "      <td>2021</td>\n",
       "      <td>무사고</td>\n",
       "      <td>검정색</td>\n",
       "      <td>경기</td>\n",
       "      <td>3190</td>\n",
       "      <td>2WD</td>\n",
       "      <td>1</td>\n",
       "    </tr>\n",
       "    <tr>\n",
       "      <th>4</th>\n",
       "      <td>기아</td>\n",
       "      <td>K5</td>\n",
       "      <td>가솔린</td>\n",
       "      <td>101196</td>\n",
       "      <td>2012</td>\n",
       "      <td>무사고</td>\n",
       "      <td>검정색</td>\n",
       "      <td>대구</td>\n",
       "      <td>820</td>\n",
       "      <td>2WD</td>\n",
       "      <td>2</td>\n",
       "    </tr>\n",
       "    <tr>\n",
       "      <th>...</th>\n",
       "      <td>...</td>\n",
       "      <td>...</td>\n",
       "      <td>...</td>\n",
       "      <td>...</td>\n",
       "      <td>...</td>\n",
       "      <td>...</td>\n",
       "      <td>...</td>\n",
       "      <td>...</td>\n",
       "      <td>...</td>\n",
       "      <td>...</td>\n",
       "      <td>...</td>\n",
       "    </tr>\n",
       "    <tr>\n",
       "      <th>64800</th>\n",
       "      <td>랜드로버</td>\n",
       "      <td>레인지로버 SE</td>\n",
       "      <td>디젤</td>\n",
       "      <td>84208</td>\n",
       "      <td>2016</td>\n",
       "      <td>무사고</td>\n",
       "      <td>흰색</td>\n",
       "      <td>경기</td>\n",
       "      <td>3390</td>\n",
       "      <td>2WD</td>\n",
       "      <td>2</td>\n",
       "    </tr>\n",
       "    <tr>\n",
       "      <th>64801</th>\n",
       "      <td>랜드로버</td>\n",
       "      <td>디스커버리 SE</td>\n",
       "      <td>디젤</td>\n",
       "      <td>47000</td>\n",
       "      <td>2018</td>\n",
       "      <td>무사고</td>\n",
       "      <td>흰색</td>\n",
       "      <td>인천</td>\n",
       "      <td>5133</td>\n",
       "      <td>2WD</td>\n",
       "      <td>1</td>\n",
       "    </tr>\n",
       "    <tr>\n",
       "      <th>64802</th>\n",
       "      <td>랜드로버</td>\n",
       "      <td>디스커버리 SE</td>\n",
       "      <td>디젤</td>\n",
       "      <td>47120</td>\n",
       "      <td>2018</td>\n",
       "      <td>무사고</td>\n",
       "      <td>흰색</td>\n",
       "      <td>대구</td>\n",
       "      <td>3390</td>\n",
       "      <td>2WD</td>\n",
       "      <td>1</td>\n",
       "    </tr>\n",
       "    <tr>\n",
       "      <th>64803</th>\n",
       "      <td>랜드로버</td>\n",
       "      <td>디스커버리 SE</td>\n",
       "      <td>디젤</td>\n",
       "      <td>36000</td>\n",
       "      <td>2017</td>\n",
       "      <td>무사고</td>\n",
       "      <td>흰색</td>\n",
       "      <td>경기</td>\n",
       "      <td>5999</td>\n",
       "      <td>2WD</td>\n",
       "      <td>1</td>\n",
       "    </tr>\n",
       "    <tr>\n",
       "      <th>64804</th>\n",
       "      <td>랜드로버</td>\n",
       "      <td>레인지로버 SE</td>\n",
       "      <td>디젤</td>\n",
       "      <td>25500</td>\n",
       "      <td>2018</td>\n",
       "      <td>무사고</td>\n",
       "      <td>흰색</td>\n",
       "      <td>서울</td>\n",
       "      <td>5278</td>\n",
       "      <td>2WD</td>\n",
       "      <td>2</td>\n",
       "    </tr>\n",
       "  </tbody>\n",
       "</table>\n",
       "<p>64805 rows × 11 columns</p>\n",
       "</div>"
      ],
      "text/plain": [
       "      brand      name type      km  year accident color location  price   wd  \\\n",
       "0        기아        K5  가솔린  110575  2011      무사고   검정색       인천    650  2WD   \n",
       "1        기아        K5  가솔린  106819  2014      무사고   검정색       인천    940  2WD   \n",
       "2        기아        K5  가솔린   29151  2019      무사고   검정색       충북   1890  2WD   \n",
       "3        기아        K5  가솔린    8766  2021      무사고   검정색       경기   3190  2WD   \n",
       "4        기아        K5  가솔린  101196  2012      무사고   검정색       대구    820  2WD   \n",
       "...     ...       ...  ...     ...   ...      ...   ...      ...    ...  ...   \n",
       "64800  랜드로버  레인지로버 SE   디젤   84208  2016      무사고    흰색       경기   3390  2WD   \n",
       "64801  랜드로버  디스커버리 SE   디젤   47000  2018      무사고    흰색       인천   5133  2WD   \n",
       "64802  랜드로버  디스커버리 SE   디젤   47120  2018      무사고    흰색       대구   3390  2WD   \n",
       "64803  랜드로버  디스커버리 SE   디젤   36000  2017      무사고    흰색       경기   5999  2WD   \n",
       "64804  랜드로버  레인지로버 SE   디젤   25500  2018      무사고    흰색       서울   5278  2WD   \n",
       "\n",
       "       trim  \n",
       "0         1  \n",
       "1         1  \n",
       "2         1  \n",
       "3         1  \n",
       "4         2  \n",
       "...     ...  \n",
       "64800     2  \n",
       "64801     1  \n",
       "64802     1  \n",
       "64803     1  \n",
       "64804     2  \n",
       "\n",
       "[64805 rows x 11 columns]"
      ]
     },
     "execution_count": 71,
     "metadata": {},
     "output_type": "execute_result"
    }
   ],
   "source": [
    "df = pd.read_csv('data/완성.csv')\n",
    "df"
   ]
  },
  {
   "cell_type": "code",
   "execution_count": 72,
   "id": "8a1e28ee",
   "metadata": {
    "scrolled": true
   },
   "outputs": [
    {
     "data": {
      "text/plain": [
       "array(['기아', '현대', '르노삼성', '쌍용', '제네시스', '벤츠', 'BMW', '폭스바겐', '아우디', '포드',\n",
       "       '미니', '쉐보레', '랜드로버'], dtype=object)"
      ]
     },
     "execution_count": 72,
     "metadata": {},
     "output_type": "execute_result"
    }
   ],
   "source": [
    "\n",
    "df['brand'].unique()"
   ]
  },
  {
   "cell_type": "code",
   "execution_count": 73,
   "id": "2f3368e2",
   "metadata": {},
   "outputs": [
    {
     "data": {
      "text/html": [
       "<div>\n",
       "<style scoped>\n",
       "    .dataframe tbody tr th:only-of-type {\n",
       "        vertical-align: middle;\n",
       "    }\n",
       "\n",
       "    .dataframe tbody tr th {\n",
       "        vertical-align: top;\n",
       "    }\n",
       "\n",
       "    .dataframe thead th {\n",
       "        text-align: right;\n",
       "    }\n",
       "</style>\n",
       "<table border=\"1\" class=\"dataframe\">\n",
       "  <thead>\n",
       "    <tr style=\"text-align: right;\">\n",
       "      <th></th>\n",
       "      <th>brand</th>\n",
       "      <th>name</th>\n",
       "      <th>type</th>\n",
       "      <th>km</th>\n",
       "      <th>year</th>\n",
       "      <th>accident</th>\n",
       "      <th>color</th>\n",
       "      <th>location</th>\n",
       "      <th>price</th>\n",
       "      <th>wd</th>\n",
       "      <th>trim</th>\n",
       "    </tr>\n",
       "  </thead>\n",
       "  <tbody>\n",
       "    <tr>\n",
       "      <th>0</th>\n",
       "      <td>기아</td>\n",
       "      <td>K5</td>\n",
       "      <td>가솔린</td>\n",
       "      <td>110575</td>\n",
       "      <td>2011</td>\n",
       "      <td>무사고</td>\n",
       "      <td>검정색</td>\n",
       "      <td>인천</td>\n",
       "      <td>650</td>\n",
       "      <td>2WD</td>\n",
       "      <td>1</td>\n",
       "    </tr>\n",
       "    <tr>\n",
       "      <th>1</th>\n",
       "      <td>기아</td>\n",
       "      <td>K5</td>\n",
       "      <td>가솔린</td>\n",
       "      <td>106819</td>\n",
       "      <td>2014</td>\n",
       "      <td>무사고</td>\n",
       "      <td>검정색</td>\n",
       "      <td>인천</td>\n",
       "      <td>940</td>\n",
       "      <td>2WD</td>\n",
       "      <td>1</td>\n",
       "    </tr>\n",
       "    <tr>\n",
       "      <th>2</th>\n",
       "      <td>기아</td>\n",
       "      <td>K5</td>\n",
       "      <td>가솔린</td>\n",
       "      <td>29151</td>\n",
       "      <td>2019</td>\n",
       "      <td>무사고</td>\n",
       "      <td>검정색</td>\n",
       "      <td>충북</td>\n",
       "      <td>1890</td>\n",
       "      <td>2WD</td>\n",
       "      <td>1</td>\n",
       "    </tr>\n",
       "    <tr>\n",
       "      <th>3</th>\n",
       "      <td>기아</td>\n",
       "      <td>K5</td>\n",
       "      <td>가솔린</td>\n",
       "      <td>8766</td>\n",
       "      <td>2021</td>\n",
       "      <td>무사고</td>\n",
       "      <td>검정색</td>\n",
       "      <td>경기</td>\n",
       "      <td>3190</td>\n",
       "      <td>2WD</td>\n",
       "      <td>1</td>\n",
       "    </tr>\n",
       "    <tr>\n",
       "      <th>4</th>\n",
       "      <td>기아</td>\n",
       "      <td>K5</td>\n",
       "      <td>가솔린</td>\n",
       "      <td>101196</td>\n",
       "      <td>2012</td>\n",
       "      <td>무사고</td>\n",
       "      <td>검정색</td>\n",
       "      <td>대구</td>\n",
       "      <td>820</td>\n",
       "      <td>2WD</td>\n",
       "      <td>2</td>\n",
       "    </tr>\n",
       "    <tr>\n",
       "      <th>...</th>\n",
       "      <td>...</td>\n",
       "      <td>...</td>\n",
       "      <td>...</td>\n",
       "      <td>...</td>\n",
       "      <td>...</td>\n",
       "      <td>...</td>\n",
       "      <td>...</td>\n",
       "      <td>...</td>\n",
       "      <td>...</td>\n",
       "      <td>...</td>\n",
       "      <td>...</td>\n",
       "    </tr>\n",
       "    <tr>\n",
       "      <th>64800</th>\n",
       "      <td>랜드로버</td>\n",
       "      <td>레인지로버 SE</td>\n",
       "      <td>디젤</td>\n",
       "      <td>84208</td>\n",
       "      <td>2016</td>\n",
       "      <td>무사고</td>\n",
       "      <td>흰색</td>\n",
       "      <td>경기</td>\n",
       "      <td>3390</td>\n",
       "      <td>2WD</td>\n",
       "      <td>2</td>\n",
       "    </tr>\n",
       "    <tr>\n",
       "      <th>64801</th>\n",
       "      <td>랜드로버</td>\n",
       "      <td>디스커버리 SE</td>\n",
       "      <td>디젤</td>\n",
       "      <td>47000</td>\n",
       "      <td>2018</td>\n",
       "      <td>무사고</td>\n",
       "      <td>흰색</td>\n",
       "      <td>인천</td>\n",
       "      <td>5133</td>\n",
       "      <td>2WD</td>\n",
       "      <td>1</td>\n",
       "    </tr>\n",
       "    <tr>\n",
       "      <th>64802</th>\n",
       "      <td>랜드로버</td>\n",
       "      <td>디스커버리 SE</td>\n",
       "      <td>디젤</td>\n",
       "      <td>47120</td>\n",
       "      <td>2018</td>\n",
       "      <td>무사고</td>\n",
       "      <td>흰색</td>\n",
       "      <td>대구</td>\n",
       "      <td>3390</td>\n",
       "      <td>2WD</td>\n",
       "      <td>1</td>\n",
       "    </tr>\n",
       "    <tr>\n",
       "      <th>64803</th>\n",
       "      <td>랜드로버</td>\n",
       "      <td>디스커버리 SE</td>\n",
       "      <td>디젤</td>\n",
       "      <td>36000</td>\n",
       "      <td>2017</td>\n",
       "      <td>무사고</td>\n",
       "      <td>흰색</td>\n",
       "      <td>경기</td>\n",
       "      <td>5999</td>\n",
       "      <td>2WD</td>\n",
       "      <td>1</td>\n",
       "    </tr>\n",
       "    <tr>\n",
       "      <th>64804</th>\n",
       "      <td>랜드로버</td>\n",
       "      <td>레인지로버 SE</td>\n",
       "      <td>디젤</td>\n",
       "      <td>25500</td>\n",
       "      <td>2018</td>\n",
       "      <td>무사고</td>\n",
       "      <td>흰색</td>\n",
       "      <td>서울</td>\n",
       "      <td>5278</td>\n",
       "      <td>2WD</td>\n",
       "      <td>2</td>\n",
       "    </tr>\n",
       "  </tbody>\n",
       "</table>\n",
       "<p>64805 rows × 11 columns</p>\n",
       "</div>"
      ],
      "text/plain": [
       "      brand      name type      km  year accident color location  price   wd  \\\n",
       "0        기아        K5  가솔린  110575  2011      무사고   검정색       인천    650  2WD   \n",
       "1        기아        K5  가솔린  106819  2014      무사고   검정색       인천    940  2WD   \n",
       "2        기아        K5  가솔린   29151  2019      무사고   검정색       충북   1890  2WD   \n",
       "3        기아        K5  가솔린    8766  2021      무사고   검정색       경기   3190  2WD   \n",
       "4        기아        K5  가솔린  101196  2012      무사고   검정색       대구    820  2WD   \n",
       "...     ...       ...  ...     ...   ...      ...   ...      ...    ...  ...   \n",
       "64800  랜드로버  레인지로버 SE   디젤   84208  2016      무사고    흰색       경기   3390  2WD   \n",
       "64801  랜드로버  디스커버리 SE   디젤   47000  2018      무사고    흰색       인천   5133  2WD   \n",
       "64802  랜드로버  디스커버리 SE   디젤   47120  2018      무사고    흰색       대구   3390  2WD   \n",
       "64803  랜드로버  디스커버리 SE   디젤   36000  2017      무사고    흰색       경기   5999  2WD   \n",
       "64804  랜드로버  레인지로버 SE   디젤   25500  2018      무사고    흰색       서울   5278  2WD   \n",
       "\n",
       "       trim  \n",
       "0         1  \n",
       "1         1  \n",
       "2         1  \n",
       "3         1  \n",
       "4         2  \n",
       "...     ...  \n",
       "64800     2  \n",
       "64801     1  \n",
       "64802     1  \n",
       "64803     1  \n",
       "64804     2  \n",
       "\n",
       "[64805 rows x 11 columns]"
      ]
     },
     "execution_count": 73,
     "metadata": {},
     "output_type": "execute_result"
    }
   ],
   "source": [
    "\n",
    "df['name'] = df.apply(lambda x: x['name'].replace('TDI',''), axis = 1)\n",
    "df['name'] = df.apply(lambda x: x['name'].replace('쏘렌토R','쏘렌토'), axis = 1)\n",
    "df['name'] = df.apply(lambda x: x['name'].replace('AD',''), axis = 1)\n",
    "df['name'] = df.apply(lambda x: x['name'].replace('2.3',''), axis = 1)\n",
    "df['name'] = df.apply(lambda x: x['name'].replace('3.5',''), axis = 1)\n",
    "df['name'] = df.apply(lambda x: x['name'].replace('IG',''), axis = 1)\n",
    "df['name'] = df.apply(lambda x: x['name'].replace('HG',''), axis = 1)\n",
    "df['name'] = df.apply(lambda x: x['name'].replace('ix',''), axis = 1)\n",
    "df['name'] = df.apply(lambda x: x['name'].replace('(RG3)',''), axis = 1)\n",
    "df['name'] = df.apply(lambda x: x['name'].replace('CDI',''), axis = 1)\n",
    "df['name'] = df.apply(lambda x: x['name'].replace('TSI',''), axis = 1)\n",
    "df['name'] = df.apply(lambda x: x['name'].replace('LF',''), axis = 1)\n",
    "df['name'] = df.apply(lambda x: x['name'].replace('CRDi 카고',''), axis = 1)\n",
    "df['name'] = df.apply(lambda x: x['name'].replace('(JS)',''), axis = 1)\n",
    "df['name'] = df.apply(lambda x: x['name'].replace('5.0L',''), axis = 1)\n",
    "df['name'] = df.apply(lambda x: x['name'].replace('\\s+',' '), axis = 1)\n",
    "df['name'] = df.apply(lambda x: x['name'].strip(), axis = 1)\n",
    "df"
   ]
  },
  {
   "cell_type": "code",
   "execution_count": 74,
   "id": "256e138f",
   "metadata": {},
   "outputs": [
    {
     "data": {
      "text/plain": [
       "array(['K5', 'K7', '모하비', '스포티지', '카니발', '쏘렌토', '레이', 'K9', '포르테', '모닝',\n",
       "       'K8', '카렌스', '스팅어', 'K3', '오피러스', '프라이드', '로체', '스토닉', '셀토스', '쏘울',\n",
       "       '쎄라토', '니로', '옵티마', '봉고3', '그랜저', '제네시스', '쏘나타', '아슬란', '싼타페',\n",
       "       '크루즈', '아반떼', '투싼', 'i3', '베뉴', '엑센트', '코나', '벨로스터', '스타렉스', '포터2',\n",
       "       '에쿠스', '팰리세이드', '쏠라티', 'i40', '스타리아', 'i30', '그랜드스타렉스', '맥스크루즈',\n",
       "       '엑센트(신형)', '펠리세이드', 'M6', 'SM7', 'M5', 'M3', '클리오', '캡처', '트위지',\n",
       "       '조에', 'QM5', 'QM6', 'SM3', 'SM5', 'SM6', '티볼리', '코란도', '렉스턴',\n",
       "       '렉스턴 RX7', '로디우스', '렉스턴 RX4', '액티언', '렉스턴 RX6',\n",
       "       '코란도 어드벤처 60th 에디션', '체어맨', '코란도 익스트림', '카이런', 'EQ900', 'G80',\n",
       "       'G70', 'G90', 'GV80', 'GV70', 'S350 블루텍', 'E300', 'E220', 'S560',\n",
       "       'GLE350', 'S4.0', 'S500L', 'S63', 'E220 블루텍', 'S350', 'GLC43',\n",
       "       'S350L', 'S500', 'E350', 'C200', 'S550', 'S600', 'E200',\n",
       "       'S350L 블루텍', 'E250 블루텍', 'C220', 'CLA220', 'GLC220', 'GLK220',\n",
       "       'G63', 'A200', 'GLC300', 'GLA220', 'E400', 'CLS4.0', 'CLS63',\n",
       "       'A220', 'CLA45', '200', 'GLC350e', 'GLA45', 'GLC250', 'CLS350',\n",
       "       'C220 블루텍', 'B200', 'CLS250', 'CLA250', 'ML350 블루텍', 'E250', 'C63',\n",
       "       'A45', 'CLS450', '118', '320', '530', '520', '730Ld', 'X1  20',\n",
       "       'X4 20', 'X5  30', 'X6 30', '740Li', '428   컨버터블', '750Li',\n",
       "       '640    그란쿠페', '750Ld', '740', 'X6 40', '730', '330', '420  그란쿠페',\n",
       "       '528', '428   쿠페', '420   쿠페', '티구안', '골프', '폴로', 'GT', '투아렉 블루모션',\n",
       "       '아테온', '파사트', '페이톤', '제타', '골프 블루모션', '뉴 CC 블루모션', '비틀', 'CC',\n",
       "       '제타 블루모션', '뉴 CC', '시로코', '티록', '투아렉', 'CC 블루모션', 'A7', 'TT', 'A3',\n",
       "       'A6', 'S7', 'A8', 'A4', 'A5', 'Q5', 'R8', 'Q3', 'Q7', 'S5', 'S6',\n",
       "       'S8', 'e-트론', 'S3', 'Q8', 'S4', '토러스 2.0 에코부스트', '몬데오 2.0 트렌드',\n",
       "       '익스플로러', 'F150', '머스탱 쿠페', '토러스', '머스탱 컨버터블', '몬데오 2.0 티타늄', '쿠퍼',\n",
       "       '쿠퍼 SE', '쿠퍼 컨트리맨', '쿠퍼 5도어', '쿠퍼 JCW', '로드스터', '쿠퍼 컨트리맨 파크래인',\n",
       "       '라세티', '다마스', '마티즈', '말리부', '아베오', '스파크', '알페온', '올란도', '윈스톰',\n",
       "       '익스프레스밴', '임팔라', '카마로', '캡티바', '콜로라도', '트레일블레이저', '볼트', '트래버스',\n",
       "       '트랙스', '레인지로버 SE', '레인지로버 AB', '디스커버리 SE', '레인지로버', '레인지로버 Vogue',\n",
       "       '프리랜더 SE'], dtype=object)"
      ]
     },
     "execution_count": 74,
     "metadata": {},
     "output_type": "execute_result"
    }
   ],
   "source": [
    "df['name'].unique()"
   ]
  },
  {
   "cell_type": "code",
   "execution_count": 75,
   "id": "3087106c",
   "metadata": {
    "scrolled": false
   },
   "outputs": [
    {
     "data": {
      "text/plain": [
       "array(['기아', '현대', '르노삼성', '쌍용', '제네시스', '벤츠', 'BMW', '폭스바겐', '아우디', '포드',\n",
       "       '미니', '쉐보레', '랜드로버'], dtype=object)"
      ]
     },
     "execution_count": 75,
     "metadata": {},
     "output_type": "execute_result"
    }
   ],
   "source": [
    "df['brand'].unique()"
   ]
  },
  {
   "cell_type": "code",
   "execution_count": 76,
   "id": "88e49a47",
   "metadata": {
    "scrolled": true
   },
   "outputs": [
    {
     "data": {
      "text/html": [
       "<div>\n",
       "<style scoped>\n",
       "    .dataframe tbody tr th:only-of-type {\n",
       "        vertical-align: middle;\n",
       "    }\n",
       "\n",
       "    .dataframe tbody tr th {\n",
       "        vertical-align: top;\n",
       "    }\n",
       "\n",
       "    .dataframe thead th {\n",
       "        text-align: right;\n",
       "    }\n",
       "</style>\n",
       "<table border=\"1\" class=\"dataframe\">\n",
       "  <thead>\n",
       "    <tr style=\"text-align: right;\">\n",
       "      <th></th>\n",
       "      <th>brand</th>\n",
       "      <th>name</th>\n",
       "      <th>type</th>\n",
       "      <th>km</th>\n",
       "      <th>year</th>\n",
       "      <th>accident</th>\n",
       "      <th>color</th>\n",
       "      <th>location</th>\n",
       "      <th>price</th>\n",
       "      <th>wd</th>\n",
       "      <th>trim</th>\n",
       "    </tr>\n",
       "  </thead>\n",
       "  <tbody>\n",
       "    <tr>\n",
       "      <th>41076</th>\n",
       "      <td>르노삼성</td>\n",
       "      <td>M6</td>\n",
       "      <td>LPG</td>\n",
       "      <td>100759</td>\n",
       "      <td>2017</td>\n",
       "      <td>무사고</td>\n",
       "      <td>검정색</td>\n",
       "      <td>전북</td>\n",
       "      <td>1180</td>\n",
       "      <td>2WD</td>\n",
       "      <td>1</td>\n",
       "    </tr>\n",
       "    <tr>\n",
       "      <th>41077</th>\n",
       "      <td>르노삼성</td>\n",
       "      <td>SM7</td>\n",
       "      <td>가솔린</td>\n",
       "      <td>152307</td>\n",
       "      <td>2012</td>\n",
       "      <td>무사고</td>\n",
       "      <td>검정색</td>\n",
       "      <td>경기</td>\n",
       "      <td>600</td>\n",
       "      <td>2WD</td>\n",
       "      <td>3</td>\n",
       "    </tr>\n",
       "    <tr>\n",
       "      <th>41078</th>\n",
       "      <td>르노삼성</td>\n",
       "      <td>M5</td>\n",
       "      <td>가솔린</td>\n",
       "      <td>76160</td>\n",
       "      <td>2011</td>\n",
       "      <td>무사고</td>\n",
       "      <td>검정색</td>\n",
       "      <td>서울</td>\n",
       "      <td>450</td>\n",
       "      <td>2WD</td>\n",
       "      <td>1</td>\n",
       "    </tr>\n",
       "    <tr>\n",
       "      <th>41079</th>\n",
       "      <td>르노삼성</td>\n",
       "      <td>M5</td>\n",
       "      <td>가솔린</td>\n",
       "      <td>23607</td>\n",
       "      <td>2017</td>\n",
       "      <td>무사고</td>\n",
       "      <td>검정색</td>\n",
       "      <td>경기</td>\n",
       "      <td>1250</td>\n",
       "      <td>2WD</td>\n",
       "      <td>1</td>\n",
       "    </tr>\n",
       "    <tr>\n",
       "      <th>41080</th>\n",
       "      <td>르노삼성</td>\n",
       "      <td>M6</td>\n",
       "      <td>가솔린</td>\n",
       "      <td>75270</td>\n",
       "      <td>2018</td>\n",
       "      <td>무사고</td>\n",
       "      <td>검정색</td>\n",
       "      <td>경기</td>\n",
       "      <td>1850</td>\n",
       "      <td>2WD</td>\n",
       "      <td>3</td>\n",
       "    </tr>\n",
       "    <tr>\n",
       "      <th>...</th>\n",
       "      <td>...</td>\n",
       "      <td>...</td>\n",
       "      <td>...</td>\n",
       "      <td>...</td>\n",
       "      <td>...</td>\n",
       "      <td>...</td>\n",
       "      <td>...</td>\n",
       "      <td>...</td>\n",
       "      <td>...</td>\n",
       "      <td>...</td>\n",
       "      <td>...</td>\n",
       "    </tr>\n",
       "    <tr>\n",
       "      <th>43605</th>\n",
       "      <td>르노삼성</td>\n",
       "      <td>SM6</td>\n",
       "      <td>가솔린</td>\n",
       "      <td>6000</td>\n",
       "      <td>2020</td>\n",
       "      <td>무사고</td>\n",
       "      <td>흰색</td>\n",
       "      <td>경기</td>\n",
       "      <td>2090</td>\n",
       "      <td>2WD</td>\n",
       "      <td>2</td>\n",
       "    </tr>\n",
       "    <tr>\n",
       "      <th>43606</th>\n",
       "      <td>르노삼성</td>\n",
       "      <td>SM6</td>\n",
       "      <td>LPG</td>\n",
       "      <td>2684</td>\n",
       "      <td>2017</td>\n",
       "      <td>무사고</td>\n",
       "      <td>흰색</td>\n",
       "      <td>인천</td>\n",
       "      <td>1710</td>\n",
       "      <td>2WD</td>\n",
       "      <td>1</td>\n",
       "    </tr>\n",
       "    <tr>\n",
       "      <th>43607</th>\n",
       "      <td>르노삼성</td>\n",
       "      <td>SM6</td>\n",
       "      <td>가솔린</td>\n",
       "      <td>6000</td>\n",
       "      <td>2020</td>\n",
       "      <td>무사고</td>\n",
       "      <td>흰색</td>\n",
       "      <td>경기</td>\n",
       "      <td>2090</td>\n",
       "      <td>2WD</td>\n",
       "      <td>2</td>\n",
       "    </tr>\n",
       "    <tr>\n",
       "      <th>43608</th>\n",
       "      <td>르노삼성</td>\n",
       "      <td>SM6</td>\n",
       "      <td>가솔린</td>\n",
       "      <td>46348</td>\n",
       "      <td>2018</td>\n",
       "      <td>무사고</td>\n",
       "      <td>흰색</td>\n",
       "      <td>경기</td>\n",
       "      <td>1450</td>\n",
       "      <td>2WD</td>\n",
       "      <td>1</td>\n",
       "    </tr>\n",
       "    <tr>\n",
       "      <th>43609</th>\n",
       "      <td>르노삼성</td>\n",
       "      <td>SM6</td>\n",
       "      <td>가솔린</td>\n",
       "      <td>18177</td>\n",
       "      <td>2019</td>\n",
       "      <td>무사고</td>\n",
       "      <td>흰색</td>\n",
       "      <td>경기</td>\n",
       "      <td>2120</td>\n",
       "      <td>2WD</td>\n",
       "      <td>2</td>\n",
       "    </tr>\n",
       "  </tbody>\n",
       "</table>\n",
       "<p>2534 rows × 11 columns</p>\n",
       "</div>"
      ],
      "text/plain": [
       "      brand name type      km  year accident color location  price   wd  trim\n",
       "41076  르노삼성   M6  LPG  100759  2017      무사고   검정색       전북   1180  2WD     1\n",
       "41077  르노삼성  SM7  가솔린  152307  2012      무사고   검정색       경기    600  2WD     3\n",
       "41078  르노삼성   M5  가솔린   76160  2011      무사고   검정색       서울    450  2WD     1\n",
       "41079  르노삼성   M5  가솔린   23607  2017      무사고   검정색       경기   1250  2WD     1\n",
       "41080  르노삼성   M6  가솔린   75270  2018      무사고   검정색       경기   1850  2WD     3\n",
       "...     ...  ...  ...     ...   ...      ...   ...      ...    ...  ...   ...\n",
       "43605  르노삼성  SM6  가솔린    6000  2020      무사고    흰색       경기   2090  2WD     2\n",
       "43606  르노삼성  SM6  LPG    2684  2017      무사고    흰색       인천   1710  2WD     1\n",
       "43607  르노삼성  SM6  가솔린    6000  2020      무사고    흰색       경기   2090  2WD     2\n",
       "43608  르노삼성  SM6  가솔린   46348  2018      무사고    흰색       경기   1450  2WD     1\n",
       "43609  르노삼성  SM6  가솔린   18177  2019      무사고    흰색       경기   2120  2WD     2\n",
       "\n",
       "[2534 rows x 11 columns]"
      ]
     },
     "execution_count": 76,
     "metadata": {},
     "output_type": "execute_result"
    }
   ],
   "source": [
    "sam = df[df['brand']=='르노삼성']\n",
    "sam"
   ]
  },
  {
   "cell_type": "code",
   "execution_count": 77,
   "id": "5c85d1ce",
   "metadata": {},
   "outputs": [
    {
     "data": {
      "text/plain": [
       "array(['기아', '현대', '쌍용', '제네시스', '벤츠', 'BMW', '폭스바겐', '아우디', '포드', '미니',\n",
       "       '쉐보레', '랜드로버'], dtype=object)"
      ]
     },
     "execution_count": 77,
     "metadata": {},
     "output_type": "execute_result"
    }
   ],
   "source": [
    "df.drop(df.loc[df['brand']=='르노삼성'].index, inplace=True)\n",
    "df['brand'].unique()"
   ]
  },
  {
   "cell_type": "code",
   "execution_count": 78,
   "id": "fa3c4197",
   "metadata": {
    "scrolled": true
   },
   "outputs": [
    {
     "data": {
      "text/plain": [
       "array(['M6', 'SM7', 'M5', 'M3', '클리오', '캡처', '트위지', '조에', 'QM5', 'QM6',\n",
       "       'SM3', 'SM5', 'SM6'], dtype=object)"
      ]
     },
     "execution_count": 78,
     "metadata": {},
     "output_type": "execute_result"
    }
   ],
   "source": [
    "sam['name'].unique()"
   ]
  },
  {
   "cell_type": "code",
   "execution_count": 82,
   "id": "6e37fdd7",
   "metadata": {},
   "outputs": [
    {
     "data": {
      "text/html": [
       "<div>\n",
       "<style scoped>\n",
       "    .dataframe tbody tr th:only-of-type {\n",
       "        vertical-align: middle;\n",
       "    }\n",
       "\n",
       "    .dataframe tbody tr th {\n",
       "        vertical-align: top;\n",
       "    }\n",
       "\n",
       "    .dataframe thead th {\n",
       "        text-align: right;\n",
       "    }\n",
       "</style>\n",
       "<table border=\"1\" class=\"dataframe\">\n",
       "  <thead>\n",
       "    <tr style=\"text-align: right;\">\n",
       "      <th></th>\n",
       "      <th>brand</th>\n",
       "      <th>name</th>\n",
       "      <th>type</th>\n",
       "      <th>km</th>\n",
       "      <th>year</th>\n",
       "      <th>accident</th>\n",
       "      <th>color</th>\n",
       "      <th>location</th>\n",
       "      <th>price</th>\n",
       "      <th>wd</th>\n",
       "      <th>trim</th>\n",
       "    </tr>\n",
       "  </thead>\n",
       "  <tbody>\n",
       "    <tr>\n",
       "      <th>0</th>\n",
       "      <td>르노삼성</td>\n",
       "      <td>M6</td>\n",
       "      <td>LPG</td>\n",
       "      <td>100759</td>\n",
       "      <td>2017</td>\n",
       "      <td>무사고</td>\n",
       "      <td>검정색</td>\n",
       "      <td>전북</td>\n",
       "      <td>1180</td>\n",
       "      <td>2WD</td>\n",
       "      <td>1</td>\n",
       "    </tr>\n",
       "    <tr>\n",
       "      <th>1</th>\n",
       "      <td>르노삼성</td>\n",
       "      <td>SM7</td>\n",
       "      <td>가솔린</td>\n",
       "      <td>152307</td>\n",
       "      <td>2012</td>\n",
       "      <td>무사고</td>\n",
       "      <td>검정색</td>\n",
       "      <td>경기</td>\n",
       "      <td>600</td>\n",
       "      <td>2WD</td>\n",
       "      <td>3</td>\n",
       "    </tr>\n",
       "    <tr>\n",
       "      <th>2</th>\n",
       "      <td>르노삼성</td>\n",
       "      <td>M5</td>\n",
       "      <td>가솔린</td>\n",
       "      <td>76160</td>\n",
       "      <td>2011</td>\n",
       "      <td>무사고</td>\n",
       "      <td>검정색</td>\n",
       "      <td>서울</td>\n",
       "      <td>450</td>\n",
       "      <td>2WD</td>\n",
       "      <td>1</td>\n",
       "    </tr>\n",
       "    <tr>\n",
       "      <th>3</th>\n",
       "      <td>르노삼성</td>\n",
       "      <td>M5</td>\n",
       "      <td>가솔린</td>\n",
       "      <td>23607</td>\n",
       "      <td>2017</td>\n",
       "      <td>무사고</td>\n",
       "      <td>검정색</td>\n",
       "      <td>경기</td>\n",
       "      <td>1250</td>\n",
       "      <td>2WD</td>\n",
       "      <td>1</td>\n",
       "    </tr>\n",
       "    <tr>\n",
       "      <th>4</th>\n",
       "      <td>르노삼성</td>\n",
       "      <td>M6</td>\n",
       "      <td>가솔린</td>\n",
       "      <td>75270</td>\n",
       "      <td>2018</td>\n",
       "      <td>무사고</td>\n",
       "      <td>검정색</td>\n",
       "      <td>경기</td>\n",
       "      <td>1850</td>\n",
       "      <td>2WD</td>\n",
       "      <td>3</td>\n",
       "    </tr>\n",
       "    <tr>\n",
       "      <th>...</th>\n",
       "      <td>...</td>\n",
       "      <td>...</td>\n",
       "      <td>...</td>\n",
       "      <td>...</td>\n",
       "      <td>...</td>\n",
       "      <td>...</td>\n",
       "      <td>...</td>\n",
       "      <td>...</td>\n",
       "      <td>...</td>\n",
       "      <td>...</td>\n",
       "      <td>...</td>\n",
       "    </tr>\n",
       "    <tr>\n",
       "      <th>2529</th>\n",
       "      <td>르노삼성</td>\n",
       "      <td>SM6</td>\n",
       "      <td>가솔린</td>\n",
       "      <td>6000</td>\n",
       "      <td>2020</td>\n",
       "      <td>무사고</td>\n",
       "      <td>흰색</td>\n",
       "      <td>경기</td>\n",
       "      <td>2090</td>\n",
       "      <td>2WD</td>\n",
       "      <td>2</td>\n",
       "    </tr>\n",
       "    <tr>\n",
       "      <th>2530</th>\n",
       "      <td>르노삼성</td>\n",
       "      <td>SM6</td>\n",
       "      <td>LPG</td>\n",
       "      <td>2684</td>\n",
       "      <td>2017</td>\n",
       "      <td>무사고</td>\n",
       "      <td>흰색</td>\n",
       "      <td>인천</td>\n",
       "      <td>1710</td>\n",
       "      <td>2WD</td>\n",
       "      <td>1</td>\n",
       "    </tr>\n",
       "    <tr>\n",
       "      <th>2531</th>\n",
       "      <td>르노삼성</td>\n",
       "      <td>SM6</td>\n",
       "      <td>가솔린</td>\n",
       "      <td>6000</td>\n",
       "      <td>2020</td>\n",
       "      <td>무사고</td>\n",
       "      <td>흰색</td>\n",
       "      <td>경기</td>\n",
       "      <td>2090</td>\n",
       "      <td>2WD</td>\n",
       "      <td>2</td>\n",
       "    </tr>\n",
       "    <tr>\n",
       "      <th>2532</th>\n",
       "      <td>르노삼성</td>\n",
       "      <td>SM6</td>\n",
       "      <td>가솔린</td>\n",
       "      <td>46348</td>\n",
       "      <td>2018</td>\n",
       "      <td>무사고</td>\n",
       "      <td>흰색</td>\n",
       "      <td>경기</td>\n",
       "      <td>1450</td>\n",
       "      <td>2WD</td>\n",
       "      <td>1</td>\n",
       "    </tr>\n",
       "    <tr>\n",
       "      <th>2533</th>\n",
       "      <td>르노삼성</td>\n",
       "      <td>SM6</td>\n",
       "      <td>가솔린</td>\n",
       "      <td>18177</td>\n",
       "      <td>2019</td>\n",
       "      <td>무사고</td>\n",
       "      <td>흰색</td>\n",
       "      <td>경기</td>\n",
       "      <td>2120</td>\n",
       "      <td>2WD</td>\n",
       "      <td>2</td>\n",
       "    </tr>\n",
       "  </tbody>\n",
       "</table>\n",
       "<p>2534 rows × 11 columns</p>\n",
       "</div>"
      ],
      "text/plain": [
       "     brand name type      km  year accident color location  price   wd  trim\n",
       "0     르노삼성   M6  LPG  100759  2017      무사고   검정색       전북   1180  2WD     1\n",
       "1     르노삼성  SM7  가솔린  152307  2012      무사고   검정색       경기    600  2WD     3\n",
       "2     르노삼성   M5  가솔린   76160  2011      무사고   검정색       서울    450  2WD     1\n",
       "3     르노삼성   M5  가솔린   23607  2017      무사고   검정색       경기   1250  2WD     1\n",
       "4     르노삼성   M6  가솔린   75270  2018      무사고   검정색       경기   1850  2WD     3\n",
       "...    ...  ...  ...     ...   ...      ...   ...      ...    ...  ...   ...\n",
       "2529  르노삼성  SM6  가솔린    6000  2020      무사고    흰색       경기   2090  2WD     2\n",
       "2530  르노삼성  SM6  LPG    2684  2017      무사고    흰색       인천   1710  2WD     1\n",
       "2531  르노삼성  SM6  가솔린    6000  2020      무사고    흰색       경기   2090  2WD     2\n",
       "2532  르노삼성  SM6  가솔린   46348  2018      무사고    흰색       경기   1450  2WD     1\n",
       "2533  르노삼성  SM6  가솔린   18177  2019      무사고    흰색       경기   2120  2WD     2\n",
       "\n",
       "[2534 rows x 11 columns]"
      ]
     },
     "execution_count": 82,
     "metadata": {},
     "output_type": "execute_result"
    }
   ],
   "source": [
    "sam.reset_index(inplace = True)\n",
    "sam.drop(['index'], axis = 1,inplace = True)\n",
    "sam"
   ]
  },
  {
   "cell_type": "code",
   "execution_count": 85,
   "id": "84bcce1e",
   "metadata": {},
   "outputs": [],
   "source": [
    "for i in range(0,len(sam)):\n",
    "    if sam['name'][i]=='M6':\n",
    "        sam['name'][i]='SM6'\n",
    "    elif sam['name'][i]=='M5':\n",
    "        sam['name'][i]='SM5'\n",
    "    elif sam['name'][i]=='M3':\n",
    "        sam['name'][i]='SM3'\n",
    "    else :\n",
    "        pass"
   ]
  },
  {
   "cell_type": "code",
   "execution_count": 86,
   "id": "826661e9",
   "metadata": {},
   "outputs": [
    {
     "data": {
      "text/plain": [
       "array(['SM6', 'SM7', 'SM5', 'SM3', '클리오', '캡처', '트위지', '조에', 'QM5', 'QM6'],\n",
       "      dtype=object)"
      ]
     },
     "execution_count": 86,
     "metadata": {},
     "output_type": "execute_result"
    }
   ],
   "source": [
    "sam['name'].unique()"
   ]
  },
  {
   "cell_type": "code",
   "execution_count": 87,
   "id": "277065a4",
   "metadata": {},
   "outputs": [
    {
     "data": {
      "text/html": [
       "<div>\n",
       "<style scoped>\n",
       "    .dataframe tbody tr th:only-of-type {\n",
       "        vertical-align: middle;\n",
       "    }\n",
       "\n",
       "    .dataframe tbody tr th {\n",
       "        vertical-align: top;\n",
       "    }\n",
       "\n",
       "    .dataframe thead th {\n",
       "        text-align: right;\n",
       "    }\n",
       "</style>\n",
       "<table border=\"1\" class=\"dataframe\">\n",
       "  <thead>\n",
       "    <tr style=\"text-align: right;\">\n",
       "      <th></th>\n",
       "      <th>brand</th>\n",
       "      <th>name</th>\n",
       "      <th>type</th>\n",
       "      <th>km</th>\n",
       "      <th>year</th>\n",
       "      <th>accident</th>\n",
       "      <th>color</th>\n",
       "      <th>location</th>\n",
       "      <th>price</th>\n",
       "      <th>wd</th>\n",
       "      <th>trim</th>\n",
       "    </tr>\n",
       "  </thead>\n",
       "  <tbody>\n",
       "    <tr>\n",
       "      <th>0</th>\n",
       "      <td>기아</td>\n",
       "      <td>K5</td>\n",
       "      <td>가솔린</td>\n",
       "      <td>110575</td>\n",
       "      <td>2011</td>\n",
       "      <td>무사고</td>\n",
       "      <td>검정색</td>\n",
       "      <td>인천</td>\n",
       "      <td>650</td>\n",
       "      <td>2WD</td>\n",
       "      <td>1</td>\n",
       "    </tr>\n",
       "    <tr>\n",
       "      <th>1</th>\n",
       "      <td>기아</td>\n",
       "      <td>K5</td>\n",
       "      <td>가솔린</td>\n",
       "      <td>106819</td>\n",
       "      <td>2014</td>\n",
       "      <td>무사고</td>\n",
       "      <td>검정색</td>\n",
       "      <td>인천</td>\n",
       "      <td>940</td>\n",
       "      <td>2WD</td>\n",
       "      <td>1</td>\n",
       "    </tr>\n",
       "    <tr>\n",
       "      <th>2</th>\n",
       "      <td>기아</td>\n",
       "      <td>K5</td>\n",
       "      <td>가솔린</td>\n",
       "      <td>29151</td>\n",
       "      <td>2019</td>\n",
       "      <td>무사고</td>\n",
       "      <td>검정색</td>\n",
       "      <td>충북</td>\n",
       "      <td>1890</td>\n",
       "      <td>2WD</td>\n",
       "      <td>1</td>\n",
       "    </tr>\n",
       "    <tr>\n",
       "      <th>3</th>\n",
       "      <td>기아</td>\n",
       "      <td>K5</td>\n",
       "      <td>가솔린</td>\n",
       "      <td>8766</td>\n",
       "      <td>2021</td>\n",
       "      <td>무사고</td>\n",
       "      <td>검정색</td>\n",
       "      <td>경기</td>\n",
       "      <td>3190</td>\n",
       "      <td>2WD</td>\n",
       "      <td>1</td>\n",
       "    </tr>\n",
       "    <tr>\n",
       "      <th>4</th>\n",
       "      <td>기아</td>\n",
       "      <td>K5</td>\n",
       "      <td>가솔린</td>\n",
       "      <td>101196</td>\n",
       "      <td>2012</td>\n",
       "      <td>무사고</td>\n",
       "      <td>검정색</td>\n",
       "      <td>대구</td>\n",
       "      <td>820</td>\n",
       "      <td>2WD</td>\n",
       "      <td>2</td>\n",
       "    </tr>\n",
       "    <tr>\n",
       "      <th>...</th>\n",
       "      <td>...</td>\n",
       "      <td>...</td>\n",
       "      <td>...</td>\n",
       "      <td>...</td>\n",
       "      <td>...</td>\n",
       "      <td>...</td>\n",
       "      <td>...</td>\n",
       "      <td>...</td>\n",
       "      <td>...</td>\n",
       "      <td>...</td>\n",
       "      <td>...</td>\n",
       "    </tr>\n",
       "    <tr>\n",
       "      <th>2529</th>\n",
       "      <td>르노삼성</td>\n",
       "      <td>SM6</td>\n",
       "      <td>가솔린</td>\n",
       "      <td>6000</td>\n",
       "      <td>2020</td>\n",
       "      <td>무사고</td>\n",
       "      <td>흰색</td>\n",
       "      <td>경기</td>\n",
       "      <td>2090</td>\n",
       "      <td>2WD</td>\n",
       "      <td>2</td>\n",
       "    </tr>\n",
       "    <tr>\n",
       "      <th>2530</th>\n",
       "      <td>르노삼성</td>\n",
       "      <td>SM6</td>\n",
       "      <td>LPG</td>\n",
       "      <td>2684</td>\n",
       "      <td>2017</td>\n",
       "      <td>무사고</td>\n",
       "      <td>흰색</td>\n",
       "      <td>인천</td>\n",
       "      <td>1710</td>\n",
       "      <td>2WD</td>\n",
       "      <td>1</td>\n",
       "    </tr>\n",
       "    <tr>\n",
       "      <th>2531</th>\n",
       "      <td>르노삼성</td>\n",
       "      <td>SM6</td>\n",
       "      <td>가솔린</td>\n",
       "      <td>6000</td>\n",
       "      <td>2020</td>\n",
       "      <td>무사고</td>\n",
       "      <td>흰색</td>\n",
       "      <td>경기</td>\n",
       "      <td>2090</td>\n",
       "      <td>2WD</td>\n",
       "      <td>2</td>\n",
       "    </tr>\n",
       "    <tr>\n",
       "      <th>2532</th>\n",
       "      <td>르노삼성</td>\n",
       "      <td>SM6</td>\n",
       "      <td>가솔린</td>\n",
       "      <td>46348</td>\n",
       "      <td>2018</td>\n",
       "      <td>무사고</td>\n",
       "      <td>흰색</td>\n",
       "      <td>경기</td>\n",
       "      <td>1450</td>\n",
       "      <td>2WD</td>\n",
       "      <td>1</td>\n",
       "    </tr>\n",
       "    <tr>\n",
       "      <th>2533</th>\n",
       "      <td>르노삼성</td>\n",
       "      <td>SM6</td>\n",
       "      <td>가솔린</td>\n",
       "      <td>18177</td>\n",
       "      <td>2019</td>\n",
       "      <td>무사고</td>\n",
       "      <td>흰색</td>\n",
       "      <td>경기</td>\n",
       "      <td>2120</td>\n",
       "      <td>2WD</td>\n",
       "      <td>2</td>\n",
       "    </tr>\n",
       "  </tbody>\n",
       "</table>\n",
       "<p>64805 rows × 11 columns</p>\n",
       "</div>"
      ],
      "text/plain": [
       "     brand name type      km  year accident color location  price   wd  trim\n",
       "0       기아   K5  가솔린  110575  2011      무사고   검정색       인천    650  2WD     1\n",
       "1       기아   K5  가솔린  106819  2014      무사고   검정색       인천    940  2WD     1\n",
       "2       기아   K5  가솔린   29151  2019      무사고   검정색       충북   1890  2WD     1\n",
       "3       기아   K5  가솔린    8766  2021      무사고   검정색       경기   3190  2WD     1\n",
       "4       기아   K5  가솔린  101196  2012      무사고   검정색       대구    820  2WD     2\n",
       "...    ...  ...  ...     ...   ...      ...   ...      ...    ...  ...   ...\n",
       "2529  르노삼성  SM6  가솔린    6000  2020      무사고    흰색       경기   2090  2WD     2\n",
       "2530  르노삼성  SM6  LPG    2684  2017      무사고    흰색       인천   1710  2WD     1\n",
       "2531  르노삼성  SM6  가솔린    6000  2020      무사고    흰색       경기   2090  2WD     2\n",
       "2532  르노삼성  SM6  가솔린   46348  2018      무사고    흰색       경기   1450  2WD     1\n",
       "2533  르노삼성  SM6  가솔린   18177  2019      무사고    흰색       경기   2120  2WD     2\n",
       "\n",
       "[64805 rows x 11 columns]"
      ]
     },
     "execution_count": 87,
     "metadata": {},
     "output_type": "execute_result"
    }
   ],
   "source": [
    "df = pd.concat([df,sam])\n",
    "df"
   ]
  },
  {
   "cell_type": "code",
   "execution_count": 88,
   "id": "9623b30e",
   "metadata": {
    "scrolled": false
   },
   "outputs": [],
   "source": [
    "df.to_csv('data/완성_수정.csv')"
   ]
  },
  {
   "cell_type": "code",
   "execution_count": 92,
   "id": "ab113598",
   "metadata": {},
   "outputs": [
    {
     "data": {
      "text/plain": [
       "array(['기아', '현대', '쌍용', '제네시스', '벤츠', 'BMW', '폭스바겐', '아우디', '포드', '미니',\n",
       "       '쉐보레', '랜드로버', '르노삼성'], dtype=object)"
      ]
     },
     "execution_count": 92,
     "metadata": {},
     "output_type": "execute_result"
    }
   ],
   "source": [
    "df['brand'].unique()"
   ]
  },
  {
   "cell_type": "code",
   "execution_count": 89,
   "id": "a367f0f5",
   "metadata": {
    "scrolled": false
   },
   "outputs": [
    {
     "data": {
      "text/plain": [
       "array(['K5', 'K7', '모하비', '스포티지', '카니발', '쏘렌토', '레이', 'K9', '포르테', '모닝',\n",
       "       'K8', '카렌스', '스팅어', 'K3', '오피러스', '프라이드', '로체', '스토닉', '셀토스', '쏘울',\n",
       "       '쎄라토', '니로', '옵티마', '봉고3'], dtype=object)"
      ]
     },
     "execution_count": 89,
     "metadata": {},
     "output_type": "execute_result"
    }
   ],
   "source": [
    "df[df['brand']=='기아']['name'].unique()"
   ]
  },
  {
   "cell_type": "code",
   "execution_count": 90,
   "id": "c28b57b0",
   "metadata": {
    "scrolled": false
   },
   "outputs": [
    {
     "data": {
      "text/plain": [
       "array(['그랜저', '제네시스', '쏘나타', '아슬란', '싼타페', '크루즈', '아반떼', '투싼', 'i3', '베뉴',\n",
       "       '엑센트', '코나', '벨로스터', '스타렉스', '포터2', '에쿠스', '팰리세이드', '쏠라티', 'i40',\n",
       "       '스타리아', 'i30', '그랜드스타렉스', '맥스크루즈', '엑센트(신형)', '펠리세이드'],\n",
       "      dtype=object)"
      ]
     },
     "execution_count": 90,
     "metadata": {},
     "output_type": "execute_result"
    }
   ],
   "source": [
    "df[df['brand']=='현대']['name'].unique()"
   ]
  },
  {
   "cell_type": "code",
   "execution_count": 91,
   "id": "0cc6519d",
   "metadata": {
    "scrolled": false
   },
   "outputs": [
    {
     "data": {
      "text/plain": [
       "array(['SM6', 'SM7', 'SM5', 'SM3', '클리오', '캡처', '트위지', '조에', 'QM5', 'QM6'],\n",
       "      dtype=object)"
      ]
     },
     "execution_count": 91,
     "metadata": {},
     "output_type": "execute_result"
    }
   ],
   "source": [
    "df[df['brand']=='르노삼성']['name'].unique()"
   ]
  },
  {
   "cell_type": "code",
   "execution_count": 93,
   "id": "1dd155a2",
   "metadata": {},
   "outputs": [
    {
     "data": {
      "text/plain": [
       "array(['티볼리', '코란도', '렉스턴', '렉스턴 RX7', '로디우스', '렉스턴 RX4', '액티언',\n",
       "       '렉스턴 RX6', '코란도 어드벤처 60th 에디션', '체어맨', '코란도 익스트림', '카이런'],\n",
       "      dtype=object)"
      ]
     },
     "execution_count": 93,
     "metadata": {},
     "output_type": "execute_result"
    }
   ],
   "source": [
    "df[df['brand']=='쌍용']['name'].unique()"
   ]
  },
  {
   "cell_type": "code",
   "execution_count": 94,
   "id": "bcb0db57",
   "metadata": {},
   "outputs": [
    {
     "data": {
      "text/plain": [
       "array(['EQ900', 'G80', 'G70', 'G90', 'GV80', 'GV70'], dtype=object)"
      ]
     },
     "execution_count": 94,
     "metadata": {},
     "output_type": "execute_result"
    }
   ],
   "source": [
    "df[df['brand']=='제네시스']['name'].unique()"
   ]
  },
  {
   "cell_type": "code",
   "execution_count": 95,
   "id": "512bcc8e",
   "metadata": {},
   "outputs": [
    {
     "data": {
      "text/plain": [
       "array(['S350 블루텍', 'E300', 'E220', 'S560', 'GLE350', 'S4.0', 'S500L',\n",
       "       'S63', 'E220 블루텍', 'S350', 'GLC43', 'S350L', 'S500', 'E350',\n",
       "       'C200', 'S550', 'S600', 'E200', 'S350L 블루텍', 'E250 블루텍', 'C220',\n",
       "       'CLA220', 'GLC220', 'GLK220', 'G63', 'A200', 'GLC300', 'GLA220',\n",
       "       'E400', 'CLS4.0', 'CLS63', 'A220', 'CLA45', '200', 'GLC350e',\n",
       "       'GLA45', 'GLC250', 'CLS350', 'C220 블루텍', 'B200', 'CLS250',\n",
       "       'CLA250', 'ML350 블루텍', 'E250', 'C63', 'A45', 'CLS450'],\n",
       "      dtype=object)"
      ]
     },
     "execution_count": 95,
     "metadata": {},
     "output_type": "execute_result"
    }
   ],
   "source": [
    "df[df['brand']=='벤츠']['name'].unique()"
   ]
  },
  {
   "cell_type": "code",
   "execution_count": 96,
   "id": "3b100d64",
   "metadata": {},
   "outputs": [
    {
     "data": {
      "text/plain": [
       "array(['118', '320', '530', '520', '730Ld', 'X1  20', 'X4 20', 'X5  30',\n",
       "       'X6 30', '740Li', '428   컨버터블', '750Li', '640    그란쿠페', '750Ld',\n",
       "       '740', 'X6 40', '730', '330', '420  그란쿠페', 'i3', '528', '428   쿠페',\n",
       "       '420   쿠페'], dtype=object)"
      ]
     },
     "execution_count": 96,
     "metadata": {},
     "output_type": "execute_result"
    }
   ],
   "source": [
    "df[df['brand']=='BMW']['name'].unique()"
   ]
  },
  {
   "cell_type": "code",
   "execution_count": 97,
   "id": "a0a32abd",
   "metadata": {
    "scrolled": true
   },
   "outputs": [
    {
     "data": {
      "text/plain": [
       "array(['티구안', '골프', '폴로', 'GT', '투아렉 블루모션', '아테온', '파사트', '페이톤', '제타',\n",
       "       '골프 블루모션', '뉴 CC 블루모션', '비틀', 'CC', '제타 블루모션', '뉴 CC', '시로코', '티록',\n",
       "       '투아렉', 'CC 블루모션'], dtype=object)"
      ]
     },
     "execution_count": 97,
     "metadata": {},
     "output_type": "execute_result"
    }
   ],
   "source": [
    "df[df['brand']=='폭스바겐']['name'].unique()"
   ]
  },
  {
   "cell_type": "code",
   "execution_count": 98,
   "id": "6694dacb",
   "metadata": {},
   "outputs": [
    {
     "data": {
      "text/plain": [
       "array(['A7', 'TT', 'A3', 'A6', 'S7', 'A8', 'A4', 'A5', 'Q5', 'R8', 'Q3',\n",
       "       'Q7', 'S5', 'S6', 'S8', 'e-트론', 'S3', 'Q8', 'S4'], dtype=object)"
      ]
     },
     "execution_count": 98,
     "metadata": {},
     "output_type": "execute_result"
    }
   ],
   "source": [
    "df[df['brand']=='아우디']['name'].unique()"
   ]
  },
  {
   "cell_type": "code",
   "execution_count": 99,
   "id": "d888688e",
   "metadata": {},
   "outputs": [
    {
     "data": {
      "text/plain": [
       "array(['토러스 2.0 에코부스트', '몬데오 2.0 트렌드', '익스플로러', 'F150', '머스탱 쿠페', '토러스',\n",
       "       '머스탱 컨버터블', '몬데오 2.0 티타늄'], dtype=object)"
      ]
     },
     "execution_count": 99,
     "metadata": {},
     "output_type": "execute_result"
    }
   ],
   "source": [
    "df[df['brand']=='포드']['name'].unique()"
   ]
  },
  {
   "cell_type": "code",
   "execution_count": 100,
   "id": "95eb6f68",
   "metadata": {},
   "outputs": [
    {
     "data": {
      "text/plain": [
       "array(['쿠퍼', '쿠퍼 SE', '쿠퍼 컨트리맨', '쿠퍼 5도어', '쿠퍼 JCW', '로드스터',\n",
       "       '쿠퍼 컨트리맨 파크래인'], dtype=object)"
      ]
     },
     "execution_count": 100,
     "metadata": {},
     "output_type": "execute_result"
    }
   ],
   "source": [
    "df[df['brand']=='미니']['name'].unique()"
   ]
  },
  {
   "cell_type": "code",
   "execution_count": 101,
   "id": "fa971ab5",
   "metadata": {},
   "outputs": [
    {
     "data": {
      "text/plain": [
       "array(['라세티', '다마스', '마티즈', '말리부', '아베오', '스파크', '알페온', '올란도', '윈스톰',\n",
       "       '익스프레스밴', '임팔라', '카마로', '캡티바', '콜로라도', '크루즈', '트레일블레이저', '볼트',\n",
       "       '트래버스', '트랙스'], dtype=object)"
      ]
     },
     "execution_count": 101,
     "metadata": {},
     "output_type": "execute_result"
    }
   ],
   "source": [
    "df[df['brand']=='쉐보레']['name'].unique()"
   ]
  },
  {
   "cell_type": "code",
   "execution_count": 102,
   "id": "9a2a753c",
   "metadata": {},
   "outputs": [
    {
     "data": {
      "text/plain": [
       "array(['레인지로버 SE', '레인지로버 AB', '디스커버리 SE', '레인지로버', '레인지로버 Vogue',\n",
       "       '프리랜더 SE'], dtype=object)"
      ]
     },
     "execution_count": 102,
     "metadata": {},
     "output_type": "execute_result"
    }
   ],
   "source": [
    "df[df['brand']=='랜드로버']['name'].unique()"
   ]
  },
  {
   "cell_type": "code",
   "execution_count": null,
   "id": "a6404f60",
   "metadata": {},
   "outputs": [],
   "source": []
  }
 ],
 "metadata": {
  "kernelspec": {
   "display_name": "Python 3",
   "language": "python",
   "name": "python3"
  },
  "language_info": {
   "codemirror_mode": {
    "name": "ipython",
    "version": 3
   },
   "file_extension": ".py",
   "mimetype": "text/x-python",
   "name": "python",
   "nbconvert_exporter": "python",
   "pygments_lexer": "ipython3",
   "version": "3.8.8"
  }
 },
 "nbformat": 4,
 "nbformat_minor": 5
}
