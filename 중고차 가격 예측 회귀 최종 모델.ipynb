{
 "cells": [
  {
   "cell_type": "markdown",
   "metadata": {},
   "source": [
    "## 과정"
   ]
  },
  {
   "cell_type": "markdown",
   "metadata": {},
   "source": [
    "### 전체 회귀 분석 과정\n",
    "- 1.선형 회귀 모델 학습/예측/평가 및 회귀계수 시각화(릿지, 라쏘)\n",
    "    - 1.1 회귀계수 시각화\n",
    "    - 1.2 5폴드 교차 검증\n",
    "    - 1.3 리지/라쏘 모델에 대해 alpha 하이퍼파라미터 튜닝 후 재학습/예측/평가\n",
    "    - 1.4 튜닝된 모델 회귀 계수 시각화\n",
    "- 2.회귀 트리 모델 학습/예측/평가 및 회귀계수 시각화(XGBoost, LGBM)\n",
    "- 3.회귀 모델의 예측 결과 혼합을 통한 최종 예측\n",
    "    - 3.1 릿지와 랏소 모델 예측 결과 혼합\n",
    "    - 3.2 XGBoost와 LGBM 모델 예측결과 혼합\n",
    "- 4.스태킹 앙상블 모델을 통한 회귀 예측"
   ]
  },
  {
   "cell_type": "code",
   "execution_count": 1,
   "metadata": {},
   "outputs": [],
   "source": [
    "import warnings\n",
    "warnings.filterwarnings('ignore')\n",
    "import pandas as pd\n",
    "import numpy as np\n",
    "import seaborn as sns\n",
    "import matplotlib.pyplot as plt\n",
    "import plotly.express as px\n",
    "%matplotlib inline\n",
    "from matplotlib import font_manager, rc\n",
    "\n",
    "path = \"c:/Windows/Fonts/malgun.ttf\"\n",
    "font_name = font_manager.FontProperties(fname=path).get_name()\n",
    "rc('font', family=font_name)\n",
    "\n",
    "# Target 값 : price"
   ]
  },
  {
   "cell_type": "code",
   "execution_count": 2,
   "metadata": {},
   "outputs": [
    {
     "data": {
      "text/html": [
       "<div>\n",
       "<style scoped>\n",
       "    .dataframe tbody tr th:only-of-type {\n",
       "        vertical-align: middle;\n",
       "    }\n",
       "\n",
       "    .dataframe tbody tr th {\n",
       "        vertical-align: top;\n",
       "    }\n",
       "\n",
       "    .dataframe thead th {\n",
       "        text-align: right;\n",
       "    }\n",
       "</style>\n",
       "<table border=\"1\" class=\"dataframe\">\n",
       "  <thead>\n",
       "    <tr style=\"text-align: right;\">\n",
       "      <th></th>\n",
       "      <th>km</th>\n",
       "      <th>year</th>\n",
       "      <th>accident</th>\n",
       "      <th>price</th>\n",
       "      <th>wd</th>\n",
       "      <th>trim</th>\n",
       "      <th>brand_BMW</th>\n",
       "      <th>brand_기아</th>\n",
       "      <th>brand_랜드로버</th>\n",
       "      <th>brand_르노삼성</th>\n",
       "      <th>...</th>\n",
       "      <th>type_LPG</th>\n",
       "      <th>type_가솔린</th>\n",
       "      <th>type_디젤</th>\n",
       "      <th>type_바이퓨얼</th>\n",
       "      <th>type_전기</th>\n",
       "      <th>type_하이브리드</th>\n",
       "      <th>color_검정색</th>\n",
       "      <th>color_기타</th>\n",
       "      <th>color_회색</th>\n",
       "      <th>color_흰색</th>\n",
       "    </tr>\n",
       "  </thead>\n",
       "  <tbody>\n",
       "    <tr>\n",
       "      <th>0</th>\n",
       "      <td>110575</td>\n",
       "      <td>11</td>\n",
       "      <td>3</td>\n",
       "      <td>6.478510</td>\n",
       "      <td>0</td>\n",
       "      <td>1</td>\n",
       "      <td>0</td>\n",
       "      <td>1</td>\n",
       "      <td>0</td>\n",
       "      <td>0</td>\n",
       "      <td>...</td>\n",
       "      <td>0</td>\n",
       "      <td>1</td>\n",
       "      <td>0</td>\n",
       "      <td>0</td>\n",
       "      <td>0</td>\n",
       "      <td>0</td>\n",
       "      <td>1</td>\n",
       "      <td>0</td>\n",
       "      <td>0</td>\n",
       "      <td>0</td>\n",
       "    </tr>\n",
       "    <tr>\n",
       "      <th>1</th>\n",
       "      <td>106819</td>\n",
       "      <td>8</td>\n",
       "      <td>3</td>\n",
       "      <td>6.846943</td>\n",
       "      <td>0</td>\n",
       "      <td>1</td>\n",
       "      <td>0</td>\n",
       "      <td>1</td>\n",
       "      <td>0</td>\n",
       "      <td>0</td>\n",
       "      <td>...</td>\n",
       "      <td>0</td>\n",
       "      <td>1</td>\n",
       "      <td>0</td>\n",
       "      <td>0</td>\n",
       "      <td>0</td>\n",
       "      <td>0</td>\n",
       "      <td>1</td>\n",
       "      <td>0</td>\n",
       "      <td>0</td>\n",
       "      <td>0</td>\n",
       "    </tr>\n",
       "    <tr>\n",
       "      <th>2</th>\n",
       "      <td>29151</td>\n",
       "      <td>3</td>\n",
       "      <td>3</td>\n",
       "      <td>7.544861</td>\n",
       "      <td>0</td>\n",
       "      <td>1</td>\n",
       "      <td>0</td>\n",
       "      <td>1</td>\n",
       "      <td>0</td>\n",
       "      <td>0</td>\n",
       "      <td>...</td>\n",
       "      <td>0</td>\n",
       "      <td>1</td>\n",
       "      <td>0</td>\n",
       "      <td>0</td>\n",
       "      <td>0</td>\n",
       "      <td>0</td>\n",
       "      <td>1</td>\n",
       "      <td>0</td>\n",
       "      <td>0</td>\n",
       "      <td>0</td>\n",
       "    </tr>\n",
       "    <tr>\n",
       "      <th>3</th>\n",
       "      <td>8766</td>\n",
       "      <td>1</td>\n",
       "      <td>3</td>\n",
       "      <td>8.068090</td>\n",
       "      <td>0</td>\n",
       "      <td>1</td>\n",
       "      <td>0</td>\n",
       "      <td>1</td>\n",
       "      <td>0</td>\n",
       "      <td>0</td>\n",
       "      <td>...</td>\n",
       "      <td>0</td>\n",
       "      <td>1</td>\n",
       "      <td>0</td>\n",
       "      <td>0</td>\n",
       "      <td>0</td>\n",
       "      <td>0</td>\n",
       "      <td>1</td>\n",
       "      <td>0</td>\n",
       "      <td>0</td>\n",
       "      <td>0</td>\n",
       "    </tr>\n",
       "    <tr>\n",
       "      <th>4</th>\n",
       "      <td>101196</td>\n",
       "      <td>10</td>\n",
       "      <td>3</td>\n",
       "      <td>6.710523</td>\n",
       "      <td>0</td>\n",
       "      <td>2</td>\n",
       "      <td>0</td>\n",
       "      <td>1</td>\n",
       "      <td>0</td>\n",
       "      <td>0</td>\n",
       "      <td>...</td>\n",
       "      <td>0</td>\n",
       "      <td>1</td>\n",
       "      <td>0</td>\n",
       "      <td>0</td>\n",
       "      <td>0</td>\n",
       "      <td>0</td>\n",
       "      <td>1</td>\n",
       "      <td>0</td>\n",
       "      <td>0</td>\n",
       "      <td>0</td>\n",
       "    </tr>\n",
       "  </tbody>\n",
       "</table>\n",
       "<p>5 rows × 252 columns</p>\n",
       "</div>"
      ],
      "text/plain": [
       "       km  year  accident     price  wd  trim  brand_BMW  brand_기아  \\\n",
       "0  110575    11         3  6.478510   0     1          0         1   \n",
       "1  106819     8         3  6.846943   0     1          0         1   \n",
       "2   29151     3         3  7.544861   0     1          0         1   \n",
       "3    8766     1         3  8.068090   0     1          0         1   \n",
       "4  101196    10         3  6.710523   0     2          0         1   \n",
       "\n",
       "   brand_랜드로버  brand_르노삼성  ...  type_LPG  type_가솔린  type_디젤  type_바이퓨얼  \\\n",
       "0           0           0  ...         0         1        0          0   \n",
       "1           0           0  ...         0         1        0          0   \n",
       "2           0           0  ...         0         1        0          0   \n",
       "3           0           0  ...         0         1        0          0   \n",
       "4           0           0  ...         0         1        0          0   \n",
       "\n",
       "   type_전기  type_하이브리드  color_검정색  color_기타  color_회색  color_흰색  \n",
       "0        0           0          1         0         0         0  \n",
       "1        0           0          1         0         0         0  \n",
       "2        0           0          1         0         0         0  \n",
       "3        0           0          1         0         0         0  \n",
       "4        0           0          1         0         0         0  \n",
       "\n",
       "[5 rows x 252 columns]"
      ]
     },
     "execution_count": 2,
     "metadata": {},
     "output_type": "execute_result"
    }
   ],
   "source": [
    "car_df_ohe= pd.read_csv('./data/최종 전처리2.csv')\n",
    "car_test= pd.read_csv('./data/test_data.csv')\n",
    "car_df_ohe.head()"
   ]
  },
  {
   "cell_type": "markdown",
   "metadata": {},
   "source": [
    "### 1. 선형 회귀 모델 학습/예측/평가 및 회귀계수 시각화(릿지, 라쏘)\n",
    "\n",
    "LinearRegression, Ridge, Lasso를 이용해 선형 계열의 회귀 모델 만들기"
   ]
  },
  {
   "cell_type": "markdown",
   "metadata": {},
   "source": [
    "**RMSE 평가 함수 생성**"
   ]
  },
  {
   "cell_type": "code",
   "execution_count": 3,
   "metadata": {},
   "outputs": [],
   "source": [
    "# 단일 모델의 RMSE 값 반환\n",
    "def get_rmse(model): # 학습된 모델을 받아서 예측\n",
    "    pred = model.predict(X_test)\n",
    "    mse = mean_squared_error(y_test , pred)\n",
    "    rmse = np.sqrt(mse)\n",
    "    R2 = r2_score(y_test, pred)\n",
    "    print('\\n{0} 로그 변환된 RMSE: {1}'.format(model.__class__.__name__,np.round(rmse, 3)))\n",
    "    print('{0} R2: {1}'.format(model.__class__.__name__,np.round(R2, 3)))\n",
    "    return rmse\n",
    "\n",
    "# 여러 모델의 RMSE 값 반환\n",
    "def get_rmses(models) :\n",
    "    rmses = []\n",
    "    for model in models :\n",
    "        rmse = get_rmse(model)\n",
    "        rmses.append(rmse)\n",
    "    return rmses"
   ]
  },
  {
   "cell_type": "code",
   "execution_count": 4,
   "metadata": {},
   "outputs": [],
   "source": [
    "## 데이터 분할\n",
    "from sklearn.linear_model import LinearRegression, Ridge, Lasso\n",
    "from sklearn.model_selection import train_test_split\n",
    "from sklearn.metrics import mean_squared_error\n",
    "from sklearn.metrics import r2_score\n",
    "\n",
    "# 타깃과 피처\n",
    "y_target = car_df_ohe['price']\n",
    "X_features = car_df_ohe.drop('price',axis=1, inplace=False)\n",
    "\n",
    "X_train, X_test, y_train, y_test = train_test_split(X_features, y_target, test_size=0.2, random_state=156)"
   ]
  },
  {
   "cell_type": "markdown",
   "metadata": {},
   "source": [
    "**모델 학습/예측/평가**"
   ]
  },
  {
   "cell_type": "code",
   "execution_count": 5,
   "metadata": {},
   "outputs": [
    {
     "data": {
      "text/plain": [
       "Lasso()"
      ]
     },
     "execution_count": 5,
     "metadata": {},
     "output_type": "execute_result"
    }
   ],
   "source": [
    "# 일반 선형 회귀\n",
    "lr_reg = LinearRegression() \n",
    "lr_reg.fit(X_train, y_train)\n",
    "\n",
    "# 릿찌회귀\n",
    "ridge_reg = Ridge()\n",
    "ridge_reg.fit(X_train, y_train)\n",
    "\n",
    "# 라쏘 회귀\n",
    "lasso_reg=Lasso()\n",
    "lasso_reg.fit(X_train,y_train)\n"
   ]
  },
  {
   "cell_type": "markdown",
   "metadata": {},
   "source": [
    "### 1.2 5폴드 교차 검증으로 평균 RMSE 측정\n",
    "- 함수 생성"
   ]
  },
  {
   "cell_type": "code",
   "execution_count": 6,
   "metadata": {},
   "outputs": [],
   "source": [
    "from sklearn.model_selection import cross_val_score\n",
    "\n",
    "def get_avg_rmse_cv(models) :\n",
    "    \n",
    "    for model in models :\n",
    "        # 분할하지 않고 전체 데이터세트로 교차검증 수행\n",
    "        rmse_list = np.sqrt(-cross_val_score(model, X_features, y_target,\n",
    "                                             scoring=\"neg_mean_squared_error\", cv=5))\n",
    "        r2_list = cross_val_score(model, X_features, y_target,\n",
    "                                             scoring=\"r2\", cv=5)\n",
    "        rmse_avg = np.mean(rmse_list)\n",
    "        r2_avg = np.mean(r2_list)\n",
    "        \n",
    "        print('\\n{0} CV RMSE 값 리스트: {1}'.format( model.__class__.__name__, np.round(rmse_list, 3)))\n",
    "        print('{0} CV R2 값 리스트: {1}'.format( model.__class__.__name__, np.round(r2_list, 3)))\n",
    "        print('{0} CV 평균 RMSE 값: {1}'.format( model.__class__.__name__, np.round(rmse_avg, 3)))\n",
    "        print('{0} CV 평균 R2 값: {1}'.format( model.__class__.__name__, np.round(r2_avg, 3)))"
   ]
  },
  {
   "cell_type": "markdown",
   "metadata": {},
   "source": [
    "### 1.3 리지/라쏘 모델에 대해 alpha 하이퍼파라미터 튜닝 후 재학습/예측/평가"
   ]
  },
  {
   "cell_type": "code",
   "execution_count": 7,
   "metadata": {},
   "outputs": [],
   "source": [
    "from sklearn.model_selection import GridSearchCV\n",
    "# 모델과 하이퍼 파라미터 딕셔너리 객체를 받아서\n",
    "# 최적화 작업의 결과를 표시하는 함수\n",
    "# 릿지 모델과 라쏘 모델의 최적화 alpha 값 추출\n",
    "def get_best_params(model, params):\n",
    "    grid_model = GridSearchCV(model, param_grid=params, \n",
    "                              scoring='neg_mean_squared_error', cv=5)\n",
    "    grid_model_r2 = GridSearchCV(model, param_grid=params, \n",
    "                              scoring='r2', cv=5)\n",
    "    grid_model.fit(X_features, y_target)\n",
    "    grid_model_r2.fit(X_features, y_target)\n",
    "    rmse = np.sqrt(-1* grid_model.best_score_)\n",
    "    r2 = grid_model_r2.best_score_\n",
    "    print('\\n{0} 5 CV 시 최적 평균 RMSE 값: {1}, 최적 alpha:{2}'.format(model.__class__.__name__,\n",
    "                                        np.round(rmse, 4), grid_model.best_params_))\n",
    "    print('{0} 5 CV 시 최적 평균 R2 값: {1}, 최적 alpha:{2}'.format(model.__class__.__name__,\n",
    "                                        np.round(r2, 4), grid_model_r2.best_params_))\n",
    "    return grid_model.best_estimator_ # 최적 파라미터로 재학습된 모델 반환\n"
   ]
  },
  {
   "cell_type": "markdown",
   "metadata": {},
   "source": [
    "**분할된 트레인 테스트 데이터를 이용해 학습 후 평가**"
   ]
  },
  {
   "cell_type": "code",
   "execution_count": 8,
   "metadata": {},
   "outputs": [
    {
     "data": {
      "text/plain": [
       "Lasso(alpha=0.001)"
      ]
     },
     "execution_count": 8,
     "metadata": {},
     "output_type": "execute_result"
    }
   ],
   "source": [
    "lr_reg = LinearRegression()\n",
    "lr_reg.fit(X_train, y_train)\n",
    "\n",
    "ridge_reg = Ridge(alpha=20)\n",
    "ridge_reg.fit(X_train, y_train)\n",
    "\n",
    "lasso_reg = Lasso(alpha=0.001)\n",
    "lasso_reg.fit(X_train, y_train)"
   ]
  },
  {
   "cell_type": "markdown",
   "metadata": {},
   "source": [
    "### 2. 회귀 트리 모델 학습/예측/평가 및 회귀계수 시각화(XGBoost, LGBM)\n"
   ]
  },
  {
   "cell_type": "markdown",
   "metadata": {},
   "source": [
    "- XGBoost와 LightGBM 학습/예측/평가 "
   ]
  },
  {
   "cell_type": "code",
   "execution_count": 9,
   "metadata": {},
   "outputs": [
    {
     "name": "stdout",
     "output_type": "stream",
     "text": [
      "\n",
      "XGBRegressor 5 CV 시 최적 평균 RMSE 값: 0.3904, 최적 alpha:{'n_estimators': 1000}\n",
      "XGBRegressor 5 CV 시 최적 평균 R2 값: 0.7159, 최적 alpha:{'n_estimators': 1000}\n"
     ]
    }
   ],
   "source": [
    "# XGBoost와 LightGBM 모두 수행 시간이 오래 걸릴 수 있는 관계로\n",
    "# 하이퍼 파라미터 설정을 미리 적용한 상태로\n",
    "# 5 폴드 세트에 대한 평균 RMSE 값 추출\n",
    "\n",
    "from xgboost import XGBRegressor\n",
    "\n",
    "xgb_params = {'n_estimators':[1000]}\n",
    "\n",
    "xgb_reg = XGBRegressor(n_estimators=1000, learning_rate=0.05,\n",
    "                      colsample_bytree=0.5, subsample=0.8)\n",
    "\n",
    "best_xgb = get_best_params(xgb_reg, xgb_params)"
   ]
  },
  {
   "cell_type": "code",
   "execution_count": 10,
   "metadata": {},
   "outputs": [
    {
     "name": "stdout",
     "output_type": "stream",
     "text": [
      "\n",
      "LGBMRegressor 5 CV 시 최적 평균 RMSE 값: 0.4047, 최적 alpha:{'n_estimators': 1000}\n",
      "LGBMRegressor 5 CV 시 최적 평균 R2 값: 0.6896, 최적 alpha:{'n_estimators': 1000}\n"
     ]
    }
   ],
   "source": [
    "# 이번에는 LightGBM 회귀 트리 적용\n",
    "\n",
    "from lightgbm import LGBMRegressor\n",
    "\n",
    "lgbm_params = {'n_estimators':[1000]}\n",
    "lgbm_reg = LGBMRegressor(n_estimators=1000, learning_rate=0.05, num_leaves=4, \n",
    "                         subsample=0.6, colsample_bytree=0.4, reg_lambda=10, n_jobs=-1)\n",
    "best_lgbm = get_best_params(lgbm_reg, lgbm_params)"
   ]
  },
  {
   "cell_type": "markdown",
   "metadata": {},
   "source": [
    "### 3.회귀 모델의 예측 결과 혼합을 통한 최종 예측"
   ]
  },
  {
   "cell_type": "code",
   "execution_count": 11,
   "metadata": {},
   "outputs": [],
   "source": [
    "# 최종 혼합 모델과 개별 모델의 RMSE 값 출력하는 함수 생성\n",
    "def get_rmse_pred(preds):\n",
    "    for key in preds.keys():\n",
    "        pred_value = preds[key]\n",
    "        mse = mean_squared_error(y_test, pred_value)\n",
    "        rmse = np.sqrt(mse)\n",
    "        R2 = r2_score(y_test, pred_value)\n",
    "        print('\\n{0} 모델의 RMSE: {1}'.format(key, np.round(rmse, 3)))\n",
    "        print('{0} 모델의 R2: {1}'.format(key, np.round(R2, 3)))"
   ]
  },
  {
   "cell_type": "code",
   "execution_count": 12,
   "metadata": {},
   "outputs": [],
   "source": [
    "# 개별 모델 학습\n",
    "ridge_reg = Ridge(alpha=20)\n",
    "ridge_reg.fit(X_train, y_train)\n",
    "lasso_reg = Lasso(alpha=0.001)\n",
    "lasso_reg.fit(X_train, y_train)\n",
    "\n",
    "# 개별모델 예측\n",
    "ridge_pred = ridge_reg.predict(X_test)\n",
    "lasso_pred = lasso_reg.predict(X_test)"
   ]
  },
  {
   "cell_type": "markdown",
   "metadata": {},
   "source": [
    "#### 3.2 XGBoost와 LGBM 모델 예측결과 혼합 (각 50%)"
   ]
  },
  {
   "cell_type": "code",
   "execution_count": 13,
   "metadata": {},
   "outputs": [],
   "source": [
    "xgb_reg = XGBRegressor(n_estimators=1000, learning_rate=0.05, \n",
    "                       colsample_bytree=0.5, subsample=0.8)\n",
    "xgb_reg.fit(X_train, y_train)\n",
    "xgb_pred = xgb_reg.predict(X_test)"
   ]
  },
  {
   "cell_type": "code",
   "execution_count": 14,
   "metadata": {},
   "outputs": [
    {
     "name": "stdout",
     "output_type": "stream",
     "text": [
      "\n",
      "XGBM 모델의 RMSE: 0.13\n",
      "XGBM 모델의 R2: 0.965\n"
     ]
    }
   ],
   "source": [
    "pred = {'XGBM': xgb_pred}\n",
    "get_rmse_pred(pred)"
   ]
  },
  {
   "cell_type": "code",
   "execution_count": 15,
   "metadata": {
    "scrolled": true
   },
   "outputs": [
    {
     "data": {
      "text/html": [
       "<div>\n",
       "<style scoped>\n",
       "    .dataframe tbody tr th:only-of-type {\n",
       "        vertical-align: middle;\n",
       "    }\n",
       "\n",
       "    .dataframe tbody tr th {\n",
       "        vertical-align: top;\n",
       "    }\n",
       "\n",
       "    .dataframe thead th {\n",
       "        text-align: right;\n",
       "    }\n",
       "</style>\n",
       "<table border=\"1\" class=\"dataframe\">\n",
       "  <thead>\n",
       "    <tr style=\"text-align: right;\">\n",
       "      <th></th>\n",
       "      <th>km</th>\n",
       "      <th>year</th>\n",
       "      <th>accident</th>\n",
       "      <th>wd</th>\n",
       "      <th>trim</th>\n",
       "      <th>brand_BMW</th>\n",
       "      <th>brand_기아</th>\n",
       "      <th>brand_랜드로버</th>\n",
       "      <th>brand_르노삼성</th>\n",
       "      <th>brand_미니</th>\n",
       "      <th>...</th>\n",
       "      <th>type_LPG</th>\n",
       "      <th>type_가솔린</th>\n",
       "      <th>type_디젤</th>\n",
       "      <th>type_바이퓨얼</th>\n",
       "      <th>type_전기</th>\n",
       "      <th>type_하이브리드</th>\n",
       "      <th>color_검정색</th>\n",
       "      <th>color_기타</th>\n",
       "      <th>color_회색</th>\n",
       "      <th>color_흰색</th>\n",
       "    </tr>\n",
       "  </thead>\n",
       "  <tbody>\n",
       "    <tr>\n",
       "      <th>28350</th>\n",
       "      <td>78848</td>\n",
       "      <td>6</td>\n",
       "      <td>3</td>\n",
       "      <td>1</td>\n",
       "      <td>1</td>\n",
       "      <td>0</td>\n",
       "      <td>1</td>\n",
       "      <td>0</td>\n",
       "      <td>0</td>\n",
       "      <td>0</td>\n",
       "      <td>...</td>\n",
       "      <td>0</td>\n",
       "      <td>0</td>\n",
       "      <td>1</td>\n",
       "      <td>0</td>\n",
       "      <td>0</td>\n",
       "      <td>0</td>\n",
       "      <td>0</td>\n",
       "      <td>0</td>\n",
       "      <td>0</td>\n",
       "      <td>1</td>\n",
       "    </tr>\n",
       "    <tr>\n",
       "      <th>5207</th>\n",
       "      <td>78432</td>\n",
       "      <td>3</td>\n",
       "      <td>3</td>\n",
       "      <td>0</td>\n",
       "      <td>3</td>\n",
       "      <td>0</td>\n",
       "      <td>1</td>\n",
       "      <td>0</td>\n",
       "      <td>0</td>\n",
       "      <td>0</td>\n",
       "      <td>...</td>\n",
       "      <td>0</td>\n",
       "      <td>0</td>\n",
       "      <td>1</td>\n",
       "      <td>0</td>\n",
       "      <td>0</td>\n",
       "      <td>0</td>\n",
       "      <td>0</td>\n",
       "      <td>0</td>\n",
       "      <td>0</td>\n",
       "      <td>1</td>\n",
       "    </tr>\n",
       "    <tr>\n",
       "      <th>26569</th>\n",
       "      <td>17440</td>\n",
       "      <td>2</td>\n",
       "      <td>3</td>\n",
       "      <td>0</td>\n",
       "      <td>2</td>\n",
       "      <td>0</td>\n",
       "      <td>1</td>\n",
       "      <td>0</td>\n",
       "      <td>0</td>\n",
       "      <td>0</td>\n",
       "      <td>...</td>\n",
       "      <td>0</td>\n",
       "      <td>1</td>\n",
       "      <td>0</td>\n",
       "      <td>0</td>\n",
       "      <td>0</td>\n",
       "      <td>0</td>\n",
       "      <td>0</td>\n",
       "      <td>0</td>\n",
       "      <td>1</td>\n",
       "      <td>0</td>\n",
       "    </tr>\n",
       "    <tr>\n",
       "      <th>60660</th>\n",
       "      <td>73539</td>\n",
       "      <td>7</td>\n",
       "      <td>3</td>\n",
       "      <td>1</td>\n",
       "      <td>2</td>\n",
       "      <td>0</td>\n",
       "      <td>0</td>\n",
       "      <td>0</td>\n",
       "      <td>0</td>\n",
       "      <td>0</td>\n",
       "      <td>...</td>\n",
       "      <td>0</td>\n",
       "      <td>0</td>\n",
       "      <td>1</td>\n",
       "      <td>0</td>\n",
       "      <td>0</td>\n",
       "      <td>0</td>\n",
       "      <td>0</td>\n",
       "      <td>0</td>\n",
       "      <td>0</td>\n",
       "      <td>1</td>\n",
       "    </tr>\n",
       "    <tr>\n",
       "      <th>18330</th>\n",
       "      <td>7279</td>\n",
       "      <td>1</td>\n",
       "      <td>3</td>\n",
       "      <td>0</td>\n",
       "      <td>2</td>\n",
       "      <td>0</td>\n",
       "      <td>1</td>\n",
       "      <td>0</td>\n",
       "      <td>0</td>\n",
       "      <td>0</td>\n",
       "      <td>...</td>\n",
       "      <td>0</td>\n",
       "      <td>1</td>\n",
       "      <td>0</td>\n",
       "      <td>0</td>\n",
       "      <td>0</td>\n",
       "      <td>0</td>\n",
       "      <td>0</td>\n",
       "      <td>0</td>\n",
       "      <td>0</td>\n",
       "      <td>1</td>\n",
       "    </tr>\n",
       "    <tr>\n",
       "      <th>...</th>\n",
       "      <td>...</td>\n",
       "      <td>...</td>\n",
       "      <td>...</td>\n",
       "      <td>...</td>\n",
       "      <td>...</td>\n",
       "      <td>...</td>\n",
       "      <td>...</td>\n",
       "      <td>...</td>\n",
       "      <td>...</td>\n",
       "      <td>...</td>\n",
       "      <td>...</td>\n",
       "      <td>...</td>\n",
       "      <td>...</td>\n",
       "      <td>...</td>\n",
       "      <td>...</td>\n",
       "      <td>...</td>\n",
       "      <td>...</td>\n",
       "      <td>...</td>\n",
       "      <td>...</td>\n",
       "      <td>...</td>\n",
       "      <td>...</td>\n",
       "    </tr>\n",
       "    <tr>\n",
       "      <th>63039</th>\n",
       "      <td>36619</td>\n",
       "      <td>2</td>\n",
       "      <td>3</td>\n",
       "      <td>0</td>\n",
       "      <td>3</td>\n",
       "      <td>0</td>\n",
       "      <td>0</td>\n",
       "      <td>0</td>\n",
       "      <td>1</td>\n",
       "      <td>0</td>\n",
       "      <td>...</td>\n",
       "      <td>0</td>\n",
       "      <td>1</td>\n",
       "      <td>0</td>\n",
       "      <td>0</td>\n",
       "      <td>0</td>\n",
       "      <td>0</td>\n",
       "      <td>0</td>\n",
       "      <td>0</td>\n",
       "      <td>0</td>\n",
       "      <td>1</td>\n",
       "    </tr>\n",
       "    <tr>\n",
       "      <th>7653</th>\n",
       "      <td>10157</td>\n",
       "      <td>1</td>\n",
       "      <td>3</td>\n",
       "      <td>1</td>\n",
       "      <td>2</td>\n",
       "      <td>0</td>\n",
       "      <td>1</td>\n",
       "      <td>0</td>\n",
       "      <td>0</td>\n",
       "      <td>0</td>\n",
       "      <td>...</td>\n",
       "      <td>0</td>\n",
       "      <td>1</td>\n",
       "      <td>0</td>\n",
       "      <td>0</td>\n",
       "      <td>0</td>\n",
       "      <td>0</td>\n",
       "      <td>1</td>\n",
       "      <td>0</td>\n",
       "      <td>0</td>\n",
       "      <td>0</td>\n",
       "    </tr>\n",
       "    <tr>\n",
       "      <th>42402</th>\n",
       "      <td>18257</td>\n",
       "      <td>2</td>\n",
       "      <td>3</td>\n",
       "      <td>0</td>\n",
       "      <td>1</td>\n",
       "      <td>0</td>\n",
       "      <td>0</td>\n",
       "      <td>0</td>\n",
       "      <td>0</td>\n",
       "      <td>0</td>\n",
       "      <td>...</td>\n",
       "      <td>0</td>\n",
       "      <td>1</td>\n",
       "      <td>0</td>\n",
       "      <td>0</td>\n",
       "      <td>0</td>\n",
       "      <td>0</td>\n",
       "      <td>0</td>\n",
       "      <td>0</td>\n",
       "      <td>0</td>\n",
       "      <td>1</td>\n",
       "    </tr>\n",
       "    <tr>\n",
       "      <th>39628</th>\n",
       "      <td>17906</td>\n",
       "      <td>3</td>\n",
       "      <td>3</td>\n",
       "      <td>0</td>\n",
       "      <td>3</td>\n",
       "      <td>0</td>\n",
       "      <td>0</td>\n",
       "      <td>0</td>\n",
       "      <td>0</td>\n",
       "      <td>0</td>\n",
       "      <td>...</td>\n",
       "      <td>0</td>\n",
       "      <td>0</td>\n",
       "      <td>0</td>\n",
       "      <td>0</td>\n",
       "      <td>0</td>\n",
       "      <td>1</td>\n",
       "      <td>0</td>\n",
       "      <td>0</td>\n",
       "      <td>0</td>\n",
       "      <td>1</td>\n",
       "    </tr>\n",
       "    <tr>\n",
       "      <th>24108</th>\n",
       "      <td>72992</td>\n",
       "      <td>4</td>\n",
       "      <td>3</td>\n",
       "      <td>0</td>\n",
       "      <td>1</td>\n",
       "      <td>0</td>\n",
       "      <td>1</td>\n",
       "      <td>0</td>\n",
       "      <td>0</td>\n",
       "      <td>0</td>\n",
       "      <td>...</td>\n",
       "      <td>1</td>\n",
       "      <td>0</td>\n",
       "      <td>0</td>\n",
       "      <td>0</td>\n",
       "      <td>0</td>\n",
       "      <td>0</td>\n",
       "      <td>1</td>\n",
       "      <td>0</td>\n",
       "      <td>0</td>\n",
       "      <td>0</td>\n",
       "    </tr>\n",
       "  </tbody>\n",
       "</table>\n",
       "<p>51840 rows × 251 columns</p>\n",
       "</div>"
      ],
      "text/plain": [
       "          km  year  accident  wd  trim  brand_BMW  brand_기아  brand_랜드로버  \\\n",
       "28350  78848     6         3   1     1          0         1           0   \n",
       "5207   78432     3         3   0     3          0         1           0   \n",
       "26569  17440     2         3   0     2          0         1           0   \n",
       "60660  73539     7         3   1     2          0         0           0   \n",
       "18330   7279     1         3   0     2          0         1           0   \n",
       "...      ...   ...       ...  ..   ...        ...       ...         ...   \n",
       "63039  36619     2         3   0     3          0         0           0   \n",
       "7653   10157     1         3   1     2          0         1           0   \n",
       "42402  18257     2         3   0     1          0         0           0   \n",
       "39628  17906     3         3   0     3          0         0           0   \n",
       "24108  72992     4         3   0     1          0         1           0   \n",
       "\n",
       "       brand_르노삼성  brand_미니  ...  type_LPG  type_가솔린  type_디젤  type_바이퓨얼  \\\n",
       "28350           0         0  ...         0         0        1          0   \n",
       "5207            0         0  ...         0         0        1          0   \n",
       "26569           0         0  ...         0         1        0          0   \n",
       "60660           0         0  ...         0         0        1          0   \n",
       "18330           0         0  ...         0         1        0          0   \n",
       "...           ...       ...  ...       ...       ...      ...        ...   \n",
       "63039           1         0  ...         0         1        0          0   \n",
       "7653            0         0  ...         0         1        0          0   \n",
       "42402           0         0  ...         0         1        0          0   \n",
       "39628           0         0  ...         0         0        0          0   \n",
       "24108           0         0  ...         1         0        0          0   \n",
       "\n",
       "       type_전기  type_하이브리드  color_검정색  color_기타  color_회색  color_흰색  \n",
       "28350        0           0          0         0         0         1  \n",
       "5207         0           0          0         0         0         1  \n",
       "26569        0           0          0         0         1         0  \n",
       "60660        0           0          0         0         0         1  \n",
       "18330        0           0          0         0         0         1  \n",
       "...        ...         ...        ...       ...       ...       ...  \n",
       "63039        0           0          0         0         0         1  \n",
       "7653         0           0          1         0         0         0  \n",
       "42402        0           0          0         0         0         1  \n",
       "39628        0           1          0         0         0         1  \n",
       "24108        0           0          1         0         0         0  \n",
       "\n",
       "[51840 rows x 251 columns]"
      ]
     },
     "execution_count": 15,
     "metadata": {},
     "output_type": "execute_result"
    }
   ],
   "source": [
    "X_train"
   ]
  },
  {
   "cell_type": "code",
   "execution_count": 16,
   "metadata": {},
   "outputs": [],
   "source": [
    "import joblib\n",
    "joblib.dump(xgb_reg, open('XGBoost 최종모델2.pkl', 'wb'))"
   ]
  },
  {
   "cell_type": "code",
   "execution_count": 22,
   "metadata": {},
   "outputs": [
    {
     "data": {
      "text/plain": [
       "array([1248.3774], dtype=float32)"
      ]
     },
     "execution_count": 22,
     "metadata": {},
     "output_type": "execute_result"
    }
   ],
   "source": [
    "model = joblib.load('XGBoost 최종모델2.pkl')\n",
    "price = model.predict(car_test)\n",
    "np.expm1(price)"
   ]
  },
  {
   "cell_type": "code",
   "execution_count": 21,
   "metadata": {},
   "outputs": [
    {
     "data": {
      "text/plain": [
       "array([7.1304007], dtype=float32)"
      ]
     },
     "execution_count": 21,
     "metadata": {},
     "output_type": "execute_result"
    }
   ],
   "source": [
    "price"
   ]
  },
  {
   "cell_type": "code",
   "execution_count": 17,
   "metadata": {},
   "outputs": [
    {
     "data": {
      "text/plain": [
       "0     650.0\n",
       "1     940.0\n",
       "2    1890.0\n",
       "3    3190.0\n",
       "4     820.0\n",
       "Name: price, dtype: float64"
      ]
     },
     "execution_count": 17,
     "metadata": {},
     "output_type": "execute_result"
    }
   ],
   "source": [
    "np.expm1(y_target).head()"
   ]
  },
  {
   "cell_type": "code",
   "execution_count": 18,
   "metadata": {},
   "outputs": [
    {
     "data": {
      "text/html": [
       "<div>\n",
       "<style scoped>\n",
       "    .dataframe tbody tr th:only-of-type {\n",
       "        vertical-align: middle;\n",
       "    }\n",
       "\n",
       "    .dataframe tbody tr th {\n",
       "        vertical-align: top;\n",
       "    }\n",
       "\n",
       "    .dataframe thead th {\n",
       "        text-align: right;\n",
       "    }\n",
       "</style>\n",
       "<table border=\"1\" class=\"dataframe\">\n",
       "  <thead>\n",
       "    <tr style=\"text-align: right;\">\n",
       "      <th></th>\n",
       "      <th>km</th>\n",
       "      <th>year</th>\n",
       "      <th>accident</th>\n",
       "      <th>wd</th>\n",
       "      <th>trim</th>\n",
       "      <th>brand_BMW</th>\n",
       "      <th>brand_기아</th>\n",
       "      <th>brand_랜드로버</th>\n",
       "      <th>brand_르노삼성</th>\n",
       "      <th>brand_미니</th>\n",
       "      <th>...</th>\n",
       "      <th>type_LPG</th>\n",
       "      <th>type_가솔린</th>\n",
       "      <th>type_디젤</th>\n",
       "      <th>type_바이퓨얼</th>\n",
       "      <th>type_전기</th>\n",
       "      <th>type_하이브리드</th>\n",
       "      <th>color_검정색</th>\n",
       "      <th>color_기타</th>\n",
       "      <th>color_회색</th>\n",
       "      <th>color_흰색</th>\n",
       "    </tr>\n",
       "  </thead>\n",
       "  <tbody>\n",
       "    <tr>\n",
       "      <th>0</th>\n",
       "      <td>100000</td>\n",
       "      <td>3</td>\n",
       "      <td>2</td>\n",
       "      <td>0</td>\n",
       "      <td>1</td>\n",
       "      <td>0</td>\n",
       "      <td>0</td>\n",
       "      <td>0</td>\n",
       "      <td>1</td>\n",
       "      <td>0</td>\n",
       "      <td>...</td>\n",
       "      <td>0</td>\n",
       "      <td>1</td>\n",
       "      <td>0</td>\n",
       "      <td>0</td>\n",
       "      <td>0</td>\n",
       "      <td>0</td>\n",
       "      <td>0</td>\n",
       "      <td>0</td>\n",
       "      <td>0</td>\n",
       "      <td>1</td>\n",
       "    </tr>\n",
       "  </tbody>\n",
       "</table>\n",
       "<p>1 rows × 251 columns</p>\n",
       "</div>"
      ],
      "text/plain": [
       "       km  year  accident  wd  trim  brand_BMW  brand_기아  brand_랜드로버  \\\n",
       "0  100000     3         2   0     1          0         0           0   \n",
       "\n",
       "   brand_르노삼성  brand_미니  ...  type_LPG  type_가솔린  type_디젤  type_바이퓨얼  type_전기  \\\n",
       "0           1         0  ...         0         1        0          0        0   \n",
       "\n",
       "   type_하이브리드  color_검정색  color_기타  color_회색  color_흰색  \n",
       "0           0          0         0         0         1  \n",
       "\n",
       "[1 rows x 251 columns]"
      ]
     },
     "execution_count": 18,
     "metadata": {},
     "output_type": "execute_result"
    }
   ],
   "source": [
    "car_test"
   ]
  },
  {
   "cell_type": "code",
   "execution_count": 19,
   "metadata": {},
   "outputs": [
    {
     "ename": "NameError",
     "evalue": "name 'test' is not defined",
     "output_type": "error",
     "traceback": [
      "\u001b[1;31m---------------------------------------------------------------------------\u001b[0m",
      "\u001b[1;31mNameError\u001b[0m                                 Traceback (most recent call last)",
      "\u001b[1;32m<ipython-input-19-4e1243bd22c6>\u001b[0m in \u001b[0;36m<module>\u001b[1;34m\u001b[0m\n\u001b[1;32m----> 1\u001b[1;33m \u001b[0mtest\u001b[0m\u001b[1;33m\u001b[0m\u001b[1;33m\u001b[0m\u001b[0m\n\u001b[0m",
      "\u001b[1;31mNameError\u001b[0m: name 'test' is not defined"
     ]
    }
   ],
   "source": [
    "test"
   ]
  },
  {
   "cell_type": "code",
   "execution_count": null,
   "metadata": {},
   "outputs": [],
   "source": [
    "test=X_features.head()\n",
    "test2 =X_features.tail()"
   ]
  },
  {
   "cell_type": "code",
   "execution_count": null,
   "metadata": {},
   "outputs": [],
   "source": [
    "value = xgb_reg.predict(car_test)\n",
    "np.expm1(value)"
   ]
  },
  {
   "cell_type": "code",
   "execution_count": null,
   "metadata": {},
   "outputs": [],
   "source": [
    "np.expm1(y_target).tail()"
   ]
  },
  {
   "cell_type": "code",
   "execution_count": null,
   "metadata": {},
   "outputs": [],
   "source": [
    "xgb_pred2 = xgb_reg.predict(test2)\n",
    "value2 = xgb_reg.predict(test2)\n",
    "np.expm1(value2)"
   ]
  },
  {
   "cell_type": "code",
   "execution_count": null,
   "metadata": {},
   "outputs": [],
   "source": [
    "np.expm1(y_target).head()"
   ]
  }
 ],
 "metadata": {
  "kernelspec": {
   "display_name": "Python 3",
   "language": "python",
   "name": "python3"
  },
  "language_info": {
   "codemirror_mode": {
    "name": "ipython",
    "version": 3
   },
   "file_extension": ".py",
   "mimetype": "text/x-python",
   "name": "python",
   "nbconvert_exporter": "python",
   "pygments_lexer": "ipython3",
   "version": "3.8.8"
  }
 },
 "nbformat": 4,
 "nbformat_minor": 4
}
