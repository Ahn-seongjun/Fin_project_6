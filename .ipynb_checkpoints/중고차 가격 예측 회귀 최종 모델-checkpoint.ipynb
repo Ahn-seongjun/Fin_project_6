{
 "cells": [
  {
   "cell_type": "markdown",
   "metadata": {},
   "source": [
    "## 과정"
   ]
  },
  {
   "cell_type": "markdown",
   "metadata": {},
   "source": [
    "### 전체 회귀 분석 과정\n",
    "- 1.선형 회귀 모델 학습/예측/평가 및 회귀계수 시각화(릿지, 라쏘)\n",
    "    - 1.1 회귀계수 시각화\n",
    "    - 1.2 5폴드 교차 검증\n",
    "    - 1.3 리지/라쏘 모델에 대해 alpha 하이퍼파라미터 튜닝 후 재학습/예측/평가\n",
    "    - 1.4 튜닝된 모델 회귀 계수 시각화\n",
    "- 2.회귀 트리 모델 학습/예측/평가 및 회귀계수 시각화(XGBoost, LGBM)\n",
    "- 3.회귀 모델의 예측 결과 혼합을 통한 최종 예측\n",
    "    - 3.1 릿지와 랏소 모델 예측 결과 혼합\n",
    "    - 3.2 XGBoost와 LGBM 모델 예측결과 혼합\n",
    "- 4.스태킹 앙상블 모델을 통한 회귀 예측"
   ]
  },
  {
   "cell_type": "code",
   "execution_count": 1,
   "metadata": {},
   "outputs": [],
   "source": [
    "import warnings\n",
    "warnings.filterwarnings('ignore')\n",
    "import pandas as pd\n",
    "import numpy as np\n",
    "import seaborn as sns\n",
    "import matplotlib.pyplot as plt\n",
    "import plotly.express as px\n",
    "%matplotlib inline\n",
    "from matplotlib import font_manager, rc\n",
    "\n",
    "path = \"c:/Windows/Fonts/malgun.ttf\"\n",
    "font_name = font_manager.FontProperties(fname=path).get_name()\n",
    "rc('font', family=font_name)\n",
    "\n",
    "# Target 값 : price"
   ]
  },
  {
   "cell_type": "code",
   "execution_count": 2,
   "metadata": {},
   "outputs": [
    {
     "data": {
      "text/html": [
       "<div>\n",
       "<style scoped>\n",
       "    .dataframe tbody tr th:only-of-type {\n",
       "        vertical-align: middle;\n",
       "    }\n",
       "\n",
       "    .dataframe tbody tr th {\n",
       "        vertical-align: top;\n",
       "    }\n",
       "\n",
       "    .dataframe thead th {\n",
       "        text-align: right;\n",
       "    }\n",
       "</style>\n",
       "<table border=\"1\" class=\"dataframe\">\n",
       "  <thead>\n",
       "    <tr style=\"text-align: right;\">\n",
       "      <th></th>\n",
       "      <th>km</th>\n",
       "      <th>year</th>\n",
       "      <th>accident</th>\n",
       "      <th>price</th>\n",
       "      <th>wd</th>\n",
       "      <th>trim</th>\n",
       "      <th>brand_BMW</th>\n",
       "      <th>brand_기아</th>\n",
       "      <th>brand_랜드로버</th>\n",
       "      <th>brand_르노삼성</th>\n",
       "      <th>...</th>\n",
       "      <th>type_LPG</th>\n",
       "      <th>type_가솔린</th>\n",
       "      <th>type_디젤</th>\n",
       "      <th>type_바이퓨얼</th>\n",
       "      <th>type_전기</th>\n",
       "      <th>type_하이브리드</th>\n",
       "      <th>color_검정색</th>\n",
       "      <th>color_기타</th>\n",
       "      <th>color_회색</th>\n",
       "      <th>color_흰색</th>\n",
       "    </tr>\n",
       "  </thead>\n",
       "  <tbody>\n",
       "    <tr>\n",
       "      <th>0</th>\n",
       "      <td>110575</td>\n",
       "      <td>11</td>\n",
       "      <td>3</td>\n",
       "      <td>6.478510</td>\n",
       "      <td>0</td>\n",
       "      <td>1</td>\n",
       "      <td>0</td>\n",
       "      <td>1</td>\n",
       "      <td>0</td>\n",
       "      <td>0</td>\n",
       "      <td>...</td>\n",
       "      <td>0</td>\n",
       "      <td>1</td>\n",
       "      <td>0</td>\n",
       "      <td>0</td>\n",
       "      <td>0</td>\n",
       "      <td>0</td>\n",
       "      <td>1</td>\n",
       "      <td>0</td>\n",
       "      <td>0</td>\n",
       "      <td>0</td>\n",
       "    </tr>\n",
       "    <tr>\n",
       "      <th>1</th>\n",
       "      <td>106819</td>\n",
       "      <td>8</td>\n",
       "      <td>3</td>\n",
       "      <td>6.846943</td>\n",
       "      <td>0</td>\n",
       "      <td>1</td>\n",
       "      <td>0</td>\n",
       "      <td>1</td>\n",
       "      <td>0</td>\n",
       "      <td>0</td>\n",
       "      <td>...</td>\n",
       "      <td>0</td>\n",
       "      <td>1</td>\n",
       "      <td>0</td>\n",
       "      <td>0</td>\n",
       "      <td>0</td>\n",
       "      <td>0</td>\n",
       "      <td>1</td>\n",
       "      <td>0</td>\n",
       "      <td>0</td>\n",
       "      <td>0</td>\n",
       "    </tr>\n",
       "    <tr>\n",
       "      <th>2</th>\n",
       "      <td>29151</td>\n",
       "      <td>3</td>\n",
       "      <td>3</td>\n",
       "      <td>7.544861</td>\n",
       "      <td>0</td>\n",
       "      <td>1</td>\n",
       "      <td>0</td>\n",
       "      <td>1</td>\n",
       "      <td>0</td>\n",
       "      <td>0</td>\n",
       "      <td>...</td>\n",
       "      <td>0</td>\n",
       "      <td>1</td>\n",
       "      <td>0</td>\n",
       "      <td>0</td>\n",
       "      <td>0</td>\n",
       "      <td>0</td>\n",
       "      <td>1</td>\n",
       "      <td>0</td>\n",
       "      <td>0</td>\n",
       "      <td>0</td>\n",
       "    </tr>\n",
       "    <tr>\n",
       "      <th>3</th>\n",
       "      <td>8766</td>\n",
       "      <td>1</td>\n",
       "      <td>3</td>\n",
       "      <td>8.068090</td>\n",
       "      <td>0</td>\n",
       "      <td>1</td>\n",
       "      <td>0</td>\n",
       "      <td>1</td>\n",
       "      <td>0</td>\n",
       "      <td>0</td>\n",
       "      <td>...</td>\n",
       "      <td>0</td>\n",
       "      <td>1</td>\n",
       "      <td>0</td>\n",
       "      <td>0</td>\n",
       "      <td>0</td>\n",
       "      <td>0</td>\n",
       "      <td>1</td>\n",
       "      <td>0</td>\n",
       "      <td>0</td>\n",
       "      <td>0</td>\n",
       "    </tr>\n",
       "    <tr>\n",
       "      <th>4</th>\n",
       "      <td>101196</td>\n",
       "      <td>10</td>\n",
       "      <td>3</td>\n",
       "      <td>6.710523</td>\n",
       "      <td>0</td>\n",
       "      <td>2</td>\n",
       "      <td>0</td>\n",
       "      <td>1</td>\n",
       "      <td>0</td>\n",
       "      <td>0</td>\n",
       "      <td>...</td>\n",
       "      <td>0</td>\n",
       "      <td>1</td>\n",
       "      <td>0</td>\n",
       "      <td>0</td>\n",
       "      <td>0</td>\n",
       "      <td>0</td>\n",
       "      <td>1</td>\n",
       "      <td>0</td>\n",
       "      <td>0</td>\n",
       "      <td>0</td>\n",
       "    </tr>\n",
       "  </tbody>\n",
       "</table>\n",
       "<p>5 rows × 277 columns</p>\n",
       "</div>"
      ],
      "text/plain": [
       "       km  year  accident     price  wd  trim  brand_BMW  brand_기아  \\\n",
       "0  110575    11         3  6.478510   0     1          0         1   \n",
       "1  106819     8         3  6.846943   0     1          0         1   \n",
       "2   29151     3         3  7.544861   0     1          0         1   \n",
       "3    8766     1         3  8.068090   0     1          0         1   \n",
       "4  101196    10         3  6.710523   0     2          0         1   \n",
       "\n",
       "   brand_랜드로버  brand_르노삼성  ...  type_LPG  type_가솔린  type_디젤  type_바이퓨얼  \\\n",
       "0           0           0  ...         0         1        0          0   \n",
       "1           0           0  ...         0         1        0          0   \n",
       "2           0           0  ...         0         1        0          0   \n",
       "3           0           0  ...         0         1        0          0   \n",
       "4           0           0  ...         0         1        0          0   \n",
       "\n",
       "   type_전기  type_하이브리드  color_검정색  color_기타  color_회색  color_흰색  \n",
       "0        0           0          1         0         0         0  \n",
       "1        0           0          1         0         0         0  \n",
       "2        0           0          1         0         0         0  \n",
       "3        0           0          1         0         0         0  \n",
       "4        0           0          1         0         0         0  \n",
       "\n",
       "[5 rows x 277 columns]"
      ]
     },
     "execution_count": 2,
     "metadata": {},
     "output_type": "execute_result"
    }
   ],
   "source": [
    "car_df_ohe= pd.read_csv('./data/최종 전처리.csv')\n",
    "car_df_ohe.head()"
   ]
  },
  {
   "cell_type": "markdown",
   "metadata": {},
   "source": [
    "### 1. 선형 회귀 모델 학습/예측/평가 및 회귀계수 시각화(릿지, 라쏘)\n",
    "\n",
    "LinearRegression, Ridge, Lasso를 이용해 선형 계열의 회귀 모델 만들기"
   ]
  },
  {
   "cell_type": "markdown",
   "metadata": {},
   "source": [
    "**RMSE 평가 함수 생성**"
   ]
  },
  {
   "cell_type": "code",
   "execution_count": 3,
   "metadata": {},
   "outputs": [],
   "source": [
    "# 단일 모델의 RMSE 값 반환\n",
    "def get_rmse(model): # 학습된 모델을 받아서 예측\n",
    "    pred = model.predict(X_test)\n",
    "    mse = mean_squared_error(y_test , pred)\n",
    "    rmse = np.sqrt(mse)\n",
    "    R2 = r2_score(y_test, pred)\n",
    "    print('\\n{0} 로그 변환된 RMSE: {1}'.format(model.__class__.__name__,np.round(rmse, 3)))\n",
    "    print('{0} R2: {1}'.format(model.__class__.__name__,np.round(R2, 3)))\n",
    "    return rmse\n",
    "\n",
    "# 여러 모델의 RMSE 값 반환\n",
    "def get_rmses(models) :\n",
    "    rmses = []\n",
    "    for model in models :\n",
    "        rmse = get_rmse(model)\n",
    "        rmses.append(rmse)\n",
    "    return rmses"
   ]
  },
  {
   "cell_type": "code",
   "execution_count": 4,
   "metadata": {},
   "outputs": [],
   "source": [
    "## 데이터 분할\n",
    "from sklearn.linear_model import LinearRegression, Ridge, Lasso\n",
    "from sklearn.model_selection import train_test_split\n",
    "from sklearn.metrics import mean_squared_error\n",
    "from sklearn.metrics import r2_score\n",
    "\n",
    "# 타깃과 피처\n",
    "y_target = car_df_ohe['price']\n",
    "X_features = car_df_ohe.drop('price',axis=1, inplace=False)\n",
    "\n",
    "X_train, X_test, y_train, y_test = train_test_split(X_features, y_target, test_size=0.2, random_state=156)"
   ]
  },
  {
   "cell_type": "markdown",
   "metadata": {},
   "source": [
    "**모델 학습/예측/평가**"
   ]
  },
  {
   "cell_type": "code",
   "execution_count": 5,
   "metadata": {},
   "outputs": [
    {
     "data": {
      "text/plain": [
       "Lasso()"
      ]
     },
     "execution_count": 5,
     "metadata": {},
     "output_type": "execute_result"
    }
   ],
   "source": [
    "# 일반 선형 회귀\n",
    "lr_reg = LinearRegression() \n",
    "lr_reg.fit(X_train, y_train)\n",
    "\n",
    "# 릿찌회귀\n",
    "ridge_reg = Ridge()\n",
    "ridge_reg.fit(X_train, y_train)\n",
    "\n",
    "# 라쏘 회귀\n",
    "lasso_reg=Lasso()\n",
    "lasso_reg.fit(X_train,y_train)\n"
   ]
  },
  {
   "cell_type": "markdown",
   "metadata": {},
   "source": [
    "### 1.2 5폴드 교차 검증으로 평균 RMSE 측정\n",
    "- 함수 생성"
   ]
  },
  {
   "cell_type": "code",
   "execution_count": 10,
   "metadata": {},
   "outputs": [],
   "source": [
    "from sklearn.model_selection import cross_val_score\n",
    "\n",
    "def get_avg_rmse_cv(models) :\n",
    "    \n",
    "    for model in models :\n",
    "        # 분할하지 않고 전체 데이터세트로 교차검증 수행\n",
    "        rmse_list = np.sqrt(-cross_val_score(model, X_features, y_target,\n",
    "                                             scoring=\"neg_mean_squared_error\", cv=5))\n",
    "        r2_list = cross_val_score(model, X_features, y_target,\n",
    "                                             scoring=\"r2\", cv=5)\n",
    "        rmse_avg = np.mean(rmse_list)\n",
    "        r2_avg = np.mean(r2_list)\n",
    "        \n",
    "        print('\\n{0} CV RMSE 값 리스트: {1}'.format( model.__class__.__name__, np.round(rmse_list, 3)))\n",
    "        print('{0} CV R2 값 리스트: {1}'.format( model.__class__.__name__, np.round(r2_list, 3)))\n",
    "        print('{0} CV 평균 RMSE 값: {1}'.format( model.__class__.__name__, np.round(rmse_avg, 3)))\n",
    "        print('{0} CV 평균 R2 값: {1}'.format( model.__class__.__name__, np.round(r2_avg, 3)))"
   ]
  },
  {
   "cell_type": "markdown",
   "metadata": {},
   "source": [
    "### 1.3 리지/라쏘 모델에 대해 alpha 하이퍼파라미터 튜닝 후 재학습/예측/평가"
   ]
  },
  {
   "cell_type": "code",
   "execution_count": 6,
   "metadata": {},
   "outputs": [],
   "source": [
    "from sklearn.model_selection import GridSearchCV\n",
    "# 모델과 하이퍼 파라미터 딕셔너리 객체를 받아서\n",
    "# 최적화 작업의 결과를 표시하는 함수\n",
    "# 릿지 모델과 라쏘 모델의 최적화 alpha 값 추출\n",
    "def get_best_params(model, params):\n",
    "    grid_model = GridSearchCV(model, param_grid=params, \n",
    "                              scoring='neg_mean_squared_error', cv=5)\n",
    "    grid_model_r2 = GridSearchCV(model, param_grid=params, \n",
    "                              scoring='r2', cv=5)\n",
    "    grid_model.fit(X_features, y_target)\n",
    "    grid_model_r2.fit(X_features, y_target)\n",
    "    rmse = np.sqrt(-1* grid_model.best_score_)\n",
    "    r2 = grid_model_r2.best_score_\n",
    "    print('\\n{0} 5 CV 시 최적 평균 RMSE 값: {1}, 최적 alpha:{2}'.format(model.__class__.__name__,\n",
    "                                        np.round(rmse, 4), grid_model.best_params_))\n",
    "    print('{0} 5 CV 시 최적 평균 R2 값: {1}, 최적 alpha:{2}'.format(model.__class__.__name__,\n",
    "                                        np.round(r2, 4), grid_model_r2.best_params_))\n",
    "    return grid_model.best_estimator_ # 최적 파라미터로 재학습된 모델 반환\n"
   ]
  },
  {
   "cell_type": "markdown",
   "metadata": {},
   "source": [
    "**분할된 트레인 테스트 데이터를 이용해 학습 후 평가**"
   ]
  },
  {
   "cell_type": "code",
   "execution_count": 7,
   "metadata": {},
   "outputs": [
    {
     "data": {
      "text/plain": [
       "Lasso(alpha=0.001)"
      ]
     },
     "execution_count": 7,
     "metadata": {},
     "output_type": "execute_result"
    }
   ],
   "source": [
    "lr_reg = LinearRegression()\n",
    "lr_reg.fit(X_train, y_train)\n",
    "\n",
    "ridge_reg = Ridge(alpha=20)\n",
    "ridge_reg.fit(X_train, y_train)\n",
    "\n",
    "lasso_reg = Lasso(alpha=0.001)\n",
    "lasso_reg.fit(X_train, y_train)"
   ]
  },
  {
   "cell_type": "markdown",
   "metadata": {},
   "source": [
    "### 2. 회귀 트리 모델 학습/예측/평가 및 회귀계수 시각화(XGBoost, LGBM)\n"
   ]
  },
  {
   "cell_type": "markdown",
   "metadata": {},
   "source": [
    "- XGBoost와 LightGBM 학습/예측/평가 "
   ]
  },
  {
   "cell_type": "code",
   "execution_count": 18,
   "metadata": {},
   "outputs": [
    {
     "name": "stdout",
     "output_type": "stream",
     "text": [
      "\n",
      "XGBRegressor 5 CV 시 최적 평균 RMSE 값: 0.3801, 최적 alpha:{'n_estimators': 1000}\n",
      "XGBRegressor 5 CV 시 최적 평균 R2 값: 0.7458, 최적 alpha:{'n_estimators': 1000}\n"
     ]
    }
   ],
   "source": [
    "# XGBoost와 LightGBM 모두 수행 시간이 오래 걸릴 수 있는 관계로\n",
    "# 하이퍼 파라미터 설정을 미리 적용한 상태로\n",
    "# 5 폴드 세트에 대한 평균 RMSE 값 추출\n",
    "\n",
    "from xgboost import XGBRegressor\n",
    "\n",
    "xgb_params = {'n_estimators':[1000]}\n",
    "\n",
    "xgb_reg = XGBRegressor(n_estimators=1000, learning_rate=0.05,\n",
    "                      colsample_bytree=0.5, subsample=0.8)\n",
    "\n",
    "best_xgb = get_best_params(xgb_reg, xgb_params)"
   ]
  },
  {
   "cell_type": "code",
   "execution_count": 19,
   "metadata": {},
   "outputs": [
    {
     "name": "stdout",
     "output_type": "stream",
     "text": [
      "\n",
      "LGBMRegressor 5 CV 시 최적 평균 RMSE 값: 0.3938, 최적 alpha:{'n_estimators': 1000}\n",
      "LGBMRegressor 5 CV 시 최적 평균 R2 값: 0.7204, 최적 alpha:{'n_estimators': 1000}\n"
     ]
    }
   ],
   "source": [
    "# 이번에는 LightGBM 회귀 트리 적용\n",
    "\n",
    "from lightgbm import LGBMRegressor\n",
    "\n",
    "lgbm_params = {'n_estimators':[1000]}\n",
    "lgbm_reg = LGBMRegressor(n_estimators=1000, learning_rate=0.05, num_leaves=4, \n",
    "                         subsample=0.6, colsample_bytree=0.4, reg_lambda=10, n_jobs=-1)\n",
    "best_lgbm = get_best_params(lgbm_reg, lgbm_params)"
   ]
  },
  {
   "cell_type": "markdown",
   "metadata": {},
   "source": [
    "### 3.회귀 모델의 예측 결과 혼합을 통한 최종 예측"
   ]
  },
  {
   "cell_type": "code",
   "execution_count": 22,
   "metadata": {},
   "outputs": [],
   "source": [
    "# 최종 혼합 모델과 개별 모델의 RMSE 값 출력하는 함수 생성\n",
    "def get_rmse_pred(preds):\n",
    "    for key in preds.keys():\n",
    "        pred_value = preds[key]\n",
    "        mse = mean_squared_error(y_test, pred_value)\n",
    "        rmse = np.sqrt(mse)\n",
    "        R2 = r2_score(y_test, pred_value)\n",
    "        print('\\n{0} 모델의 RMSE: {1}'.format(key, np.round(rmse, 3)))\n",
    "        print('{0} 모델의 R2: {1}'.format(key, np.round(R2, 3)))"
   ]
  },
  {
   "cell_type": "code",
   "execution_count": 23,
   "metadata": {},
   "outputs": [],
   "source": [
    "# 개별 모델 학습\n",
    "ridge_reg = Ridge(alpha=20)\n",
    "ridge_reg.fit(X_train, y_train)\n",
    "lasso_reg = Lasso(alpha=0.001)\n",
    "lasso_reg.fit(X_train, y_train)\n",
    "\n",
    "# 개별모델 예측\n",
    "ridge_pred = ridge_reg.predict(X_test)\n",
    "lasso_pred = lasso_reg.predict(X_test)"
   ]
  },
  {
   "cell_type": "markdown",
   "metadata": {},
   "source": [
    "#### 3.1 릿지와 랏소 모델 예측 결과 혼합"
   ]
  },
  {
   "cell_type": "code",
   "execution_count": 24,
   "metadata": {},
   "outputs": [],
   "source": [
    "# 개별 모델 예측값 혼합으로 최종 예측값 도출\n",
    "pred = 0.6 * ridge_pred + 0.4*lasso_pred"
   ]
  },
  {
   "cell_type": "code",
   "execution_count": 25,
   "metadata": {},
   "outputs": [
    {
     "name": "stdout",
     "output_type": "stream",
     "text": [
      "\n",
      "최종 혼합 모델의 RMSE: 0.198\n",
      "최종 혼합 모델의 R2: 0.918\n",
      "\n",
      "Ridge 모델의 RMSE: 0.182\n",
      "Ridge 모델의 R2: 0.931\n",
      "\n",
      "Lasso 모델의 RMSE: 0.239\n",
      "Lasso 모델의 R2: 0.88\n"
     ]
    }
   ],
   "source": [
    "preds = {'최종 혼합': pred,\n",
    "         'Ridge': ridge_pred,\n",
    "         'Lasso': lasso_pred}\n",
    "\n",
    "#최종 혼합 모델, 개별모델의 RMSE 값 출력\n",
    "get_rmse_pred(preds)"
   ]
  },
  {
   "cell_type": "markdown",
   "metadata": {},
   "source": [
    "#### 3.2 XGBoost와 LGBM 모델 예측결과 혼합 (각 50%)"
   ]
  },
  {
   "cell_type": "code",
   "execution_count": 26,
   "metadata": {},
   "outputs": [],
   "source": [
    "xgb_reg = XGBRegressor(n_estimators=1000, learning_rate=0.05, \n",
    "                       colsample_bytree=0.5, subsample=0.8)\n",
    "lgbm_reg = LGBMRegressor(n_estimators=1000, learning_rate=0.05, num_leaves=4, \n",
    "                         subsample=0.6, colsample_bytree=0.4, reg_lambda=10, n_jobs=-1)\n",
    "xgb_reg.fit(X_train, y_train)\n",
    "lgbm_reg.fit(X_train, y_train)\n",
    "xgb_pred = xgb_reg.predict(X_test)\n",
    "lgbm_pred = lgbm_reg.predict(X_test)\n",
    "\n"
   ]
  },
  {
   "cell_type": "code",
   "execution_count": 63,
   "metadata": {},
   "outputs": [
    {
     "data": {
      "text/plain": [
       "array([8.783832 , 7.1186543, 7.1828794, ..., 6.527605 , 7.790217 ,\n",
       "       7.8019295], dtype=float32)"
      ]
     },
     "execution_count": 63,
     "metadata": {},
     "output_type": "execute_result"
    }
   ],
   "source": [
    "xgb_pred"
   ]
  },
  {
   "cell_type": "code",
   "execution_count": 27,
   "metadata": {},
   "outputs": [
    {
     "name": "stdout",
     "output_type": "stream",
     "text": [
      "\n",
      "최종 혼합 모델의 RMSE: 0.153\n",
      "최종 혼합 모델의 R2: 0.951\n",
      "\n",
      "XGBM 모델의 RMSE: 0.131\n",
      "XGBM 모델의 R2: 0.964\n",
      "\n",
      "LGBM 모델의 RMSE: 0.188\n",
      "LGBM 모델의 R2: 0.926\n"
     ]
    }
   ],
   "source": [
    "pred = 0.5 * xgb_pred + 0.5 * lgbm_pred\n",
    "preds = {'최종 혼합': pred,\n",
    "         'XGBM': xgb_pred,\n",
    "         'LGBM': lgbm_pred}\n",
    "        \n",
    "get_rmse_pred(preds)"
   ]
  },
  {
   "cell_type": "markdown",
   "metadata": {},
   "source": [
    "### 4.스태킹 앙상블 모델을 통한 회귀 예측"
   ]
  },
  {
   "cell_type": "code",
   "execution_count": 28,
   "metadata": {},
   "outputs": [],
   "source": [
    "from sklearn.model_selection import KFold #트레인데이터를 학습/검증 세트로 분리하기 위해 필요\n",
    "from sklearn.metrics import mean_absolute_error"
   ]
  },
  {
   "cell_type": "code",
   "execution_count": 29,
   "metadata": {},
   "outputs": [],
   "source": [
    "# 개별 기반 모델(1개의 모델) 최종 모델이 사용할 학습 및 테스트용 데이터를 생성하기 위한 함수\n",
    "def get_stacking_base_datasets(model, X_train_n,y_train_n,X_test_n,n_folds) :\n",
    "    # 지정된 n_folds 값으로 KFold 객체 생성\n",
    "    kf = KFold(n_splits=n_folds,shuffle=True,random_state=0)\n",
    "    \n",
    "    # 최종모델이 사용할 학습 데이터를 위한 초기 구성 - 넘파이배열로 생성\n",
    "    train_fold_pred = np.zeros((X_train_n.shape[0],1))\n",
    "    test_pred = np.zeros((X_test_n.shape[0],n_folds))\n",
    "    print(model.__class__.__name__ , ' model 시작 ')\n",
    "    \n",
    "    for folder_counter, (train_index, valid_index) in enumerate(kf.split(X_train_n)):\n",
    "       #입력된 학습 데이터에서 기반 모델이 학습/예측할 폴드 데이터 셋 추출 \n",
    "        print('\\t 폴드 세트: ',folder_counter,' 시작 ')\n",
    "        X_tr = X_train_n[train_index] \n",
    "        y_tr = y_train_n[train_index] \n",
    "        X_te = X_train_n[valid_index]\n",
    "        \n",
    "        # 폴드 세트 내부에서 다시 만들어진 학습 데이터로 기반 모델의 학습 수행\n",
    "        model.fit(X_tr, y_tr)\n",
    "        \n",
    "        #폴드 세트 내부에서 다시 만들어진 검증 데이터로 기반 모델 예측 후 데이터 저장.\n",
    "        train_fold_pred[valid_index, :] = model.predict(X_te).reshape(-1,1)\n",
    "        \n",
    "        #입력된 원본 테스트 데이터를 폴드 세트내 학습된 기반 모델에서 예측 후 데이터 저장. \n",
    "        test_pred[:, folder_counter] = model.predict(X_test_n)\n",
    "        \n",
    "    # 테스트 데이터를 폴드세트의 평균으로 생성\n",
    "    test_pred_mean = np.mean(test_pred, axis=1).reshape(-1,1)\n",
    "    \n",
    "    #train_fold_pred는 최종 메타 모델이 사용하는 학습 데이터, \n",
    "    # test_pred_mean은 테스트 데이터\n",
    "    return train_fold_pred , test_pred_mean    \n",
    "    \n",
    "    "
   ]
  },
  {
   "cell_type": "markdown",
   "metadata": {},
   "source": [
    "**기반 개별 모델은 리지, 라소, XGBoost, LightGBM 으로 생성**\n",
    "- 최종 모델을 라소로 생성하여 학습/예측/평가"
   ]
  },
  {
   "cell_type": "code",
   "execution_count": 30,
   "metadata": {},
   "outputs": [],
   "source": [
    "# 생성한 함수가 ndarray를 인자로 사용하므로 DF를 ndarray로 변환\n",
    "X_train_n = X_train.values\n",
    "X_test_n = X_test.values\n",
    "y_train_n = y_train.values"
   ]
  },
  {
   "cell_type": "code",
   "execution_count": 31,
   "metadata": {},
   "outputs": [
    {
     "name": "stdout",
     "output_type": "stream",
     "text": [
      "Ridge  model 시작 \n",
      "\t 폴드 세트:  0  시작 \n",
      "\t 폴드 세트:  1  시작 \n",
      "\t 폴드 세트:  2  시작 \n",
      "\t 폴드 세트:  3  시작 \n",
      "\t 폴드 세트:  4  시작 \n",
      "Lasso  model 시작 \n",
      "\t 폴드 세트:  0  시작 \n",
      "\t 폴드 세트:  1  시작 \n",
      "\t 폴드 세트:  2  시작 \n",
      "\t 폴드 세트:  3  시작 \n",
      "\t 폴드 세트:  4  시작 \n",
      "XGBRegressor  model 시작 \n",
      "\t 폴드 세트:  0  시작 \n",
      "\t 폴드 세트:  1  시작 \n",
      "\t 폴드 세트:  2  시작 \n",
      "\t 폴드 세트:  3  시작 \n",
      "\t 폴드 세트:  4  시작 \n",
      "LGBMRegressor  model 시작 \n",
      "\t 폴드 세트:  0  시작 \n",
      "\t 폴드 세트:  1  시작 \n",
      "\t 폴드 세트:  2  시작 \n",
      "\t 폴드 세트:  3  시작 \n",
      "\t 폴드 세트:  4  시작 \n"
     ]
    }
   ],
   "source": [
    "# 각 개별 기반(Base)모델이 생성한 학습용/테스트용 데이터 반환. \n",
    "ridge_train, ridge_test = get_stacking_base_datasets(ridge_reg, X_train_n, y_train_n, X_test_n, 5)\n",
    "lasso_train, lasso_test = get_stacking_base_datasets(lasso_reg, X_train_n, y_train_n, X_test_n, 5)\n",
    "xgb_train, xgb_test = get_stacking_base_datasets(xgb_reg, X_train_n, y_train_n, X_test_n, 5)  \n",
    "lgbm_train, lgbm_test = get_stacking_base_datasets(lgbm_reg, X_train_n, y_train_n, X_test_n, 5)"
   ]
  },
  {
   "cell_type": "code",
   "execution_count": 32,
   "metadata": {},
   "outputs": [],
   "source": [
    "# 각 개별 모델이 반환한 학습용피처 데이터와 테스트용피터 데이터 세트를 결합해서 최종데이터세트 생성\n",
    "Stack_final_X_train = np.concatenate((ridge_train, lasso_train, \n",
    "                                      xgb_train, lgbm_train), axis=1)\n",
    "Stack_final_X_test = np.concatenate((ridge_test, lasso_test, \n",
    "                                     xgb_test, lgbm_test), axis=1)"
   ]
  },
  {
   "cell_type": "code",
   "execution_count": 33,
   "metadata": {},
   "outputs": [
    {
     "data": {
      "text/plain": [
       "array([[7.67215589, 7.7152217 , 7.70317221, 7.76424024],\n",
       "       [7.87607469, 7.86225277, 7.88966751, 7.84541189],\n",
       "       [7.87494308, 7.8615388 , 7.80170059, 7.88176787],\n",
       "       ...,\n",
       "       [6.08191389, 6.15539292, 5.76746798, 5.98977701],\n",
       "       [8.2230874 , 8.02933329, 8.11387062, 8.07233511],\n",
       "       [7.60474373, 7.60977988, 7.58923578, 7.63715224]])"
      ]
     },
     "execution_count": 33,
     "metadata": {},
     "output_type": "execute_result"
    }
   ],
   "source": [
    "Stack_final_X_train"
   ]
  },
  {
   "cell_type": "code",
   "execution_count": 34,
   "metadata": {},
   "outputs": [],
   "source": [
    "# 최종 모델을 릿지 모델을 적용\n",
    "meta_model_ridge = Ridge(alpha=20)"
   ]
  },
  {
   "cell_type": "code",
   "execution_count": 35,
   "metadata": {},
   "outputs": [
    {
     "name": "stdout",
     "output_type": "stream",
     "text": [
      "릿지 모델 적용 스태킹 회귀 모델의 최종 RMSE 값은: 0.126\n",
      "릿지 모델 적용 스태킹 회귀 모델의 최종 R2 값은: 0.967\n"
     ]
    }
   ],
   "source": [
    "meta_model_ridge.fit(Stack_final_X_train,y_train)\n",
    "final = meta_model_ridge.predict(Stack_final_X_test)\n",
    "mse = mean_squared_error(y_test,final)\n",
    "rmse=np.sqrt(mse)\n",
    "R2 = r2_score(y_test, final)\n",
    "\n",
    "print('릿지 모델 적용 스태킹 회귀 모델의 최종 RMSE 값은:', np.round(rmse, 3))\n",
    "print('릿지 모델 적용 스태킹 회귀 모델의 최종 R2 값은:', np.round(R2, 3))"
   ]
  },
  {
   "cell_type": "code",
   "execution_count": 36,
   "metadata": {},
   "outputs": [],
   "source": [
    "# 최종 모델은 라쏘 모델을 적용\n",
    "meta_model_lasso = Lasso(alpha=0.001)"
   ]
  },
  {
   "cell_type": "code",
   "execution_count": 37,
   "metadata": {},
   "outputs": [
    {
     "name": "stdout",
     "output_type": "stream",
     "text": [
      "라쏘 모델 적용 스태킹 회귀 모델의 최종 RMSE 값은: 0.128\n",
      "라쏘 모델 적용 스태킹 회귀 모델의 최종 R2 값은: 0.966\n"
     ]
    }
   ],
   "source": [
    "meta_model_lasso.fit(Stack_final_X_train,y_train)\n",
    "final = meta_model_lasso.predict(Stack_final_X_test)\n",
    "mse = mean_squared_error(y_test,final)\n",
    "rmse=np.sqrt(mse)\n",
    "R2 = r2_score(y_test, final)\n",
    "\n",
    "print('라쏘 모델 적용 스태킹 회귀 모델의 최종 RMSE 값은:', np.round(rmse, 3))\n",
    "print('라쏘 모델 적용 스태킹 회귀 모델의 최종 R2 값은:', np.round(R2, 3))"
   ]
  },
  {
   "cell_type": "code",
   "execution_count": 38,
   "metadata": {},
   "outputs": [],
   "source": [
    "# 최종 모델은 XGBoost, LightGBM 모델을 적용\n",
    "meta_model_xgb_reg = xgb_reg"
   ]
  },
  {
   "cell_type": "code",
   "execution_count": 39,
   "metadata": {},
   "outputs": [
    {
     "name": "stdout",
     "output_type": "stream",
     "text": [
      "XGBoost 모델 적용 스태킹 회귀 모델의 최종 RMSE 값은: 0.124\n",
      "XGBoost 모델 적용 스태킹 회귀 모델의 최종 R2 값은: 0.968\n"
     ]
    }
   ],
   "source": [
    "meta_model_xgb_reg.fit(Stack_final_X_train,y_train)\n",
    "final = meta_model_xgb_reg.predict(Stack_final_X_test)\n",
    "mse = mean_squared_error(y_test,final)\n",
    "rmse=np.sqrt(mse)\n",
    "R2 = r2_score(y_test, final)\n",
    "\n",
    "print('XGBoost 모델 적용 스태킹 회귀 모델의 최종 RMSE 값은:', np.round(rmse, 3))\n",
    "print('XGBoost 모델 적용 스태킹 회귀 모델의 최종 R2 값은:', np.round(R2, 3))"
   ]
  },
  {
   "cell_type": "code",
   "execution_count": 40,
   "metadata": {},
   "outputs": [],
   "source": [
    "# 최종 모델은 LightGBM 모델을 적용\n",
    "meta_model_lgbm_reg = lgbm_reg"
   ]
  },
  {
   "cell_type": "code",
   "execution_count": 41,
   "metadata": {},
   "outputs": [
    {
     "name": "stdout",
     "output_type": "stream",
     "text": [
      "LightGBM 모델 적용 스태킹 회귀 모델의 최종 RMSE 값은: 0.136\n",
      "LightGBM 모델 적용 스태킹 회귀 모델의 최종 R2 값은: 0.961\n"
     ]
    }
   ],
   "source": [
    "meta_model_lgbm_reg.fit(Stack_final_X_train,y_train)\n",
    "final = meta_model_lgbm_reg.predict(Stack_final_X_test)\n",
    "mse = mean_squared_error(y_test,final)\n",
    "rmse=np.sqrt(mse)\n",
    "R2 = r2_score(y_test, final)\n",
    "\n",
    "print('LightGBM 모델 적용 스태킹 회귀 모델의 최종 RMSE 값은:', np.round(rmse, 3))\n",
    "print('LightGBM 모델 적용 스태킹 회귀 모델의 최종 R2 값은:', np.round(R2, 3))"
   ]
  },
  {
   "cell_type": "code",
   "execution_count": 59,
   "metadata": {},
   "outputs": [
    {
     "data": {
      "text/html": [
       "<div>\n",
       "<style scoped>\n",
       "    .dataframe tbody tr th:only-of-type {\n",
       "        vertical-align: middle;\n",
       "    }\n",
       "\n",
       "    .dataframe tbody tr th {\n",
       "        vertical-align: top;\n",
       "    }\n",
       "\n",
       "    .dataframe thead th {\n",
       "        text-align: right;\n",
       "    }\n",
       "</style>\n",
       "<table border=\"1\" class=\"dataframe\">\n",
       "  <thead>\n",
       "    <tr style=\"text-align: right;\">\n",
       "      <th></th>\n",
       "      <th>km</th>\n",
       "      <th>year</th>\n",
       "      <th>accident</th>\n",
       "      <th>wd</th>\n",
       "      <th>trim</th>\n",
       "      <th>brand_BMW</th>\n",
       "      <th>brand_기아</th>\n",
       "      <th>brand_랜드로버</th>\n",
       "      <th>brand_르노삼성</th>\n",
       "      <th>brand_미니</th>\n",
       "      <th>...</th>\n",
       "      <th>type_LPG</th>\n",
       "      <th>type_가솔린</th>\n",
       "      <th>type_디젤</th>\n",
       "      <th>type_바이퓨얼</th>\n",
       "      <th>type_전기</th>\n",
       "      <th>type_하이브리드</th>\n",
       "      <th>color_검정색</th>\n",
       "      <th>color_기타</th>\n",
       "      <th>color_회색</th>\n",
       "      <th>color_흰색</th>\n",
       "    </tr>\n",
       "  </thead>\n",
       "  <tbody>\n",
       "    <tr>\n",
       "      <th>0</th>\n",
       "      <td>110575</td>\n",
       "      <td>11</td>\n",
       "      <td>3</td>\n",
       "      <td>0</td>\n",
       "      <td>1</td>\n",
       "      <td>0</td>\n",
       "      <td>1</td>\n",
       "      <td>0</td>\n",
       "      <td>0</td>\n",
       "      <td>0</td>\n",
       "      <td>...</td>\n",
       "      <td>0</td>\n",
       "      <td>1</td>\n",
       "      <td>0</td>\n",
       "      <td>0</td>\n",
       "      <td>0</td>\n",
       "      <td>0</td>\n",
       "      <td>1</td>\n",
       "      <td>0</td>\n",
       "      <td>0</td>\n",
       "      <td>0</td>\n",
       "    </tr>\n",
       "    <tr>\n",
       "      <th>1</th>\n",
       "      <td>106819</td>\n",
       "      <td>8</td>\n",
       "      <td>3</td>\n",
       "      <td>0</td>\n",
       "      <td>1</td>\n",
       "      <td>0</td>\n",
       "      <td>1</td>\n",
       "      <td>0</td>\n",
       "      <td>0</td>\n",
       "      <td>0</td>\n",
       "      <td>...</td>\n",
       "      <td>0</td>\n",
       "      <td>1</td>\n",
       "      <td>0</td>\n",
       "      <td>0</td>\n",
       "      <td>0</td>\n",
       "      <td>0</td>\n",
       "      <td>1</td>\n",
       "      <td>0</td>\n",
       "      <td>0</td>\n",
       "      <td>0</td>\n",
       "    </tr>\n",
       "    <tr>\n",
       "      <th>2</th>\n",
       "      <td>29151</td>\n",
       "      <td>3</td>\n",
       "      <td>3</td>\n",
       "      <td>0</td>\n",
       "      <td>1</td>\n",
       "      <td>0</td>\n",
       "      <td>1</td>\n",
       "      <td>0</td>\n",
       "      <td>0</td>\n",
       "      <td>0</td>\n",
       "      <td>...</td>\n",
       "      <td>0</td>\n",
       "      <td>1</td>\n",
       "      <td>0</td>\n",
       "      <td>0</td>\n",
       "      <td>0</td>\n",
       "      <td>0</td>\n",
       "      <td>1</td>\n",
       "      <td>0</td>\n",
       "      <td>0</td>\n",
       "      <td>0</td>\n",
       "    </tr>\n",
       "    <tr>\n",
       "      <th>3</th>\n",
       "      <td>8766</td>\n",
       "      <td>1</td>\n",
       "      <td>3</td>\n",
       "      <td>0</td>\n",
       "      <td>1</td>\n",
       "      <td>0</td>\n",
       "      <td>1</td>\n",
       "      <td>0</td>\n",
       "      <td>0</td>\n",
       "      <td>0</td>\n",
       "      <td>...</td>\n",
       "      <td>0</td>\n",
       "      <td>1</td>\n",
       "      <td>0</td>\n",
       "      <td>0</td>\n",
       "      <td>0</td>\n",
       "      <td>0</td>\n",
       "      <td>1</td>\n",
       "      <td>0</td>\n",
       "      <td>0</td>\n",
       "      <td>0</td>\n",
       "    </tr>\n",
       "    <tr>\n",
       "      <th>4</th>\n",
       "      <td>101196</td>\n",
       "      <td>10</td>\n",
       "      <td>3</td>\n",
       "      <td>0</td>\n",
       "      <td>2</td>\n",
       "      <td>0</td>\n",
       "      <td>1</td>\n",
       "      <td>0</td>\n",
       "      <td>0</td>\n",
       "      <td>0</td>\n",
       "      <td>...</td>\n",
       "      <td>0</td>\n",
       "      <td>1</td>\n",
       "      <td>0</td>\n",
       "      <td>0</td>\n",
       "      <td>0</td>\n",
       "      <td>0</td>\n",
       "      <td>1</td>\n",
       "      <td>0</td>\n",
       "      <td>0</td>\n",
       "      <td>0</td>\n",
       "    </tr>\n",
       "  </tbody>\n",
       "</table>\n",
       "<p>5 rows × 276 columns</p>\n",
       "</div>"
      ],
      "text/plain": [
       "       km  year  accident  wd  trim  brand_BMW  brand_기아  brand_랜드로버  \\\n",
       "0  110575    11         3   0     1          0         1           0   \n",
       "1  106819     8         3   0     1          0         1           0   \n",
       "2   29151     3         3   0     1          0         1           0   \n",
       "3    8766     1         3   0     1          0         1           0   \n",
       "4  101196    10         3   0     2          0         1           0   \n",
       "\n",
       "   brand_르노삼성  brand_미니  ...  type_LPG  type_가솔린  type_디젤  type_바이퓨얼  type_전기  \\\n",
       "0           0         0  ...         0         1        0          0        0   \n",
       "1           0         0  ...         0         1        0          0        0   \n",
       "2           0         0  ...         0         1        0          0        0   \n",
       "3           0         0  ...         0         1        0          0        0   \n",
       "4           0         0  ...         0         1        0          0        0   \n",
       "\n",
       "   type_하이브리드  color_검정색  color_기타  color_회색  color_흰색  \n",
       "0           0          1         0         0         0  \n",
       "1           0          1         0         0         0  \n",
       "2           0          1         0         0         0  \n",
       "3           0          1         0         0         0  \n",
       "4           0          1         0         0         0  \n",
       "\n",
       "[5 rows x 276 columns]"
      ]
     },
     "execution_count": 59,
     "metadata": {},
     "output_type": "execute_result"
    }
   ],
   "source": [
    "\n",
    "test=X_features.head()\n",
    "test"
   ]
  },
  {
   "cell_type": "code",
   "execution_count": 61,
   "metadata": {},
   "outputs": [
    {
     "ename": "ValueError",
     "evalue": "feature_names mismatch: ['f0', 'f1', 'f2', 'f3'] ['km', 'year', 'accident', 'wd', 'trim', 'brand_BMW', 'brand_기아', 'brand_랜드로버', 'brand_르노삼성', 'brand_미니', 'brand_벤츠', 'brand_쉐보레', 'brand_쌍용', 'brand_아우디', 'brand_제네시스', 'brand_포드', 'brand_폭스바겐', 'brand_현대', 'name_118', 'name_200 CDI', 'name_320', 'name_330', 'name_420   쿠페', 'name_420  그란쿠페', 'name_428   컨버터블', 'name_428   쿠페', 'name_520', 'name_528', 'name_530', 'name_640    그란쿠페', 'name_730', 'name_730Ld', 'name_740', 'name_740Li', 'name_750Ld', 'name_750Li', 'name_A200', 'name_A220', 'name_A3', 'name_A4', 'name_A45', 'name_A5', 'name_A6', 'name_A7', 'name_A8', 'name_B200', 'name_C200', 'name_C220', 'name_C220 CDI', 'name_C220 블루텍', 'name_C63', 'name_CC TDI', 'name_CC TSI', 'name_CC 블루모션', 'name_CLA220', 'name_CLA250', 'name_CLA45', 'name_CLS250', 'name_CLS350', 'name_CLS4.0', 'name_CLS450', 'name_CLS63', 'name_E200', 'name_E220', 'name_E220 CDI', 'name_E220 블루텍', 'name_E250', 'name_E250 CDI', 'name_E250 블루텍', 'name_E300', 'name_E350', 'name_E400', 'name_EQ900', 'name_F150 3.5', 'name_F150 5.0L', 'name_G63', 'name_G70', 'name_G80', 'name_G80(RG3)', 'name_G90', 'name_GLA220', 'name_GLA45', 'name_GLC220', 'name_GLC250', 'name_GLC300', 'name_GLC350e', 'name_GLC43', 'name_GLE350', 'name_GLK220 CDI', 'name_GT TDI', 'name_GV70', 'name_GV80', 'name_K3', 'name_K5', 'name_K7', 'name_K8', 'name_K9', 'name_LF쏘나타', 'name_M3', 'name_M5', 'name_M6', 'name_ML350 블루텍', 'name_Q3', 'name_Q5', 'name_Q7', 'name_Q8', 'name_QM5', 'name_QM6', 'name_R8', 'name_S3', 'name_S350', 'name_S350 블루텍', 'name_S350L', 'name_S350L 블루텍', 'name_S4', 'name_S4.0', 'name_S5', 'name_S500', 'name_S500L', 'name_S550', 'name_S560', 'name_S6', 'name_S600', 'name_S63', 'name_S7', 'name_S8', 'name_SM3', 'name_SM5', 'name_SM6', 'name_SM7', 'name_TT', 'name_X1  20', 'name_X4 20', 'name_X5  30', 'name_X6 30', 'name_X6 40', 'name_e-트론', 'name_i3', 'name_i30', 'name_i40', 'name_골프 ', 'name_골프 TDI', 'name_골프 TSI', 'name_골프 블루모션', 'name_그랜드스타렉스', 'name_그랜저', 'name_그랜저HG', 'name_그랜저IG', 'name_뉴 CC TSI', 'name_뉴 CC 블루모션', 'name_니로', 'name_다마스', 'name_디스커버리 SE', 'name_라세티', 'name_레이', 'name_레인지로버 ', 'name_레인지로버 AB', 'name_레인지로버 SE', 'name_레인지로버 Vogue', 'name_렉스턴 ', 'name_렉스턴 RX4', 'name_렉스턴 RX6', 'name_렉스턴 RX7', 'name_로드스터 ', 'name_로디우스 ', 'name_로체', 'name_마티즈', 'name_말리부', 'name_맥스크루즈', 'name_머스탱 컨버터블', 'name_머스탱 쿠페', 'name_모닝', 'name_모하비', 'name_몬데오 2.0 트렌드', 'name_몬데오 2.0 티타늄', 'name_베뉴', 'name_벨로스터', 'name_벨로스터(JS)', 'name_볼트', 'name_봉고3', 'name_비틀 ', 'name_비틀 TDI', 'name_셀토스', 'name_스타렉스', 'name_스타리아', 'name_스토닉', 'name_스팅어', 'name_스파크', 'name_스포티지', 'name_시로코 TDI', 'name_시로코 TSI', 'name_싼타페', 'name_쎄라토', 'name_쏘나타', 'name_쏘렌토', 'name_쏘렌토R', 'name_쏘울', 'name_쏠라티', 'name_아반떼', 'name_아반떼AD', 'name_아베오', 'name_아슬란', 'name_아테온 TDI', 'name_알페온', 'name_액티언 ', 'name_에쿠스', 'name_엑센트', 'name_엑센트(신형)', 'name_오피러스', 'name_올란도', 'name_옵티마', 'name_윈스톰', 'name_익스프레스밴', 'name_익스플로러 2.3', 'name_익스플로러 3.5', 'name_임팔라', 'name_제네시스', 'name_제타 TDI', 'name_제타 TSI', 'name_제타 블루모션', 'name_조에', 'name_체어맨 ', 'name_카니발', 'name_카렌스', 'name_카마로', 'name_카이런 ', 'name_캡처', 'name_캡티바', 'name_코나', 'name_코란도 ', 'name_코란도 어드벤처 60th 에디션', 'name_코란도 익스트림', 'name_콜로라도', 'name_쿠퍼 ', 'name_쿠퍼 5도어', 'name_쿠퍼 JCW', 'name_쿠퍼 SE', 'name_쿠퍼 컨트리맨', 'name_쿠퍼 컨트리맨 파크래인', 'name_크루즈', 'name_클리오', 'name_토러스 2.0 에코부스트', 'name_토러스 3.5', 'name_투싼', 'name_투싼ix', 'name_투아렉 TDI', 'name_투아렉 블루모션', 'name_트래버스', 'name_트랙스', 'name_트레일블레이저', 'name_트위지', 'name_티구안 TDI', 'name_티구안 TSI', 'name_티록 TDI', 'name_티볼리 ', 'name_파사트 ', 'name_파사트 TDI', 'name_파사트 TSI', 'name_팰리세이드', 'name_페이톤 TDI', 'name_펠리세이드', 'name_포르테', 'name_포터2 CRDi 카고', 'name_폴로 TDI', 'name_프라이드', 'name_프리랜더 SE', 'type_LPG', 'type_가솔린', 'type_디젤', 'type_바이퓨얼', 'type_전기', 'type_하이브리드', 'color_검정색', 'color_기타', 'color_회색', 'color_흰색']\nexpected f0, f3, f2, f1 in input data\ntraining data did not have the following fields: name_스타리아, name_A220, name_ML350 블루텍, name_로디우스 , name_카마로, name_E300, brand_르노삼성, name_E250 CDI, name_골프 블루모션, name_GV80, name_X4 20, name_S8, name_파사트 , name_그랜저HG, name_제타 블루모션, type_바이퓨얼, name_레인지로버 , type_하이브리드, name_CLA250, name_G70, name_750Ld, name_SM7, name_A3, name_벨로스터, name_CLS63, name_330, name_비틀 , km, name_G80, name_E350, name_볼트, name_쿠퍼 , name_렉스턴 RX6, brand_제네시스, name_CLA220, name_쿠퍼 5도어, brand_랜드로버, name_740Li, name_스팅어, name_C220 블루텍, name_X6 40, type_디젤, name_730Ld, name_클리오, name_익스플로러 2.3, color_검정색, name_렉스턴 RX4, name_코란도 익스트림, name_렉스턴 RX7, name_마티즈, trim, name_아테온 TDI, name_S500L, name_E250 블루텍, name_아반떼, name_레인지로버 SE, name_스토닉, name_428   컨버터블, name_벨로스터(JS), name_옵티마, name_제타 TDI, name_K7, name_투아렉 블루모션, name_GLE350, name_A200, name_싼타페, name_GLC300, name_익스프레스밴, name_파사트 TSI, name_S560, brand_벤츠, name_트랙스, name_QM6, name_쎄라토, name_쏠라티, name_임팔라, name_A4, color_기타, brand_현대, name_E220, name_머스탱 쿠페, name_LF쏘나타, brand_아우디, name_M5, name_E200, name_그랜저IG, name_알페온, name_펠리세이드, name_쿠퍼 SE, brand_폭스바겐, name_M6, name_포터2 CRDi 카고, name_티구안 TSI, name_S5, name_티구안 TDI, type_가솔린, name_캡티바, name_쿠퍼 컨트리맨, name_그랜드스타렉스, name_GLA45, name_528, name_S7, name_S350, name_E400, name_GLA220, name_티볼리 , name_C63, name_에쿠스, name_420  그란쿠페, name_640    그란쿠페, name_740, name_SM5, name_S500, name_골프 , name_트레일블레이저, name_레인지로버 Vogue, name_프리랜더 SE, name_F150 3.5, name_쿠퍼 JCW, accident, name_S350L, name_SM3, name_G90, name_쏘렌토, brand_쉐보레, name_420   쿠페, name_E250, name_A6, name_그랜저, name_코란도 어드벤처 60th 에디션, name_E220 블루텍, name_니로, name_액티언 , name_아반떼AD, brand_미니, brand_포드, name_CC TSI, name_CC TDI, year, name_X5  30, name_M3, name_카이런 , name_조에, name_K3, name_GLC220, brand_쌍용, name_트래버스, name_CLS450, name_e-트론, color_회색, name_A5, name_시로코 TSI, name_S4, name_750Li, name_렉스턴 , name_비틀 TDI, name_C200, name_시로코 TDI, name_GLK220 CDI, name_QM5, name_스타렉스, name_118, brand_BMW, name_Q7, name_카렌스, name_모닝, name_토러스 2.0 에코부스트, name_엑센트, name_X1  20, name_200 CDI, name_셀토스, name_F150 5.0L, name_레이, name_E220 CDI, name_X6 30, name_CLS4.0, name_페이톤 TDI, name_오피러스, name_제네시스, name_쏘울, wd, name_윈스톰, name_GV70, name_GLC43, name_C220, name_토러스 3.5, name_Q8, name_R8, name_디스커버리 SE, name_쿠퍼 컨트리맨 파크래인, name_크루즈, name_SM6, name_머스탱 컨버터블, name_GLC350e, name_S550, name_쏘나타, name_콜로라도, name_GLC250, name_아슬란, name_C220 CDI, brand_기아, name_스파크, name_체어맨 , name_레인지로버 AB, name_팰리세이드, name_S63, name_CLA45, name_730, name_Q3, name_S4.0, name_트위지, name_K9, name_320, name_스포티지, name_몬데오 2.0 트렌드, name_GT TDI, name_모하비, name_카니발, name_골프 TDI, name_제타 TSI, color_흰색, name_Q5, name_i40, name_S350 블루텍, name_파사트 TDI, name_로드스터 , name_포르테, name_투싼ix, name_골프 TSI, type_LPG, name_i3, name_A8, name_A7, name_맥스크루즈, type_전기, name_뉴 CC 블루모션, name_쏘렌토R, name_익스플로러 3.5, name_뉴 CC TSI, name_S3, name_말리부, name_K8, name_i30, name_B200, name_캡처, name_티록 TDI, name_520, name_A45, name_베뉴, name_G63, name_428   쿠페, name_라세티, name_올란도, name_CC 블루모션, name_S350L 블루텍, name_G80(RG3), name_코란도 , name_투아렉 TDI, name_폴로 TDI, name_CLS250, name_S600, name_몬데오 2.0 티타늄, name_봉고3, name_CLS350, name_다마스, name_코나, name_EQ900, name_로체, name_TT, name_K5, name_530, name_S6, name_엑센트(신형), name_아베오, name_투싼, name_프라이드",
     "output_type": "error",
     "traceback": [
      "\u001b[1;31m---------------------------------------------------------------------------\u001b[0m",
      "\u001b[1;31mValueError\u001b[0m                                Traceback (most recent call last)",
      "\u001b[1;32m<ipython-input-61-c7671397c0c1>\u001b[0m in \u001b[0;36m<module>\u001b[1;34m\u001b[0m\n\u001b[1;32m----> 1\u001b[1;33m \u001b[0mxgb_pred\u001b[0m \u001b[1;33m=\u001b[0m \u001b[0mxgb_reg\u001b[0m\u001b[1;33m.\u001b[0m\u001b[0mpredict\u001b[0m\u001b[1;33m(\u001b[0m\u001b[0mX_test\u001b[0m\u001b[1;33m)\u001b[0m\u001b[1;33m\u001b[0m\u001b[1;33m\u001b[0m\u001b[0m\n\u001b[0m",
      "\u001b[1;32mC:\\ProgramData\\Anaconda3\\lib\\site-packages\\xgboost\\sklearn.py\u001b[0m in \u001b[0;36mpredict\u001b[1;34m(self, data, output_margin, ntree_limit, validate_features, base_margin)\u001b[0m\n\u001b[0;32m    649\u001b[0m         \u001b[1;32mif\u001b[0m \u001b[0mntree_limit\u001b[0m \u001b[1;32mis\u001b[0m \u001b[1;32mNone\u001b[0m\u001b[1;33m:\u001b[0m\u001b[1;33m\u001b[0m\u001b[1;33m\u001b[0m\u001b[0m\n\u001b[0;32m    650\u001b[0m             \u001b[0mntree_limit\u001b[0m \u001b[1;33m=\u001b[0m \u001b[0mgetattr\u001b[0m\u001b[1;33m(\u001b[0m\u001b[0mself\u001b[0m\u001b[1;33m,\u001b[0m \u001b[1;34m\"best_ntree_limit\"\u001b[0m\u001b[1;33m,\u001b[0m \u001b[1;36m0\u001b[0m\u001b[1;33m)\u001b[0m\u001b[1;33m\u001b[0m\u001b[1;33m\u001b[0m\u001b[0m\n\u001b[1;32m--> 651\u001b[1;33m         return self.get_booster().predict(test_dmatrix,\n\u001b[0m\u001b[0;32m    652\u001b[0m                                           \u001b[0moutput_margin\u001b[0m\u001b[1;33m=\u001b[0m\u001b[0moutput_margin\u001b[0m\u001b[1;33m,\u001b[0m\u001b[1;33m\u001b[0m\u001b[1;33m\u001b[0m\u001b[0m\n\u001b[0;32m    653\u001b[0m                                           \u001b[0mntree_limit\u001b[0m\u001b[1;33m=\u001b[0m\u001b[0mntree_limit\u001b[0m\u001b[1;33m,\u001b[0m\u001b[1;33m\u001b[0m\u001b[1;33m\u001b[0m\u001b[0m\n",
      "\u001b[1;32mC:\\ProgramData\\Anaconda3\\lib\\site-packages\\xgboost\\core.py\u001b[0m in \u001b[0;36mpredict\u001b[1;34m(self, data, output_margin, ntree_limit, pred_leaf, pred_contribs, approx_contribs, pred_interactions, validate_features, training)\u001b[0m\n\u001b[0;32m   1483\u001b[0m \u001b[1;33m\u001b[0m\u001b[0m\n\u001b[0;32m   1484\u001b[0m         \u001b[1;32mif\u001b[0m \u001b[0mvalidate_features\u001b[0m\u001b[1;33m:\u001b[0m\u001b[1;33m\u001b[0m\u001b[1;33m\u001b[0m\u001b[0m\n\u001b[1;32m-> 1485\u001b[1;33m             \u001b[0mself\u001b[0m\u001b[1;33m.\u001b[0m\u001b[0m_validate_features\u001b[0m\u001b[1;33m(\u001b[0m\u001b[0mdata\u001b[0m\u001b[1;33m)\u001b[0m\u001b[1;33m\u001b[0m\u001b[1;33m\u001b[0m\u001b[0m\n\u001b[0m\u001b[0;32m   1486\u001b[0m \u001b[1;33m\u001b[0m\u001b[0m\n\u001b[0;32m   1487\u001b[0m         \u001b[0mlength\u001b[0m \u001b[1;33m=\u001b[0m \u001b[0mc_bst_ulong\u001b[0m\u001b[1;33m(\u001b[0m\u001b[1;33m)\u001b[0m\u001b[1;33m\u001b[0m\u001b[1;33m\u001b[0m\u001b[0m\n",
      "\u001b[1;32mC:\\ProgramData\\Anaconda3\\lib\\site-packages\\xgboost\\core.py\u001b[0m in \u001b[0;36m_validate_features\u001b[1;34m(self, data)\u001b[0m\n\u001b[0;32m   2058\u001b[0m                             ', '.join(str(s) for s in my_missing))\n\u001b[0;32m   2059\u001b[0m \u001b[1;33m\u001b[0m\u001b[0m\n\u001b[1;32m-> 2060\u001b[1;33m                 raise ValueError(msg.format(self.feature_names,\n\u001b[0m\u001b[0;32m   2061\u001b[0m                                             data.feature_names))\n\u001b[0;32m   2062\u001b[0m \u001b[1;33m\u001b[0m\u001b[0m\n",
      "\u001b[1;31mValueError\u001b[0m: feature_names mismatch: ['f0', 'f1', 'f2', 'f3'] ['km', 'year', 'accident', 'wd', 'trim', 'brand_BMW', 'brand_기아', 'brand_랜드로버', 'brand_르노삼성', 'brand_미니', 'brand_벤츠', 'brand_쉐보레', 'brand_쌍용', 'brand_아우디', 'brand_제네시스', 'brand_포드', 'brand_폭스바겐', 'brand_현대', 'name_118', 'name_200 CDI', 'name_320', 'name_330', 'name_420   쿠페', 'name_420  그란쿠페', 'name_428   컨버터블', 'name_428   쿠페', 'name_520', 'name_528', 'name_530', 'name_640    그란쿠페', 'name_730', 'name_730Ld', 'name_740', 'name_740Li', 'name_750Ld', 'name_750Li', 'name_A200', 'name_A220', 'name_A3', 'name_A4', 'name_A45', 'name_A5', 'name_A6', 'name_A7', 'name_A8', 'name_B200', 'name_C200', 'name_C220', 'name_C220 CDI', 'name_C220 블루텍', 'name_C63', 'name_CC TDI', 'name_CC TSI', 'name_CC 블루모션', 'name_CLA220', 'name_CLA250', 'name_CLA45', 'name_CLS250', 'name_CLS350', 'name_CLS4.0', 'name_CLS450', 'name_CLS63', 'name_E200', 'name_E220', 'name_E220 CDI', 'name_E220 블루텍', 'name_E250', 'name_E250 CDI', 'name_E250 블루텍', 'name_E300', 'name_E350', 'name_E400', 'name_EQ900', 'name_F150 3.5', 'name_F150 5.0L', 'name_G63', 'name_G70', 'name_G80', 'name_G80(RG3)', 'name_G90', 'name_GLA220', 'name_GLA45', 'name_GLC220', 'name_GLC250', 'name_GLC300', 'name_GLC350e', 'name_GLC43', 'name_GLE350', 'name_GLK220 CDI', 'name_GT TDI', 'name_GV70', 'name_GV80', 'name_K3', 'name_K5', 'name_K7', 'name_K8', 'name_K9', 'name_LF쏘나타', 'name_M3', 'name_M5', 'name_M6', 'name_ML350 블루텍', 'name_Q3', 'name_Q5', 'name_Q7', 'name_Q8', 'name_QM5', 'name_QM6', 'name_R8', 'name_S3', 'name_S350', 'name_S350 블루텍', 'name_S350L', 'name_S350L 블루텍', 'name_S4', 'name_S4.0', 'name_S5', 'name_S500', 'name_S500L', 'name_S550', 'name_S560', 'name_S6', 'name_S600', 'name_S63', 'name_S7', 'name_S8', 'name_SM3', 'name_SM5', 'name_SM6', 'name_SM7', 'name_TT', 'name_X1  20', 'name_X4 20', 'name_X5  30', 'name_X6 30', 'name_X6 40', 'name_e-트론', 'name_i3', 'name_i30', 'name_i40', 'name_골프 ', 'name_골프 TDI', 'name_골프 TSI', 'name_골프 블루모션', 'name_그랜드스타렉스', 'name_그랜저', 'name_그랜저HG', 'name_그랜저IG', 'name_뉴 CC TSI', 'name_뉴 CC 블루모션', 'name_니로', 'name_다마스', 'name_디스커버리 SE', 'name_라세티', 'name_레이', 'name_레인지로버 ', 'name_레인지로버 AB', 'name_레인지로버 SE', 'name_레인지로버 Vogue', 'name_렉스턴 ', 'name_렉스턴 RX4', 'name_렉스턴 RX6', 'name_렉스턴 RX7', 'name_로드스터 ', 'name_로디우스 ', 'name_로체', 'name_마티즈', 'name_말리부', 'name_맥스크루즈', 'name_머스탱 컨버터블', 'name_머스탱 쿠페', 'name_모닝', 'name_모하비', 'name_몬데오 2.0 트렌드', 'name_몬데오 2.0 티타늄', 'name_베뉴', 'name_벨로스터', 'name_벨로스터(JS)', 'name_볼트', 'name_봉고3', 'name_비틀 ', 'name_비틀 TDI', 'name_셀토스', 'name_스타렉스', 'name_스타리아', 'name_스토닉', 'name_스팅어', 'name_스파크', 'name_스포티지', 'name_시로코 TDI', 'name_시로코 TSI', 'name_싼타페', 'name_쎄라토', 'name_쏘나타', 'name_쏘렌토', 'name_쏘렌토R', 'name_쏘울', 'name_쏠라티', 'name_아반떼', 'name_아반떼AD', 'name_아베오', 'name_아슬란', 'name_아테온 TDI', 'name_알페온', 'name_액티언 ', 'name_에쿠스', 'name_엑센트', 'name_엑센트(신형)', 'name_오피러스', 'name_올란도', 'name_옵티마', 'name_윈스톰', 'name_익스프레스밴', 'name_익스플로러 2.3', 'name_익스플로러 3.5', 'name_임팔라', 'name_제네시스', 'name_제타 TDI', 'name_제타 TSI', 'name_제타 블루모션', 'name_조에', 'name_체어맨 ', 'name_카니발', 'name_카렌스', 'name_카마로', 'name_카이런 ', 'name_캡처', 'name_캡티바', 'name_코나', 'name_코란도 ', 'name_코란도 어드벤처 60th 에디션', 'name_코란도 익스트림', 'name_콜로라도', 'name_쿠퍼 ', 'name_쿠퍼 5도어', 'name_쿠퍼 JCW', 'name_쿠퍼 SE', 'name_쿠퍼 컨트리맨', 'name_쿠퍼 컨트리맨 파크래인', 'name_크루즈', 'name_클리오', 'name_토러스 2.0 에코부스트', 'name_토러스 3.5', 'name_투싼', 'name_투싼ix', 'name_투아렉 TDI', 'name_투아렉 블루모션', 'name_트래버스', 'name_트랙스', 'name_트레일블레이저', 'name_트위지', 'name_티구안 TDI', 'name_티구안 TSI', 'name_티록 TDI', 'name_티볼리 ', 'name_파사트 ', 'name_파사트 TDI', 'name_파사트 TSI', 'name_팰리세이드', 'name_페이톤 TDI', 'name_펠리세이드', 'name_포르테', 'name_포터2 CRDi 카고', 'name_폴로 TDI', 'name_프라이드', 'name_프리랜더 SE', 'type_LPG', 'type_가솔린', 'type_디젤', 'type_바이퓨얼', 'type_전기', 'type_하이브리드', 'color_검정색', 'color_기타', 'color_회색', 'color_흰색']\nexpected f0, f3, f2, f1 in input data\ntraining data did not have the following fields: name_스타리아, name_A220, name_ML350 블루텍, name_로디우스 , name_카마로, name_E300, brand_르노삼성, name_E250 CDI, name_골프 블루모션, name_GV80, name_X4 20, name_S8, name_파사트 , name_그랜저HG, name_제타 블루모션, type_바이퓨얼, name_레인지로버 , type_하이브리드, name_CLA250, name_G70, name_750Ld, name_SM7, name_A3, name_벨로스터, name_CLS63, name_330, name_비틀 , km, name_G80, name_E350, name_볼트, name_쿠퍼 , name_렉스턴 RX6, brand_제네시스, name_CLA220, name_쿠퍼 5도어, brand_랜드로버, name_740Li, name_스팅어, name_C220 블루텍, name_X6 40, type_디젤, name_730Ld, name_클리오, name_익스플로러 2.3, color_검정색, name_렉스턴 RX4, name_코란도 익스트림, name_렉스턴 RX7, name_마티즈, trim, name_아테온 TDI, name_S500L, name_E250 블루텍, name_아반떼, name_레인지로버 SE, name_스토닉, name_428   컨버터블, name_벨로스터(JS), name_옵티마, name_제타 TDI, name_K7, name_투아렉 블루모션, name_GLE350, name_A200, name_싼타페, name_GLC300, name_익스프레스밴, name_파사트 TSI, name_S560, brand_벤츠, name_트랙스, name_QM6, name_쎄라토, name_쏠라티, name_임팔라, name_A4, color_기타, brand_현대, name_E220, name_머스탱 쿠페, name_LF쏘나타, brand_아우디, name_M5, name_E200, name_그랜저IG, name_알페온, name_펠리세이드, name_쿠퍼 SE, brand_폭스바겐, name_M6, name_포터2 CRDi 카고, name_티구안 TSI, name_S5, name_티구안 TDI, type_가솔린, name_캡티바, name_쿠퍼 컨트리맨, name_그랜드스타렉스, name_GLA45, name_528, name_S7, name_S350, name_E400, name_GLA220, name_티볼리 , name_C63, name_에쿠스, name_420  그란쿠페, name_640    그란쿠페, name_740, name_SM5, name_S500, name_골프 , name_트레일블레이저, name_레인지로버 Vogue, name_프리랜더 SE, name_F150 3.5, name_쿠퍼 JCW, accident, name_S350L, name_SM3, name_G90, name_쏘렌토, brand_쉐보레, name_420   쿠페, name_E250, name_A6, name_그랜저, name_코란도 어드벤처 60th 에디션, name_E220 블루텍, name_니로, name_액티언 , name_아반떼AD, brand_미니, brand_포드, name_CC TSI, name_CC TDI, year, name_X5  30, name_M3, name_카이런 , name_조에, name_K3, name_GLC220, brand_쌍용, name_트래버스, name_CLS450, name_e-트론, color_회색, name_A5, name_시로코 TSI, name_S4, name_750Li, name_렉스턴 , name_비틀 TDI, name_C200, name_시로코 TDI, name_GLK220 CDI, name_QM5, name_스타렉스, name_118, brand_BMW, name_Q7, name_카렌스, name_모닝, name_토러스 2.0 에코부스트, name_엑센트, name_X1  20, name_200 CDI, name_셀토스, name_F150 5.0L, name_레이, name_E220 CDI, name_X6 30, name_CLS4.0, name_페이톤 TDI, name_오피러스, name_제네시스, name_쏘울, wd, name_윈스톰, name_GV70, name_GLC43, name_C220, name_토러스 3.5, name_Q8, name_R8, name_디스커버리 SE, name_쿠퍼 컨트리맨 파크래인, name_크루즈, name_SM6, name_머스탱 컨버터블, name_GLC350e, name_S550, name_쏘나타, name_콜로라도, name_GLC250, name_아슬란, name_C220 CDI, brand_기아, name_스파크, name_체어맨 , name_레인지로버 AB, name_팰리세이드, name_S63, name_CLA45, name_730, name_Q3, name_S4.0, name_트위지, name_K9, name_320, name_스포티지, name_몬데오 2.0 트렌드, name_GT TDI, name_모하비, name_카니발, name_골프 TDI, name_제타 TSI, color_흰색, name_Q5, name_i40, name_S350 블루텍, name_파사트 TDI, name_로드스터 , name_포르테, name_투싼ix, name_골프 TSI, type_LPG, name_i3, name_A8, name_A7, name_맥스크루즈, type_전기, name_뉴 CC 블루모션, name_쏘렌토R, name_익스플로러 3.5, name_뉴 CC TSI, name_S3, name_말리부, name_K8, name_i30, name_B200, name_캡처, name_티록 TDI, name_520, name_A45, name_베뉴, name_G63, name_428   쿠페, name_라세티, name_올란도, name_CC 블루모션, name_S350L 블루텍, name_G80(RG3), name_코란도 , name_투아렉 TDI, name_폴로 TDI, name_CLS250, name_S600, name_몬데오 2.0 티타늄, name_봉고3, name_CLS350, name_다마스, name_코나, name_EQ900, name_로체, name_TT, name_K5, name_530, name_S6, name_엑센트(신형), name_아베오, name_투싼, name_프라이드"
     ]
    }
   ],
   "source": [
    "xgb_pred = xgb_reg.predict(X_test)\n",
    "\n",
    "value = xgb_reg.predict(X_test)\n",
    "np.expm1(value)"
   ]
  },
  {
   "cell_type": "code",
   "execution_count": 55,
   "metadata": {},
   "outputs": [
    {
     "data": {
      "text/plain": [
       "0     650.0\n",
       "1     940.0\n",
       "2    1890.0\n",
       "3    3190.0\n",
       "4     820.0\n",
       "Name: price, dtype: float64"
      ]
     },
     "execution_count": 55,
     "metadata": {},
     "output_type": "execute_result"
    }
   ],
   "source": [
    "np.expm1(y_target).head()"
   ]
  },
  {
   "cell_type": "markdown",
   "metadata": {},
   "source": [
    "### 아무것도 처리 안한것:\n",
    "\n",
    "- LinearRegression 로그 변환된 RMSE: 0.173\n",
    "- LinearRegression R2: 0.938\n",
    "\n",
    "- Ridge 로그 변환된 RMSE: 0.173\n",
    "- Ridge R2: 0.938\n",
    "\n",
    "- Lasso 로그 변환된 RMSE: 0.6\n",
    "- Lasso R2: 0.246\n",
    "\n",
    "### 5폴드 교차검증한것:\n",
    "\n",
    "- Ridge 5 CV 시 최적 평균 RMSE 값: 0.4056\n",
    "- Ridge 5 CV 시 최적 평균 R2 값: 0.7056\n",
    "\n",
    "- Lasso 5 CV 시 최적 평균 RMSE 값: 0.4085\n",
    "- Lasso 5 CV 시 최적 평균 R2 값: 0.6957\n",
    "\n",
    "- XGBRegressor 5 CV 시 최적 평균 RMSE 값: 0.3801\n",
    "- XGBRegressor 5 CV 시 최적 평균 R2 값: 0.7458\n",
    "\n",
    "- LGBMRegressor 5 CV 시 최적 평균 RMSE 값: 0.3938\n",
    "- LGBMRegressor 5 CV 시 최적 평균 R2 값: 0.7204\n",
    "\n",
    "### 최적의 하이퍼파라미터 적용한것\n",
    "\n",
    "- LinearRegression 로그 변환된 RMSE: 0.173\n",
    "- LinearRegression R2: 0.938\n",
    "\n",
    "- Ridge 로그 변환된 RMSE: 0.182\n",
    "- Ridge R2: 0.931\n",
    "\n",
    "- Lasso 로그 변환된 RMSE: 0.239\n",
    "- Lasso R2: 0.88\n",
    "\n",
    "- XGBM 모델의 RMSE: 0.131\n",
    "- XGBM 모델의 R2: 0.964\n",
    "\n",
    "- LGBM 모델의 RMSE: 0.188\n",
    "- LGBM 모델의 R2: 0.926\n",
    "\n",
    "### 혼합한것\n",
    "\n",
    "- 릿지 60%, 라쏘 40% 최종 혼합 모델의 RMSE: 0.198\n",
    "- 릿지 60%, 라쏘 40% 최종 혼합 모델의 R2: 0.918\n",
    "\n",
    "- XGBM 50%, LGBM 50% 혼합 모델의 RMSE: 0.153\n",
    "- XGBM 50%, LGBM 50% 혼합 모델의 R2: 0.951\n",
    "\n",
    "### 스태킹 모델 적용한것\n",
    "\n",
    "- 릿지 모델 적용 스태킹 회귀 모델의 최종 RMSE 값은: 0.126\n",
    "- 릿지 모델 적용 스태킹 회귀 모델의 최종 R2 값은: 0.967\n",
    "\n",
    "- 라쏘 모델 적용 스태킹 회귀 모델의 최종 RMSE 값은: 0.128\n",
    "- 라쏘 모델 적용 스태킹 회귀 모델의 최종 R2 값은: 0.966\n",
    "\n",
    "- XGBoost 모델 적용 스태킹 회귀 모델의 최종 RMSE 값은: 0.124\n",
    "- XGBoost 모델 적용 스태킹 회귀 모델의 최종 R2 값은: 0.968\n",
    "\n",
    "- LightGBM 모델 적용 스태킹 회귀 모델의 최종 RMSE 값은: 0.136\n",
    "- LightGBM 모델 적용 스태킹 회귀 모델의 최종 R2 값은: 0.961"
   ]
  },
  {
   "cell_type": "code",
   "execution_count": 43,
   "metadata": {},
   "outputs": [],
   "source": [
    "# 사용자 입력 데이터 \n",
    "new_data = {'km':300000,'year':2018,'wd':0,'brand':'기아','trim':2}\n"
   ]
  },
  {
   "cell_type": "code",
   "execution_count": 44,
   "metadata": {},
   "outputs": [],
   "source": [
    "def make_dataset(inputdata) :\n",
    "    return make_df"
   ]
  }
 ],
 "metadata": {
  "kernelspec": {
   "display_name": "Python 3",
   "language": "python",
   "name": "python3"
  },
  "language_info": {
   "codemirror_mode": {
    "name": "ipython",
    "version": 3
   },
   "file_extension": ".py",
   "mimetype": "text/x-python",
   "name": "python",
   "nbconvert_exporter": "python",
   "pygments_lexer": "ipython3",
   "version": "3.8.8"
  }
 },
 "nbformat": 4,
 "nbformat_minor": 4
}
